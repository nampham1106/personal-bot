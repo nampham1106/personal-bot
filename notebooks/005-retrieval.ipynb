{
 "cells": [
  {
   "cell_type": "markdown",
   "id": "aeed81a1-0410-42ac-a5c5-34cc84ec6ca3",
   "metadata": {},
   "source": [
    "## Set up"
   ]
  },
  {
   "cell_type": "code",
   "execution_count": 1,
   "id": "d6b4d32b-1bfa-4051-a953-1c6653d6808b",
   "metadata": {},
   "outputs": [],
   "source": [
    "%load_ext autoreload\n",
    "%autoreload 2"
   ]
  },
  {
   "cell_type": "code",
   "execution_count": 2,
   "id": "d5a1e5b9-aa20-4a58-9b0a-6eaef3bb9b4d",
   "metadata": {},
   "outputs": [],
   "source": [
    "from loguru import logger\n",
    "import json\n",
    "\n",
    "import sys\n",
    "sys.path.insert(0, '..')"
   ]
  },
  {
   "cell_type": "code",
   "execution_count": 3,
   "id": "c399d050-b101-47e1-a0be-f5f9b30f5b1f",
   "metadata": {},
   "outputs": [],
   "source": [
    "import os\n",
    "\n",
    "from tqdm.notebook import tqdm\n",
    "import pandas as pd\n",
    "from llama_index.core.response.notebook_utils import display_source_node"
   ]
  },
  {
   "cell_type": "code",
   "execution_count": 4,
   "id": "aa659694-6ee7-43ec-8750-52684bc9b420",
   "metadata": {},
   "outputs": [],
   "source": [
    "import nest_asyncio \n",
    "\n",
    "nest_asyncio.apply()"
   ]
  },
  {
   "cell_type": "code",
   "execution_count": 5,
   "id": "852df1c6-8c6b-47e5-a7be-6719b51b26c6",
   "metadata": {},
   "outputs": [
    {
     "data": {
      "text/plain": [
       "True"
      ]
     },
     "execution_count": 5,
     "metadata": {},
     "output_type": "execute_result"
    }
   ],
   "source": [
    "from dotenv import load_dotenv\n",
    "load_dotenv()"
   ]
  },
  {
   "cell_type": "markdown",
   "id": "4c3c27be-df43-4d0f-af09-e59efe3c82ce",
   "metadata": {},
   "source": [
    "## Arguments input"
   ]
  },
  {
   "cell_type": "code",
   "execution_count": 6,
   "id": "72ee8c09-887a-468c-b5d3-cc375c40f17f",
   "metadata": {},
   "outputs": [
    {
     "data": {
      "text/plain": [
       "{\n",
       "  \"EXPERIMENT_NAME\": \"Healthcare bot\",\n",
       "  \"RUN_NAME\": \"01_create_retrieval_dataset\",\n",
       "  \"RUN_DESCRIPTION\": \"\\n# Objective\\nMake dataset for retrieval task\\n    \",\n",
       "  \"TESTING\": false,\n",
       "  \"DEBUG\": false,\n",
       "  \"OBSERVABILITY\": true,\n",
       "  \"LOG_TO_MLFLOW\": true,\n",
       "  \"CREATE_RETRIEVAL_EVAL_DATASET\": false,\n",
       "  \"RECREATE_RESPONSE_EVAL_DATASET\": false,\n",
       "  \"RECREATE_INDEX\": false\n",
       "}"
      ]
     },
     "execution_count": 6,
     "metadata": {},
     "output_type": "execute_result"
    }
   ],
   "source": [
    "from src.run.args import RunInputArgs\n",
    "\n",
    "# ARGS = RunInputArgs(\n",
    "#     EXPERIMENT_NAME=\"Review Rec Bot - Yelp Review Rec Bot\",\n",
    "#     RUN_NAME=\"025_modify_prompt_with_tree_summarize\",\n",
    "#     RUN_DESCRIPTION=\"\"\"\n",
    "# # Objective\n",
    "# Make the response from the LLM more adapted to the task of recommending places.\n",
    "\n",
    "# # Implementation\n",
    "# - ResponseMode=TreeSummarize\n",
    "# - Customize prompt\n",
    "\n",
    "# ## Changelog\n",
    "#     \"\"\",\n",
    "#     TESTING=False,\n",
    "#     DEBUG= False,\n",
    "#     OBSERVABILITY=True,\n",
    "#     LOG_TO_MLFLOW=True,\n",
    "#     CREATE_RETRIEVAL_EVAL_DATASET=False,\n",
    "#     RECREATE_RESPONSE_EVAL_DATASET=False,\n",
    "#     # Need to put to RECREATE_INDEX after the other RECREATE is to be able to access the information from those variables and modify them \n",
    "#     RECREATE_INDEX=False,\n",
    "# )\n",
    "# ARGS\n",
    "\n",
    "ARGS = RunInputArgs(\n",
    "    EXPERIMENT_NAME=\"Healthcare bot\",\n",
    "    RUN_NAME=\"01_create_retrieval_dataset\",\n",
    "    RUN_DESCRIPTION=\"\"\"\n",
    "# Objective\n",
    "Make dataset for retrieval task\n",
    "    \"\"\",\n",
    "    TESTING=False,\n",
    "    DEBUG=False,\n",
    "    OBSERVABILITY=True,\n",
    "    LOG_TO_MLFLOW=True,\n",
    "    CREATE_RETRIEVAL_EVAL_DATASET=False,\n",
    "    RECREATE_RESPONSE_EVAL_DATASET=False,\n",
    "    RECREATE_INDEX=False,\n",
    ")\n",
    "ARGS"
   ]
  },
  {
   "cell_type": "markdown",
   "id": "37e8cefe-95ad-4839-b383-e9b85c7eb815",
   "metadata": {},
   "source": [
    "## Load config"
   ]
  },
  {
   "cell_type": "code",
   "execution_count": 7,
   "id": "3a81c1d0-a264-40a2-b745-829c5c413efb",
   "metadata": {},
   "outputs": [],
   "source": [
    "from src.run.cfg import RunConfig"
   ]
  },
  {
   "cell_type": "code",
   "execution_count": 8,
   "id": "3a21852b-bdc2-4e3b-a2d3-87e3b44af946",
   "metadata": {},
   "outputs": [
    {
     "name": "stderr",
     "output_type": "stream",
     "text": [
      "\u001b[32m2024-09-23 10:12:37.930\u001b[0m | \u001b[1mINFO    \u001b[0m | \u001b[36msrc.run.cfg\u001b[0m:\u001b[36minit\u001b[0m:\u001b[36m136\u001b[0m - \u001b[1mStarting Observability server with Phoenix...\u001b[0m\n",
      "INFO:phoenix.config:📋 Ensuring phoenix working directory: /home/nampq/.phoenix\n",
      "\u001b[32m2024-09-23 10:12:43.979\u001b[0m | \u001b[1mINFO    \u001b[0m | \u001b[36msrc.run.cfg\u001b[0m:\u001b[36minit\u001b[0m:\u001b[36m157\u001b[0m - \u001b[1mSetting up MLflow experiment Healthcare bot - run 01_create_retrieval_dataset...\u001b[0m\n"
     ]
    },
    {
     "name": "stdout",
     "output_type": "stream",
     "text": [
      "🌍 To view the Phoenix app in your browser, visit http://localhost:6006/\n",
      "📖 For more information on how to use Phoenix, check out https://docs.arize.com/phoenix\n"
     ]
    },
    {
     "name": "stderr",
     "output_type": "stream",
     "text": [
      "2024/09/23 10:12:44 INFO mlflow.tracking.fluent: Experiment with name 'Healthcare bot' does not exist. Creating a new experiment.\n",
      "\u001b[32m2024-09-23 10:12:45.414\u001b[0m | \u001b[1mINFO    \u001b[0m | \u001b[36msrc.run.cfg\u001b[0m:\u001b[36minit\u001b[0m:\u001b[36m166\u001b[0m - \u001b[1mNotebook-generated artifacts are persisted at data/01_create_retrieval_dataset\u001b[0m\n"
     ]
    }
   ],
   "source": [
    "cfg = RunConfig()\n",
    "cfg.init(ARGS)"
   ]
  },
  {
   "cell_type": "code",
   "execution_count": 9,
   "id": "7e449a2d-2005-4943-adee-7cc0e2c8491b",
   "metadata": {},
   "outputs": [
    {
     "data": {
      "text/plain": [
       "{\n",
       "  \"args\": {\n",
       "    \"EXPERIMENT_NAME\": \"Healthcare bot\",\n",
       "    \"RUN_NAME\": \"01_create_retrieval_dataset\",\n",
       "    \"RUN_DESCRIPTION\": \"\\n# Objective\\nMake dataset for retrieval task\\n    \",\n",
       "    \"TESTING\": false,\n",
       "    \"DEBUG\": false,\n",
       "    \"OBSERVABILITY\": true,\n",
       "    \"LOG_TO_MLFLOW\": true,\n",
       "    \"CREATE_RETRIEVAL_EVAL_DATASET\": false,\n",
       "    \"RECREATE_RESPONSE_EVAL_DATASET\": false,\n",
       "    \"RECREATE_INDEX\": false\n",
       "  },\n",
       "  \"app_name\": \"review_rec_bot\",\n",
       "  \"storage_context_persist_dp\": \"/home/nampq/Desktop/projects/personal-bot/data/031_rerun/storage_context\",\n",
       "  \"vector_db\": \"qdrant\",\n",
       "  \"db_collection\": \"healthcare_bot_031_rerun\",\n",
       "  \"db_collection_fp\": \"/home/nampq/Desktop/projects/personal-bot/data/031_rerun/chroma_db\",\n",
       "  \"notebook_cache_dp\": \"data/01_create_retrieval_dataset\",\n",
       "  \"data_fp\": \"../data/yelp_dataset/sample/sample_100_biz/denom_review.parquet\",\n",
       "  \"llm_cfg\": {\n",
       "    \"llm_provider\": \"gemini\",\n",
       "    \"llm_model_name\": \"models/gemini-1.5-flash\",\n",
       "    \"embedding_provider\": \"huggingface\",\n",
       "    \"embedding_model_name\": \"/home/nampq/Desktop/projects/personal-bot/data/Alibaba-NLP/gte-multilingual-base\",\n",
       "    \"embedding_model_dim\": null,\n",
       "    \"ollama__host\": \"localhost\",\n",
       "    \"ollama__port\": 11434\n",
       "  },\n",
       "  \"retrieval_cfg\": {\n",
       "    \"retrieval_top_k\": 50,\n",
       "    \"retrieval_dense_top_k\": 50,\n",
       "    \"retrieval_sparse_top_k\": 50,\n",
       "    \"retrieval_simiarity_cutoff\": null,\n",
       "    \"rerank_top_k\": 10,\n",
       "    \"rerank_model_name\": \"BAAI/bge-reranker-v2-m3\"\n",
       "  },\n",
       "  \"eval_cfg\": {\n",
       "    \"retrieval_num_sample_nodes\": 30,\n",
       "    \"retrieval_eval_llm_model\": \"models/gemini-1.5-flash\",\n",
       "    \"retrieval_eval_llm_model_config\": {\n",
       "      \"temperature\": 0.3\n",
       "    },\n",
       "    \"retrieval_eval_num_questions_per_chunk\": 1,\n",
       "    \"retrieval_metrics\": [\n",
       "      \"hit_rate\",\n",
       "      \"mrr\",\n",
       "      \"precision\",\n",
       "      \"recall\",\n",
       "      \"ap\",\n",
       "      \"ndcg\"\n",
       "    ],\n",
       "    \"retrieval_eval_dataset_fp\": \"/home/nampq/Desktop/projects/personal-bot/data/031_rerun/retrieval_synthetic_eval_dataset.json\",\n",
       "    \"response_question_gen_query\": \"\\nb\\u1ea1n l\\u00e0 m\\u1ed9t tr\\u1ee3 l\\u00fd h\\u1eefu \\u00edch.\\n\\nnhi\\u1ec7m v\\u1ee5 c\\u1ee7a b\\u1ea1n l\\u00e0 t\\u1ea1o ra {num_questions_per_chunk} c\\u00e2u h\\u1ecfi ch\\u1ec9 d\\u1ef1a tr\\u00ean ng\\u1eef c\\u1ea3nh nh\\u1ea5t \\u0111\\u1ecbnh ch\\u1ee9 kh\\u00f4ng ph\\u1ea3i th\\u00f4ng tin tr\\u01b0\\u1edbc \\u0111\\u00f3.\\nC\\u00e1c c\\u00e2u h\\u1ecfi nh\\u1eb1m m\\u1ee5c \\u0111\\u00edch t\\u00ecm ki\\u1ebfm th\\u00f4ng tin v\\u1ec1 d\\u1ecbch v\\u1ee5 y t\\u1ebf, v\\u00ed d\\u1ee5: b\\u1ec7nh, b\\u00e1c s\\u0129, d\\u1ecbch v\\u1ee5 y t\\u1ebf, ...\\n\\n<V\\u00cd D\\u1ee4>\\nNg\\u1eef c\\u1ea3nh \\u0111\\u1ea7u v\\u00e0o: \\u0110\\u1ec3 gi\\u1ea3m th\\u1eddi gian ch\\u1edd \\u0111\\u1ee3i v\\u00e0 nh\\u1eadn \\u0111\\u01b0\\u1ee3c h\\u01b0\\u1edbng d\\u1eabn \\u0111i kh\\u00e1m t\\u1ea1i B\\u1ec7nh vi\\u1ec7n Ch\\u1ee3 R\\u1eaby, ng\\u01b0\\u1eddi b\\u1ec7nh vui l\\u00f2ng:\\nCh\\u1ecdn chuy\\u00ean khoa ph\\u00f9 h\\u1ee3p c\\u1ea7n \\u0111i kh\\u00e1m\\nCh\\u1ecdn th\\u1eddi gian \\u0111\\u1eb7t kh\\u00e1m\\n\\u0110\\u1eb7t h\\u1eb9n online tr\\u01b0\\u1edbc khi \\u0111\\u1ebfn kh\\u00e1m. \\nGI\\u1edaI THI\\u1ec6U\\nN\\u1ed9i Ph\\u1ed5i, B\\u1ec7nh vi\\u1ec7n Ch\\u1ee3 R\\u1eaby\\n\\u0110\\u1ecba ch\\u1ec9:\\nKhu A B\\u1ec7nh vi\\u1ec7n Ch\\u1ee3 R\\u1eaby - s\\u1ed1 201B Nguy\\u1ec5n Ch\\u00ed Thanh, Ph\\u01b0\\u1eddng 12, Qu\\u1eadn 5, H\\u1ed3 Ch\\u00ed Minh\\nTh\\u1eddi gian l\\u00e0m vi\\u1ec7c:\\nB\\u1ec7nh vi\\u1ec7n l\\u00e0m vi\\u1ec7c, ti\\u1ebfp nh\\u1eadn kh\\u00e1m b\\u1ec7nh cho b\\u1ec7nh nh\\u00e2n ngo\\u1ea1i tr\\u00fa t\\u1eeb th\\u1ee9 2 \\u0111\\u1ebfn th\\u1ee9 7 h\\u00e0ng tu\\u1ea7n:\\nTh\\u1ee9 2 \\u0111\\u1ebfn th\\u1ee9 6: t\\u1eeb 7h \\u2013 16h\\nTh\\u1ee9 7: t\\u1eeb 7h \\u2013 11h\\nL\\u01b0u \\u00fd th\\u00f4ng tin \\u0111\\u1eb7t l\\u1ecbch: \\nVui l\\u00f2ng ki\\u1ec3m tra k\\u0129 th\\u00f4ng tin c\\u00e1 nh\\u00e2n (h\\u1ecd t\\u00ean, gi\\u1edbi t\\u00ednh, n\\u0103m sinh, \\u0111\\u1ecba ch\\u1ec9, BHYT) tr\\u01b0\\u1edbc khi x\\u00e1c nh\\u1eadn \\u0111\\u1eb7t l\\u1ecbch kh\\u00e1m \\u0111\\u1ec3 tr\\u00e1nh sai s\\u00f3t v\\u00e0 ti\\u1ebft ki\\u1ec7m th\\u1eddi gian (\\nB\\u1ec7nh vi\\u1ec7n kh\\u00f4ng ch\\u1ea5p nh\\u1eadn v\\u1edbi l\\u1ecbch sai th\\u00f4ng tin) \\nTr\\u01b0\\u1eddng h\\u1ee3p \\u0111\\u1eb7t sai th\\u00f4ng tin, vui l\\u00f2ng \\u0111\\u1eb7t l\\u1ea1i b\\u1eb1ng s\\u1ed1 \\u0111i\\u1ec7n tho\\u1ea1i kh\\u00e1c.\\nC\\u00e2u h\\u1ecfi \\u0111\\u1ea7u ra: \\u0111\\u1ecba ch\\u1ec9 c\\u1ee7a b\\u1ec7nh vi\\u1ec7n Ch\\u1ee3 R\\u1eaby l\\u00e0 g\\u00ec?\\n\\nM\\u1ed9t s\\u1ed1 v\\u00ed d\\u1ee5 v\\u1ec1 c\\u00e1c c\\u00e2u h\\u1ecfi \\u0111\\u01b0\\u1ee3c t\\u1ea1o t\\u1ed1t: \\n- Quy tr\\u00ecnh kh\\u00e1m v\\u00e0 l\\u00e0m h\\u1ed3 s\\u01a1 sinh t\\u1ea1i B\\u1ec7nh vi\\u1ec7n B\\u1ea1ch Mai di\\u1ec5n ra nh\\u01b0 th\\u1ebf n\\u00e0o?\\n- \\u0110i\\u1ec1u tr\\u1ecb n\\u1ea5m da \\u0111\\u1ea7u nh\\u01b0 th\\u1ebf n\\u00e0o?\\n</V\\u00cd D\\u1ee4>\\n\\nQUY T\\u1eaeC QUAN TR\\u1eccNG:\\n- C\\u00e1c c\\u00e2u h\\u1ecfi \\u0111\\u01b0\\u1ee3c t\\u1ea1o ra ph\\u1ea3i c\\u1ee5 th\\u1ec3 v\\u1ec1 c\\u1ee5 th\\u1ec3  v\\u1ec1 m\\u1ed9t d\\u1ecbch v\\u1ee5 y t\\u1ebf \\u0111ang t\\u00ecm ki\\u1ebfm. M\\u1ed9t c\\u00e2u h\\u1ecfi hay s\\u1ebd c\\u00f3 c\\u00e2u tr\\u1ea3 l\\u1eddi \\u0111i\\u1ec3n h\\u00ecnh l\\u00e0: D\\u01b0\\u1edbi \\u0111\\u00e2y l\\u00e0 th\\u00f4ng tin v\\u1ec1 y\\u00eau c\\u1ea7u c\\u1ee7a b\\u1ea1n: Th\\u00f4ng tin v\\u1ec1 b\\u00e1c s\\u0129 A,..., Th\\u00f4ng tin v\\u1ec1 b\\u1ec7nh vi\\u1ec7n A\\n- H\\u1ea1n ch\\u1ebf c\\u00e1c c\\u00e2u h\\u1ecfi \\u0111\\u01b0\\u1ee3c t\\u1ea1o ra \\u0111\\u1ed1i v\\u1edbi th\\u00f4ng tin ng\\u1eef c\\u1ea3nh \\u0111\\u01b0\\u1ee3c cung c\\u1ea5p\\n- Ch\\u00fa \\u00fd \\u0111\\u1ebfn c\\u1ea3m x\\u00fac khi xem x\\u00e9t b\\u1ed1i c\\u1ea3nh. \\n- Kh\\u00f4ng \\u0111\\u1ec1 c\\u1eadp b\\u1ea5t c\\u1ee9 \\u0111i\\u1ec1u g\\u00ec v\\u1ec1 b\\u1ed1i c\\u1ea3nh trong c\\u00e1c truy v\\u1ea5n \\u0111\\u01b0\\u1ee3c t\\u1ea1o\\n- C\\u00e1c c\\u00e2u h\\u1ecfi \\u0111\\u01b0\\u1ee3c t\\u1ea1o ra ph\\u1ea3i t\\u1ef1 ho\\u00e0n ch\\u1ec9nh. \\u0110\\u1eebng cho r\\u1eb1ng ng\\u01b0\\u1eddi nh\\u1eadn c\\u00e2u h\\u1ecfi bi\\u1ebft b\\u1ea5t c\\u1ee9 \\u0111i\\u1ec1u g\\u00ec v\\u1ec1 ng\\u01b0\\u1eddi \\u0111\\u1eb7t c\\u00e2u h\\u1ecfi. v\\u00ed d\\u1ee5: kh\\u00f4ng bao gi\\u1edd s\\u1eed d\\u1ee5ng \\\"trong khu v\\u1ef1c c\\u1ee7a t\\u00f4i\\\" ho\\u1eb7c \\\"g\\u1ea7n t\\u00f4i\\\"\\n\",\n",
       "    \"response_synthetic_eval_dataset_fp\": \"/home/nampq/Desktop/projects/personal-bot/data/031_rerun/response_synthetic_eval_dataset.json\",\n",
       "    \"response_curated_eval_dataset_fp\": \"data/031_rerun/response_curated_eval_dataset.json\",\n",
       "    \"response_eval_llm_model\": \"gpt-4o-mini\",\n",
       "    \"response_eval_llm_model_config\": {\n",
       "      \"temperature\": 0.3\n",
       "    },\n",
       "    \"response_synthetic_num_questions_per_chunk\": 1,\n",
       "    \"response_num_sample_documents\": 30\n",
       "  },\n",
       "  \"batch_size\": 1\n",
       "}"
      ]
     },
     "execution_count": 9,
     "metadata": {},
     "output_type": "execute_result"
    }
   ],
   "source": [
    "cfg"
   ]
  },
  {
   "cell_type": "markdown",
   "id": "f3a71d7e-19c0-4696-938d-b6b357869f33",
   "metadata": {},
   "source": [
    "## Set up logger to collect additional info"
   ]
  },
  {
   "cell_type": "code",
   "execution_count": 10,
   "id": "e16d9fca-fd52-4cc8-b82e-60a075594e67",
   "metadata": {},
   "outputs": [
    {
     "data": {
      "text/plain": [
       "1"
      ]
     },
     "execution_count": 10,
     "metadata": {},
     "output_type": "execute_result"
    }
   ],
   "source": [
    "collect_fp = f\"{cfg.notebook_cache_dp}/collect.log\"\n",
    "logger.add(collect_fp, filter=lambda record: \"[COLLECT]\" in record[\"message\"], mode='w')"
   ]
  },
  {
   "cell_type": "markdown",
   "id": "919e417f-e10a-4fab-965e-f22f3dae697e",
   "metadata": {},
   "source": [
    "## Load input data"
   ]
  },
  {
   "cell_type": "code",
   "execution_count": 11,
   "id": "1aa08564-df27-4109-9a7f-156bfb8607dd",
   "metadata": {},
   "outputs": [
    {
     "name": "stderr",
     "output_type": "stream",
     "text": [
      "\u001b[32m2024-09-22 09:43:32.707\u001b[0m | \u001b[1mINFO    \u001b[0m | \u001b[36m__main__\u001b[0m:\u001b[36m<module>\u001b[0m:\u001b[36m6\u001b[0m - \u001b[1m[COLLECT] 5240\u001b[0m\n"
     ]
    },
    {
     "data": {
      "text/plain": [
       "review_id                                      L0jv8c2FbpWSlfNC6bbUEA\n",
       "user_id                                        bFPdtzu11Oi0f92EAcjqmg\n",
       "business_id                                    IDtLPgUrqorrpqSLdfMhZQ\n",
       "review_stars                                                        5\n",
       "useful                                                              0\n",
       "funny                                                               0\n",
       "cool                                                                0\n",
       "text                What a great addition to the Funk Zone!  Grab ...\n",
       "date                                              2016-10-13T22:50:47\n",
       "biz_name                                         Helena Avenue Bakery\n",
       "biz_address                                     131 Anacapa St, Ste C\n",
       "biz_city                                                Santa Barbara\n",
       "biz_state                                                          CA\n",
       "biz_postal_code                                                 93101\n",
       "biz_latitude                                                34.414445\n",
       "biz_longitude                                             -119.690672\n",
       "biz_stars                                                         4.0\n",
       "biz_review_count                                                  389\n",
       "biz_is_open                                                         1\n",
       "biz_attributes      {'AcceptsInsurance': None, 'Alcohol': 'u'none'...\n",
       "biz_categories      [Food, Restaurants, Salad, Coffee & Tea, Break...\n",
       "biz_hours           {'Friday': '8:0-14:0', 'Monday': '0:0-0:0', 'S...\n",
       "Name: 0, dtype: object"
      ]
     },
     "execution_count": 11,
     "metadata": {},
     "output_type": "execute_result"
    }
   ],
   "source": [
    "data = pd.read_parquet(cfg.data_fp)\n",
    "data = data.assign(\n",
    "    biz_categories=lambda df: df['biz_categories'].str.split(', '),\n",
    "    date=lambda df: df['date'].dt.strftime('%Y-%m-%dT%H:%M:%S')\n",
    ")\n",
    "logger.info(f\"[COLLECT] {len(data)}\")\n",
    "data.iloc[0]"
   ]
  },
  {
   "cell_type": "code",
   "execution_count": 12,
   "id": "4cd76e07-46fb-4551-9b29-12aa7aceaa29",
   "metadata": {},
   "outputs": [
    {
     "name": "stderr",
     "output_type": "stream",
     "text": [
      "\u001b[32m2024-09-22 09:43:32.737\u001b[0m | \u001b[1mINFO    \u001b[0m | \u001b[36m__main__\u001b[0m:\u001b[36m<module>\u001b[0m:\u001b[36m4\u001b[0m - \u001b[1m[COLLECT] len(input_data)=5240\u001b[0m\n"
     ]
    }
   ],
   "source": [
    "input_data = data\n",
    "if ARGS.TESTING: \n",
    "    input_data = data[:20]\n",
    "logger.info(f\"[COLLECT] {len(input_data)=}\")"
   ]
  },
  {
   "cell_type": "code",
   "execution_count": 13,
   "id": "c6074acb-5cca-40a2-b610-8001884a70c9",
   "metadata": {},
   "outputs": [
    {
     "data": {
      "text/plain": [
       "Index(['review_id', 'user_id', 'business_id', 'review_stars', 'useful',\n",
       "       'funny', 'cool', 'text', 'date', 'biz_name', 'biz_address', 'biz_city',\n",
       "       'biz_state', 'biz_postal_code', 'biz_latitude', 'biz_longitude',\n",
       "       'biz_stars', 'biz_review_count', 'biz_is_open', 'biz_attributes',\n",
       "       'biz_categories', 'biz_hours'],\n",
       "      dtype='object')"
      ]
     },
     "execution_count": 13,
     "metadata": {},
     "output_type": "execute_result"
    }
   ],
   "source": [
    "input_data.columns"
   ]
  },
  {
   "cell_type": "markdown",
   "id": "f3327c67-457e-4266-9870-e9b243b3a3da",
   "metadata": {},
   "source": [
    "## Prepare documents"
   ]
  },
  {
   "cell_type": "code",
   "execution_count": 14,
   "id": "b91395be-d499-42f1-9893-72b182d05313",
   "metadata": {},
   "outputs": [
    {
     "data": {
      "application/vnd.jupyter.widget-view+json": {
       "model_id": "7f40864e094f4aaf8a150477a7c73051",
       "version_major": 2,
       "version_minor": 0
      },
      "text/plain": [
       "  0%|          | 0/5240 [00:00<?, ?it/s]"
      ]
     },
     "metadata": {},
     "output_type": "display_data"
    },
    {
     "name": "stderr",
     "output_type": "stream",
     "text": [
      "\u001b[32m2024-09-22 09:43:33.231\u001b[0m | \u001b[1mINFO    \u001b[0m | \u001b[36m__main__\u001b[0m:\u001b[36m<module>\u001b[0m:\u001b[36m19\u001b[0m - \u001b[1m[COLLECT] len(documents)=5240\u001b[0m\n"
     ]
    }
   ],
   "source": [
    "from llama_index.core import Document\n",
    "\n",
    "documents = []\n",
    "embedding_visible_metadata = [\"review_stars\", \"biz_name\", \"biz_address\", \"biz_city\", \"biz_state\", \"biz_categories\"]\n",
    "excluded_embed_metadata_keys = [k for k in input_data.columns if k not in embedding_visible_metadata]\n",
    "\n",
    "for i, row in tqdm(input_data.iterrows(), total=len(input_data)):\n",
    "    record = row.to_dict()\n",
    "    text = record['text']\n",
    "    metadata = {k: v for k, v in record.items() if k not in ('text')}\n",
    "\n",
    "    doc = Document(\n",
    "        text=text,\n",
    "        metadata=metadata,\n",
    "        excluded_embed_metadata_keys=excluded_embed_metadata_keys,\n",
    "        excluded_llm_metadata_keys=excluded_embed_metadata_keys\n",
    "    )\n",
    "    documents.append(doc)\n",
    "logger.info(f\"[COLLECT] {len(documents)=}\")"
   ]
  },
  {
   "cell_type": "markdown",
   "id": "6a73e95f-3ce9-4f5b-82cf-02a631b5a68c",
   "metadata": {},
   "source": [
    "### check document embedding text"
   ]
  },
  {
   "cell_type": "code",
   "execution_count": 15,
   "id": "8f581c2d-71ec-4c11-af12-1a7292159638",
   "metadata": {},
   "outputs": [],
   "source": [
    "from llama_index.core.schema import MetadataMode"
   ]
  },
  {
   "cell_type": "code",
   "execution_count": 16,
   "id": "02b0d985-638e-4f40-a464-d4431245f971",
   "metadata": {},
   "outputs": [
    {
     "name": "stdout",
     "output_type": "stream",
     "text": [
      "review_stars: 5\n",
      "biz_name: Helena Avenue Bakery\n",
      "biz_address: 131 Anacapa St, Ste C\n",
      "biz_city: Santa Barbara\n",
      "biz_state: CA\n",
      "biz_categories: ['Food', 'Restaurants', 'Salad', 'Coffee & Tea', 'Breakfast & Brunch', 'Sandwiches', 'Bakeries']\n",
      "\n",
      "What a great addition to the Funk Zone!  Grab a bite, grab some tastings, life is good. Right next door to the Santa Barbara Wine Collective, in fact it actually shares the same tables.  We had a fabulous savory croissant.\n"
     ]
    }
   ],
   "source": [
    "document = documents[0]\n",
    "print(document.get_content(metadata_mode=MetadataMode.EMBED))"
   ]
  },
  {
   "cell_type": "markdown",
   "id": "237f636a-f1a9-4d14-a676-97fb4c823561",
   "metadata": {},
   "source": [
    "## Set up LLM"
   ]
  },
  {
   "cell_type": "code",
   "execution_count": 17,
   "id": "3ccb139f-b304-4b47-b986-bc2f10b3db45",
   "metadata": {},
   "outputs": [],
   "source": [
    "llm, embed_model = cfg.setup_llm()"
   ]
  },
  {
   "cell_type": "code",
   "execution_count": 18,
   "id": "452a97a6-1f29-4cc6-96bf-b390b7ad6d98",
   "metadata": {},
   "outputs": [
    {
     "name": "stdout",
     "output_type": "stream",
     "text": [
      "{\n",
      "  \"llm_provider\": \"ollama\",\n",
      "  \"llm_model_name\": \"qwen2.5:7b\",\n",
      "  \"embedding_provider\": \"huggingface\",\n",
      "  \"embedding_model_name\": \"/home/nampq/Desktop/projects/personal-bot/data/Alibaba-NLP/gte-multilingual-base\",\n",
      "  \"embedding_model_dim\": 768,\n",
      "  \"ollama__host\": \"localhost\",\n",
      "  \"ollama__port\": 11434\n",
      "}\n"
     ]
    }
   ],
   "source": [
    "print(cfg.llm_cfg.model_dump_json(indent=2))"
   ]
  },
  {
   "cell_type": "code",
   "execution_count": 19,
   "id": "9666649c-3113-4615-99b4-ca9858baadb3",
   "metadata": {},
   "outputs": [],
   "source": [
    "from llama_index.core import Settings\n",
    "Settings.embed_model = embed_model\n",
    "Settings.llm = llm"
   ]
  },
  {
   "cell_type": "markdown",
   "id": "13cdb501-e855-4903-ab6b-404d65cb429f",
   "metadata": {},
   "source": [
    "## Vector Store"
   ]
  },
  {
   "cell_type": "code",
   "execution_count": 20,
   "id": "a26f14b9-d9e1-4685-a02b-db4c67dc1902",
   "metadata": {},
   "outputs": [],
   "source": [
    "import qdrant_client\n",
    "from llama_index.core import VectorStoreIndex\n",
    "from llama_index.core import StorageContext\n",
    "from llama_index.vector_stores.qdrant import QdrantVectorStore\n",
    "\n",
    "from src.run.orchestrator import RunOrchestrator"
   ]
  },
  {
   "cell_type": "code",
   "execution_count": 21,
   "id": "88ca7eb5-bdcf-4ca6-bd2c-1b257abc3af1",
   "metadata": {},
   "outputs": [
    {
     "name": "stderr",
     "output_type": "stream",
     "text": [
      "WARNI [llama_index.vector_stores.qdrant.base] Both client and aclient are provided. If using `:memory:` mode, the data between clients is not synced.\n"
     ]
    }
   ],
   "source": [
    "qdrantdb = qdrant_client.QdrantClient(\n",
    "    host=\"localhost\",\n",
    "    port=6333\n",
    ")\n",
    "\n",
    "aqdrantdb = qdrant_client.AsyncQdrantClient(\n",
    "    host=\"localhost\",\n",
    "    port=6333\n",
    ")\n",
    "\n",
    "RunOrchestrator.setup_db(cfg=cfg, qdrantdb=qdrantdb)\n",
    "\n",
    "db_collection = qdrantdb.get_collection(\n",
    "    cfg.db_collection\n",
    ")\n",
    "vector_store = QdrantVectorStore(\n",
    "    client=qdrantdb,\n",
    "    collection_name=cfg.db_collection,\n",
    "    aclient=aqdrantdb,\n",
    "    enable_hybrid=False,\n",
    "    prefer_grpc=True\n",
    ")"
   ]
  },
  {
   "cell_type": "markdown",
   "id": "bdd4da5e-6ebf-4238-ac0d-c8289389b1b6",
   "metadata": {},
   "source": [
    "## Index Embeddings"
   ]
  },
  {
   "cell_type": "code",
   "execution_count": 22,
   "id": "12de0635-6e06-4d12-a8d0-7c6a0fb8ed39",
   "metadata": {},
   "outputs": [],
   "source": [
    "import time\n",
    "import pickle\n",
    "from multiprocessing import set_start_method\n",
    "from llama_index.core.storage.docstore import SimpleDocumentStore\n",
    "from llama_index.core.node_parser import SemanticSplitterNodeParser"
   ]
  },
  {
   "cell_type": "code",
   "execution_count": 23,
   "id": "8537da44-177f-4350-8104-26343a51fcb5",
   "metadata": {},
   "outputs": [],
   "source": [
    "chunker = SemanticSplitterNodeParser\n",
    "chunker_cfg = {\n",
    "    \"buffer_size\": 1,\n",
    "    \"breakpoint_percentile_threshold\": 95,\n",
    "    \"embed_model\": embed_model\n",
    "}"
   ]
  },
  {
   "cell_type": "code",
   "execution_count": 24,
   "id": "d7a05cab-d29f-428b-9989-39d19c011121",
   "metadata": {},
   "outputs": [],
   "source": [
    "documents = documents[:10]"
   ]
  },
  {
   "cell_type": "code",
   "execution_count": 25,
   "id": "2cfabc20-70ab-446b-a5b8-aa141270b6ab",
   "metadata": {},
   "outputs": [
    {
     "name": "stderr",
     "output_type": "stream",
     "text": [
      "\u001b[32m2024-09-22 09:43:38.880\u001b[0m | \u001b[1mINFO    \u001b[0m | \u001b[36m__main__\u001b[0m:\u001b[36m<module>\u001b[0m:\u001b[36m5\u001b[0m - \u001b[1mLoading Storage Context from /home/nampq/Desktop/projects/personal-bot/data/031_rerun/storage_context\u001b[0m\n"
     ]
    }
   ],
   "source": [
    "t0 = time.perf_counter()\n",
    "db_collection_count = db_collection.points_count\n",
    "\n",
    "if db_collection_count > 0 and ARGS.RECREATE_INDEX == False:\n",
    "    logger.info(f\"Loading Storage Context from {cfg.storage_context_persist_dp}\")\n",
    "    docstore = SimpleDocumentStore.from_persist_dir(persist_dir=cfg.storage_context_persist_dp)\n",
    "    storage_context = StorageContext.from_defaults(\n",
    "        docstore=docstore,\n",
    "        vector_store=vector_store\n",
    "    )\n",
    "    nodes = list(docstore.docs.values())\n",
    "else:\n",
    "    logger.info(f\"Creating new DB index...\")\n",
    "    from llama_index.core.extractors import TitleExtractor\n",
    "    from llama_index.core.ingestion import IngestionPipeline, IngestionCache\n",
    "\n",
    "    pipeline = IngestionPipeline(\n",
    "        transformations=[\n",
    "            chunker(**chunker_cfg),\n",
    "            embed_model,\n",
    "        ],\n",
    "        vector_store=vector_store\n",
    "    )\n",
    "    num_workers = None\n",
    "    logger.info(f\"Running Ingestion Pipeline with {num_workers=}...\")\n",
    "    nodes = await pipeline.arun(documents=documents, num_workers=num_workers, show_progress=True)\n",
    "\n",
    "    docstore = SimpleDocumentStore()\n",
    "    await docstore.async_add_documents(nodes)\n",
    "    storage_context = StorageContext.from_defaults(\n",
    "        docstore=docstore,\n",
    "        vector_store=vector_store\n",
    "    )\n",
    "    logger.info(f\"Persisting Storage Context to {cfg.storage_context_persist_dp}...\")\n",
    "    storage_context.persist(cfg.storage_context_persist_dp)\n",
    "\n",
    "t1 = time.perf_counter()"
   ]
  },
  {
   "cell_type": "code",
   "execution_count": 26,
   "id": "67fd63b5-fcbd-4bf2-900d-875a3f06f73d",
   "metadata": {},
   "outputs": [
    {
     "name": "stderr",
     "output_type": "stream",
     "text": [
      "\u001b[32m2024-09-22 09:43:38.923\u001b[0m | \u001b[1mINFO    \u001b[0m | \u001b[36m__main__\u001b[0m:\u001b[36m<module>\u001b[0m:\u001b[36m1\u001b[0m - \u001b[1mIndexing 10 documents into VectorStoreIndex took 0s\u001b[0m\n",
      "\u001b[32m2024-09-22 09:43:38.924\u001b[0m | \u001b[1mINFO    \u001b[0m | \u001b[36m__main__\u001b[0m:\u001b[36m<module>\u001b[0m:\u001b[36m2\u001b[0m - \u001b[1m[COLLECT] len(nodes)=20\u001b[0m\n"
     ]
    }
   ],
   "source": [
    "logger.info(f\"Indexing {len(documents)} documents into VectorStoreIndex took {t1 - t0:,.0f}s\")\n",
    "logger.info(f\"[COLLECT] {len(nodes)=}\")"
   ]
  },
  {
   "cell_type": "markdown",
   "id": "ba46cba0-a10e-4259-8934-28e1cc2d94bc",
   "metadata": {},
   "source": [
    "## Analyze Chunks"
   ]
  },
  {
   "cell_type": "code",
   "execution_count": 27,
   "id": "d317ca62-b533-49a6-9b2c-fd271aaebd54",
   "metadata": {},
   "outputs": [
    {
     "name": "stdout",
     "output_type": "stream",
     "text": [
      "\n",
      "\n",
      "===========Node 1============\n",
      "{'review_id': 'L0jv8c2FbpWSlfNC6bbUEA', 'user_id': 'bFPdtzu11Oi0f92EAcjqmg', 'business_id': 'IDtLPgUrqorrpqSLdfMhZQ', 'review_stars': 5, 'useful': 0, 'funny': 0, 'cool': 0, 'date': '2016-10-13T22:50:47', 'biz_name': 'Helena Avenue Bakery', 'biz_address': '131 Anacapa St, Ste C', 'biz_city': 'Santa Barbara', 'biz_state': 'CA', 'biz_postal_code': '93101', 'biz_latitude': 34.4144445, 'biz_longitude': -119.6906718, 'biz_stars': 4.0, 'biz_review_count': 389, 'biz_is_open': 1, 'biz_attributes': {'AcceptsInsurance': None, 'Alcohol': \"u'none'\", 'Ambience': \"{'touristy': False, 'hipster': True, 'romantic': False, 'divey': False, 'intimate': False, 'trendy': True, 'upscale': False, 'classy': False, 'casual': True}\", 'BYOB': None, 'BestNights': None, 'BikeParking': 'True', 'BusinessAcceptsBitcoin': None, 'BusinessAcceptsCreditCards': 'True', 'BusinessParking': \"{'garage': False, 'street': True, 'validated': False, 'lot': False, 'valet': False}\", 'ByAppointmentOnly': None, 'Caters': 'True', 'CoatCheck': None, 'Corkage': None, 'DogsAllowed': 'True', 'DriveThru': None, 'GoodForDancing': None, 'GoodForKids': 'True', 'GoodForMeal': \"{'dessert': False, 'latenight': False, 'lunch': True, 'dinner': False, 'brunch': True, 'breakfast': True}\", 'HappyHour': 'False', 'HasTV': 'False', 'Music': None, 'NoiseLevel': \"u'average'\", 'OutdoorSeating': 'True', 'RestaurantsAttire': \"'casual'\", 'RestaurantsDelivery': 'None', 'RestaurantsGoodForGroups': 'True', 'RestaurantsPriceRange2': '2', 'RestaurantsReservations': 'False', 'RestaurantsTableService': 'False', 'RestaurantsTakeOut': 'True', 'Smoking': None, 'WheelchairAccessible': 'True', 'WiFi': \"u'no'\"}, 'biz_categories': ['Food', 'Restaurants', 'Salad', 'Coffee & Tea', 'Breakfast & Brunch', 'Sandwiches', 'Bakeries'], 'biz_hours': {'Friday': '8:0-14:0', 'Monday': '0:0-0:0', 'Saturday': '8:0-14:0', 'Sunday': '8:0-14:0', 'Thursday': '8:0-14:0', 'Tuesday': '8:0-14:0', 'Wednesday': '8:0-14:0'}}\n",
      "What a great addition to the Funk Zone!  \n",
      "\n",
      "\n",
      "===========Node 2============\n",
      "{'review_id': 'L0jv8c2FbpWSlfNC6bbUEA', 'user_id': 'bFPdtzu11Oi0f92EAcjqmg', 'business_id': 'IDtLPgUrqorrpqSLdfMhZQ', 'review_stars': 5, 'useful': 0, 'funny': 0, 'cool': 0, 'date': '2016-10-13T22:50:47', 'biz_name': 'Helena Avenue Bakery', 'biz_address': '131 Anacapa St, Ste C', 'biz_city': 'Santa Barbara', 'biz_state': 'CA', 'biz_postal_code': '93101', 'biz_latitude': 34.4144445, 'biz_longitude': -119.6906718, 'biz_stars': 4.0, 'biz_review_count': 389, 'biz_is_open': 1, 'biz_attributes': {'AcceptsInsurance': None, 'Alcohol': \"u'none'\", 'Ambience': \"{'touristy': False, 'hipster': True, 'romantic': False, 'divey': False, 'intimate': False, 'trendy': True, 'upscale': False, 'classy': False, 'casual': True}\", 'BYOB': None, 'BestNights': None, 'BikeParking': 'True', 'BusinessAcceptsBitcoin': None, 'BusinessAcceptsCreditCards': 'True', 'BusinessParking': \"{'garage': False, 'street': True, 'validated': False, 'lot': False, 'valet': False}\", 'ByAppointmentOnly': None, 'Caters': 'True', 'CoatCheck': None, 'Corkage': None, 'DogsAllowed': 'True', 'DriveThru': None, 'GoodForDancing': None, 'GoodForKids': 'True', 'GoodForMeal': \"{'dessert': False, 'latenight': False, 'lunch': True, 'dinner': False, 'brunch': True, 'breakfast': True}\", 'HappyHour': 'False', 'HasTV': 'False', 'Music': None, 'NoiseLevel': \"u'average'\", 'OutdoorSeating': 'True', 'RestaurantsAttire': \"'casual'\", 'RestaurantsDelivery': 'None', 'RestaurantsGoodForGroups': 'True', 'RestaurantsPriceRange2': '2', 'RestaurantsReservations': 'False', 'RestaurantsTableService': 'False', 'RestaurantsTakeOut': 'True', 'Smoking': None, 'WheelchairAccessible': 'True', 'WiFi': \"u'no'\"}, 'biz_categories': ['Food', 'Restaurants', 'Salad', 'Coffee & Tea', 'Breakfast & Brunch', 'Sandwiches', 'Bakeries'], 'biz_hours': {'Friday': '8:0-14:0', 'Monday': '0:0-0:0', 'Saturday': '8:0-14:0', 'Sunday': '8:0-14:0', 'Thursday': '8:0-14:0', 'Tuesday': '8:0-14:0', 'Wednesday': '8:0-14:0'}}\n",
      "Grab a bite, grab some tastings, life is good. Right next door to the Santa Barbara Wine Collective, in fact it actually shares the same tables.  We had a fabulous savory croissant.\n",
      "\n",
      "\n",
      "===========Node 3============\n",
      "{'review_id': 'mMwnX1vc3tQUeDNS2wiKFw', 'user_id': 'f10WH1fXhy-68r4AEEhAWA', 'business_id': '9OG5YkX1g2GReZM0AskizA', 'review_stars': 4, 'useful': 0, 'funny': 0, 'cool': 0, 'date': '2016-01-30T03:16:46', 'biz_name': \"Romano's Macaroni Grill\", 'biz_address': '5505 S Virginia St', 'biz_city': 'Reno', 'biz_state': 'NV', 'biz_postal_code': '89502', 'biz_latitude': 39.4761165, 'biz_longitude': -119.7893392, 'biz_stars': 2.5, 'biz_review_count': 339, 'biz_is_open': 1, 'biz_attributes': {'AcceptsInsurance': None, 'Alcohol': \"'full_bar'\", 'Ambience': \"{u'divey': False, u'hipster': False, u'casual': True, u'touristy': False, u'trendy': False, u'intimate': False, u'romantic': None, u'classy': None, u'upscale': False}\", 'BYOB': None, 'BestNights': None, 'BikeParking': 'True', 'BusinessAcceptsBitcoin': None, 'BusinessAcceptsCreditCards': 'True', 'BusinessParking': \"{'garage': False, 'street': False, 'validated': False, 'lot': True, 'valet': False}\", 'ByAppointmentOnly': None, 'Caters': 'True', 'CoatCheck': None, 'Corkage': None, 'DogsAllowed': 'False', 'DriveThru': None, 'GoodForDancing': None, 'GoodForKids': 'True', 'GoodForMeal': \"{'dessert': None, 'latenight': False, 'lunch': True, 'dinner': True, 'brunch': None, 'breakfast': False}\", 'HappyHour': 'True', 'HasTV': 'True', 'Music': None, 'NoiseLevel': \"u'average'\", 'OutdoorSeating': 'True', 'RestaurantsAttire': \"'casual'\", 'RestaurantsDelivery': 'True', 'RestaurantsGoodForGroups': 'True', 'RestaurantsPriceRange2': '2', 'RestaurantsReservations': 'True', 'RestaurantsTableService': 'True', 'RestaurantsTakeOut': 'True', 'Smoking': None, 'WheelchairAccessible': None, 'WiFi': \"u'free'\"}, 'biz_categories': ['Restaurants', 'Italian'], 'biz_hours': {'Friday': '11:0-21:0', 'Monday': '11:0-22:0', 'Saturday': '12:0-21:0', 'Sunday': '11:0-21:0', 'Thursday': '11:0-20:0', 'Tuesday': '11:0-22:0', 'Wednesday': '10:0-22:0'}}\n",
      "Great bar Happy Hour 4-7 every day. Wine & Drafts $3, $5 pizza, $4.50 apps. To-go Dinners and lunches are very reasonable and fast. \n",
      "\n",
      "\n",
      "===========Node 4============\n",
      "{'review_id': 'mMwnX1vc3tQUeDNS2wiKFw', 'user_id': 'f10WH1fXhy-68r4AEEhAWA', 'business_id': '9OG5YkX1g2GReZM0AskizA', 'review_stars': 4, 'useful': 0, 'funny': 0, 'cool': 0, 'date': '2016-01-30T03:16:46', 'biz_name': \"Romano's Macaroni Grill\", 'biz_address': '5505 S Virginia St', 'biz_city': 'Reno', 'biz_state': 'NV', 'biz_postal_code': '89502', 'biz_latitude': 39.4761165, 'biz_longitude': -119.7893392, 'biz_stars': 2.5, 'biz_review_count': 339, 'biz_is_open': 1, 'biz_attributes': {'AcceptsInsurance': None, 'Alcohol': \"'full_bar'\", 'Ambience': \"{u'divey': False, u'hipster': False, u'casual': True, u'touristy': False, u'trendy': False, u'intimate': False, u'romantic': None, u'classy': None, u'upscale': False}\", 'BYOB': None, 'BestNights': None, 'BikeParking': 'True', 'BusinessAcceptsBitcoin': None, 'BusinessAcceptsCreditCards': 'True', 'BusinessParking': \"{'garage': False, 'street': False, 'validated': False, 'lot': True, 'valet': False}\", 'ByAppointmentOnly': None, 'Caters': 'True', 'CoatCheck': None, 'Corkage': None, 'DogsAllowed': 'False', 'DriveThru': None, 'GoodForDancing': None, 'GoodForKids': 'True', 'GoodForMeal': \"{'dessert': None, 'latenight': False, 'lunch': True, 'dinner': True, 'brunch': None, 'breakfast': False}\", 'HappyHour': 'True', 'HasTV': 'True', 'Music': None, 'NoiseLevel': \"u'average'\", 'OutdoorSeating': 'True', 'RestaurantsAttire': \"'casual'\", 'RestaurantsDelivery': 'True', 'RestaurantsGoodForGroups': 'True', 'RestaurantsPriceRange2': '2', 'RestaurantsReservations': 'True', 'RestaurantsTableService': 'True', 'RestaurantsTakeOut': 'True', 'Smoking': None, 'WheelchairAccessible': None, 'WiFi': \"u'free'\"}, 'biz_categories': ['Restaurants', 'Italian'], 'biz_hours': {'Friday': '11:0-21:0', 'Monday': '11:0-22:0', 'Saturday': '12:0-21:0', 'Sunday': '11:0-21:0', 'Thursday': '11:0-20:0', 'Tuesday': '11:0-22:0', 'Wednesday': '10:0-22:0'}}\n",
      "Staff are as friendly as it gets.\n",
      "\n",
      "\n",
      "===========Node 5============\n",
      "{'review_id': 'uwPhE21CZLlp1kkSMPvvYw', 'user_id': '5OnQqP3q2_9auNdDKpLdsw', 'business_id': 'WKMJwqnfZKsAae75RMP6jA', 'review_stars': 3, 'useful': 0, 'funny': 0, 'cool': 0, 'date': '2012-11-06T23:35:15', 'biz_name': 'Roast Coffeehouse and Wine Bar', 'biz_address': '10359 104 Street NW', 'biz_city': 'Edmonton', 'biz_state': 'AB', 'biz_postal_code': 'T5J 1B9', 'biz_latitude': 53.5460453, 'biz_longitude': -113.4991693, 'biz_stars': 4.0, 'biz_review_count': 40, 'biz_is_open': 0, 'biz_attributes': {'AcceptsInsurance': None, 'Alcohol': \"u'beer_and_wine'\", 'Ambience': \"{'romantic': False, 'intimate': False, 'classy': False, 'hipster': True, 'touristy': False, 'trendy': True, 'upscale': False, 'casual': False}\", 'BYOB': None, 'BestNights': None, 'BikeParking': None, 'BusinessAcceptsBitcoin': None, 'BusinessAcceptsCreditCards': None, 'BusinessParking': \"{'garage': False, 'street': True, 'validated': False, 'lot': True, 'valet': False}\", 'ByAppointmentOnly': None, 'Caters': 'True', 'CoatCheck': None, 'Corkage': None, 'DogsAllowed': None, 'DriveThru': None, 'GoodForDancing': None, 'GoodForKids': 'False', 'GoodForMeal': None, 'HappyHour': None, 'HasTV': 'False', 'Music': None, 'NoiseLevel': \"u'average'\", 'OutdoorSeating': 'False', 'RestaurantsAttire': \"u'casual'\", 'RestaurantsDelivery': 'False', 'RestaurantsGoodForGroups': 'True', 'RestaurantsPriceRange2': '2', 'RestaurantsReservations': 'False', 'RestaurantsTableService': None, 'RestaurantsTakeOut': 'True', 'Smoking': None, 'WheelchairAccessible': None, 'WiFi': \"u'free'\"}, 'biz_categories': ['Coffee & Tea', 'Food', 'Cafes', 'Bars', 'Wine Bars', 'Restaurants', 'Nightlife'], 'biz_hours': {'Friday': '8:0-18:0', 'Monday': '8:0-18:0', 'Saturday': '8:0-18:0', 'Sunday': '10:0-17:0', 'Thursday': '8:0-18:0', 'Tuesday': '8:0-18:0', 'Wednesday': '8:0-18:0'}}\n",
      "So much to like about this place--the beautiful Mercer Building location, the spaciousness, the lovely, friendly baristas. But there are a couple of important cons for me. Biggest being, the music is constant and too loud, ruining everything you go to a coffee shop to do: read, work, reflect, or enjoy a good conversation. When I asked for it to be turned down, they told me they can't--it just plays at one level all the time, and the speakers  are everywhere so you can't get away from it. It sucks.\n",
      "\n",
      "\n"
     ]
    }
   ],
   "source": [
    "for i, node in enumerate(nodes[:5]):\n",
    "    print(f\"\\n\\n===========Node {i+1}============\")\n",
    "    print(node.metadata)\n",
    "    print(node.get_text())"
   ]
  },
  {
   "cell_type": "markdown",
   "id": "0669a67f-3356-49ce-a95b-8e6ab3af0992",
   "metadata": {},
   "source": [
    "## Construct Retriever"
   ]
  },
  {
   "cell_type": "code",
   "execution_count": 28,
   "id": "405c0138-904b-40bc-9e76-99fafe055647",
   "metadata": {},
   "outputs": [],
   "source": [
    "from llama_index.core.retrievers import VectorIndexRetriever"
   ]
  },
  {
   "cell_type": "code",
   "execution_count": 29,
   "id": "e9ee9559-f432-4557-90ab-646ea26a7924",
   "metadata": {},
   "outputs": [
    {
     "name": "stdout",
     "output_type": "stream",
     "text": [
      "{\n",
      "  \"retrieval_top_k\": 50,\n",
      "  \"retrieval_dense_top_k\": 50,\n",
      "  \"retrieval_sparse_top_k\": 50,\n",
      "  \"retrieval_simiarity_cutoff\": null,\n",
      "  \"rerank_top_k\": 10,\n",
      "  \"rerank_model_name\": \"BAAI/bge-reranker-v2-m3\"\n",
      "}\n"
     ]
    }
   ],
   "source": [
    "print(cfg.retrieval_cfg.model_dump_json(indent=2))"
   ]
  },
  {
   "cell_type": "code",
   "execution_count": 30,
   "id": "1296fe57-7daf-4785-889f-0271125ad4ee",
   "metadata": {},
   "outputs": [],
   "source": [
    "index = VectorStoreIndex.from_vector_store(vector_store, storage_context=storage_context)\n",
    "vector_retriever = VectorIndexRetriever(\n",
    "    index=index,\n",
    "    vector_store_query_mode='mmr',\n",
    "    similarity_top_k=cfg.retrieval_cfg.retrieval_dense_top_k,\n",
    ")"
   ]
  },
  {
   "cell_type": "code",
   "execution_count": 31,
   "id": "c6773f94-5d41-433e-8a17-fe62b8ac26ef",
   "metadata": {},
   "outputs": [
    {
     "name": "stderr",
     "output_type": "stream",
     "text": [
      "DEBUG [bm25s] Building index from IDs objects\n"
     ]
    },
    {
     "data": {
      "text/markdown": [
       "**Node ID:** 553a4a2e-22ea-4b5b-a8d0-82a6b09079e3<br>**Similarity:** 0.0<br>**Text:** I love how creative everything was.\n",
       "I CANT STOP DAYDREAMING ABOUT THE FOOD. Hands down, best brunch experience of my life. I don't even like french toast usually and theres was by far the most delicious food thats ever entered my mouth. I am literally drooling while writing this.\n",
       "The chicken and waffles were unreal and standout A++++. \n",
       "I love the \"flinstones pushup-pop\" drink so creative and clever.\n",
       "Even the deviled eggs were the best I've personally ever had. They do everything right even when it comes to the music. It was super fun and such a great experience! Ignore any review thats not 4 stars because they must be delusional.<br>**Metadata:** {'review_id': 'z_fgvINjKZCw5RgByaTxxw', 'user_id': 'dldfg-X_QbBkhR2DOsQFWg', 'business_id': 'QdN72BWoyFypdGJhhI5r7g', 'review_stars': 5, 'useful': 0, 'funny': 0, 'cool': 0, 'date': '2016-11-10T16:52:33', 'biz_name': 'Bar One', 'biz_address': '767 S 9th St', 'biz_city': 'Philadelphia', 'biz_state': 'PA', 'biz_postal_code': '19147', 'biz_latitude': 39.9398245705, 'biz_longitude': -75.1574465632, 'biz_stars': 4.0, 'biz_review_count': 65, 'biz_is_open': 0, 'biz_attributes': {'AcceptsInsurance': None, 'Alcohol': \"u'full_bar'\", 'Ambience': \"{'touristy': False, 'hipster': True, 'romantic': None, 'divey': False, 'intimate': False, 'trendy': None, 'upscale': False, 'classy': None, 'casual': True}\", 'BYOB': None, 'BestNights': None, 'BikeParking': 'True', 'BusinessAcceptsBitcoin': None, 'BusinessAcceptsCreditCards': 'True', 'BusinessParking': \"{'garage': None, 'street': True, 'validated': None, 'lot': False, 'valet': False}\", 'ByAppointmentOnly': None, 'Caters': 'False', 'CoatCheck': None, 'Corkage': None, 'DogsAllowed': None, 'DriveThru': None, 'GoodForDancing': 'False', 'GoodForKids': 'False', 'GoodForMeal': \"{'dessert': False, 'latenight': False, 'lunch': False, 'dinner': False, 'brunch': True, 'breakfast': False}\", 'HappyHour': 'True', 'HasTV': 'True', 'Music': \"{'dj': False, 'background_music': False, 'no_music': False, 'jukebox': False, 'live': False, 'video': False, 'karaoke': False}\", 'NoiseLevel': \"u'average'\", 'OutdoorSeating': 'False', 'RestaurantsAttire': \"'casual'\", 'RestaurantsDelivery': 'True', 'RestaurantsGoodForGroups': 'True', 'RestaurantsPriceRange2': '2', 'RestaurantsReservations': 'False', 'RestaurantsTableService': 'True', 'RestaurantsTakeOut': 'True', 'Smoking': \"u'no'\", 'WheelchairAccessible': None, 'WiFi': \"u'free'\"}, 'biz_categories': ['Cocktail Bars', 'Bars', 'Italian', 'Nightlife', 'Restaurants'], 'biz_hours': {'Friday': '12:0-2:0', 'Monday': '16:0-0:0', 'Saturday': '11:0-2:0', 'Sunday': '11:0-0:0', 'Thursday': '12:0-0:0', 'Tuesday': '16:0-0:0', 'Wednesday': '16:0-0:0'}}<br>"
      ],
      "text/plain": [
       "<IPython.core.display.Markdown object>"
      ]
     },
     "metadata": {},
     "output_type": "display_data"
    },
    {
     "data": {
      "text/markdown": [
       "**Node ID:** 7d27d2e6-a3db-4a84-9acb-b3803bb682ae<br>**Similarity:** 0.0<br>**Text:** Some unique flavors too. Not much else to say but an amazing ice cream store that others should try to emulate.<br>**Metadata:** {'review_id': '6odPSjoPWOyeDQpgJbdGaA', 'user_id': 'jLr7vcDg43TqS2OK4ROvPQ', 'business_id': 'oaboaRBUgGjbo2kfUIKDLQ', 'review_stars': 5, 'useful': 0, 'funny': 0, 'cool': 0, 'date': '2016-03-30T23:22:54', 'biz_name': \"Mike's Ice Cream\", 'biz_address': '129 2nd Ave N', 'biz_city': 'Nashville', 'biz_state': 'TN', 'biz_postal_code': '37201', 'biz_latitude': 36.1626492, 'biz_longitude': -86.7759733, 'biz_stars': 4.5, 'biz_review_count': 593, 'biz_is_open': 1, 'biz_attributes': {'AcceptsInsurance': None, 'Alcohol': \"u'none'\", 'Ambience': \"{'romantic': False, 'intimate': False, 'touristy': False, 'hipster': False, 'divey': False, 'classy': False, 'trendy': False, 'upscale': False, 'casual': True}\", 'BYOB': None, 'BestNights': None, 'BikeParking': 'False', 'BusinessAcceptsBitcoin': None, 'BusinessAcceptsCreditCards': 'True', 'BusinessParking': \"{'garage': False, 'street': True, 'validated': False, 'lot': False, 'valet': False}\", 'ByAppointmentOnly': 'False', 'Caters': 'False', 'CoatCheck': None, 'Corkage': None, 'DogsAllowed': 'False', 'DriveThru': 'False', 'GoodForDancing': None, 'GoodForKids': 'True', 'GoodForMeal': None, 'HappyHour': None, 'HasTV': 'False', 'Music': None, 'NoiseLevel': \"u'average'\", 'OutdoorSeating': 'None', 'RestaurantsAttire': \"'casual'\", 'RestaurantsDelivery': 'None', 'RestaurantsGoodForGroups': 'True', 'RestaurantsPriceRange2': '2', 'RestaurantsReservations': 'False', 'RestaurantsTableService': None, 'RestaurantsTakeOut': 'True', 'Smoking': None, 'WheelchairAccessible': None, 'WiFi': \"'free'\"}, 'biz_categories': ['Ice Cream & Frozen Yogurt', 'Coffee & Tea', 'Restaurants', 'Sandwiches', 'Food'], 'biz_hours': {'Friday': '8:0-0:0', 'Monday': '8:0-23:0', 'Saturday': '8:0-0:30', 'Sunday': '8:0-23:0', 'Thursday': '8:0-23:0', 'Tuesday': '8:0-23:0', 'Wednesday': '8:0-23:0'}}<br>"
      ],
      "text/plain": [
       "<IPython.core.display.Markdown object>"
      ]
     },
     "metadata": {},
     "output_type": "display_data"
    },
    {
     "data": {
      "text/markdown": [
       "**Node ID:** 003f3cdf-6934-46c0-be90-c466ecf7b5e8<br>**Similarity:** 0.0<br>**Text:** Super tasty and enormous portions.<br>**Metadata:** {'review_id': '6odPSjoPWOyeDQpgJbdGaA', 'user_id': 'jLr7vcDg43TqS2OK4ROvPQ', 'business_id': 'oaboaRBUgGjbo2kfUIKDLQ', 'review_stars': 5, 'useful': 0, 'funny': 0, 'cool': 0, 'date': '2016-03-30T23:22:54', 'biz_name': \"Mike's Ice Cream\", 'biz_address': '129 2nd Ave N', 'biz_city': 'Nashville', 'biz_state': 'TN', 'biz_postal_code': '37201', 'biz_latitude': 36.1626492, 'biz_longitude': -86.7759733, 'biz_stars': 4.5, 'biz_review_count': 593, 'biz_is_open': 1, 'biz_attributes': {'AcceptsInsurance': None, 'Alcohol': \"u'none'\", 'Ambience': \"{'romantic': False, 'intimate': False, 'touristy': False, 'hipster': False, 'divey': False, 'classy': False, 'trendy': False, 'upscale': False, 'casual': True}\", 'BYOB': None, 'BestNights': None, 'BikeParking': 'False', 'BusinessAcceptsBitcoin': None, 'BusinessAcceptsCreditCards': 'True', 'BusinessParking': \"{'garage': False, 'street': True, 'validated': False, 'lot': False, 'valet': False}\", 'ByAppointmentOnly': 'False', 'Caters': 'False', 'CoatCheck': None, 'Corkage': None, 'DogsAllowed': 'False', 'DriveThru': 'False', 'GoodForDancing': None, 'GoodForKids': 'True', 'GoodForMeal': None, 'HappyHour': None, 'HasTV': 'False', 'Music': None, 'NoiseLevel': \"u'average'\", 'OutdoorSeating': 'None', 'RestaurantsAttire': \"'casual'\", 'RestaurantsDelivery': 'None', 'RestaurantsGoodForGroups': 'True', 'RestaurantsPriceRange2': '2', 'RestaurantsReservations': 'False', 'RestaurantsTableService': None, 'RestaurantsTakeOut': 'True', 'Smoking': None, 'WheelchairAccessible': None, 'WiFi': \"'free'\"}, 'biz_categories': ['Ice Cream & Frozen Yogurt', 'Coffee & Tea', 'Restaurants', 'Sandwiches', 'Food'], 'biz_hours': {'Friday': '8:0-0:0', 'Monday': '8:0-23:0', 'Saturday': '8:0-0:30', 'Sunday': '8:0-23:0', 'Thursday': '8:0-23:0', 'Tuesday': '8:0-23:0', 'Wednesday': '8:0-23:0'}}<br>"
      ],
      "text/plain": [
       "<IPython.core.display.Markdown object>"
      ]
     },
     "metadata": {},
     "output_type": "display_data"
    },
    {
     "data": {
      "text/markdown": [
       "**Node ID:** 0e0d54d1-4329-486d-a4d9-66e04873893b<br>**Similarity:** 0.0<br>**Text:** Possibly the best breakfast sandwich EVER.  On a biscuit!<br>**Metadata:** {'review_id': 'LFpaQzYkP5Pzm5lEjJpTRw', 'user_id': 'Ttb21DpWqphQMNSS5TXgMA', 'business_id': 'IDtLPgUrqorrpqSLdfMhZQ', 'review_stars': 5, 'useful': 0, 'funny': 0, 'cool': 0, 'date': '2017-01-15T00:36:04', 'biz_name': 'Helena Avenue Bakery', 'biz_address': '131 Anacapa St, Ste C', 'biz_city': 'Santa Barbara', 'biz_state': 'CA', 'biz_postal_code': '93101', 'biz_latitude': 34.4144445, 'biz_longitude': -119.6906718, 'biz_stars': 4.0, 'biz_review_count': 389, 'biz_is_open': 1, 'biz_attributes': {'AcceptsInsurance': None, 'Alcohol': \"u'none'\", 'Ambience': \"{'touristy': False, 'hipster': True, 'romantic': False, 'divey': False, 'intimate': False, 'trendy': True, 'upscale': False, 'classy': False, 'casual': True}\", 'BYOB': None, 'BestNights': None, 'BikeParking': 'True', 'BusinessAcceptsBitcoin': None, 'BusinessAcceptsCreditCards': 'True', 'BusinessParking': \"{'garage': False, 'street': True, 'validated': False, 'lot': False, 'valet': False}\", 'ByAppointmentOnly': None, 'Caters': 'True', 'CoatCheck': None, 'Corkage': None, 'DogsAllowed': 'True', 'DriveThru': None, 'GoodForDancing': None, 'GoodForKids': 'True', 'GoodForMeal': \"{'dessert': False, 'latenight': False, 'lunch': True, 'dinner': False, 'brunch': True, 'breakfast': True}\", 'HappyHour': 'False', 'HasTV': 'False', 'Music': None, 'NoiseLevel': \"u'average'\", 'OutdoorSeating': 'True', 'RestaurantsAttire': \"'casual'\", 'RestaurantsDelivery': 'None', 'RestaurantsGoodForGroups': 'True', 'RestaurantsPriceRange2': '2', 'RestaurantsReservations': 'False', 'RestaurantsTableService': 'False', 'RestaurantsTakeOut': 'True', 'Smoking': None, 'WheelchairAccessible': 'True', 'WiFi': \"u'no'\"}, 'biz_categories': ['Food', 'Restaurants', 'Salad', 'Coffee & Tea', 'Breakfast & Brunch', 'Sandwiches', 'Bakeries'], 'biz_hours': {'Friday': '8:0-14:0', 'Monday': '0:0-0:0', 'Saturday': '8:0-14:0', 'Sunday': '8:0-14:0', 'Thursday': '8:0-14:0', 'Tuesday': '8:0-14:0', 'Wednesday': '8:0-14:0'}}<br>"
      ],
      "text/plain": [
       "<IPython.core.display.Markdown object>"
      ]
     },
     "metadata": {},
     "output_type": "display_data"
    },
    {
     "data": {
      "text/markdown": [
       "**Node ID:** a8248e27-4017-4258-80f3-788eb11ed4f8<br>**Similarity:** 0.0<br>**Text:** Grab a bite, grab some tastings, life is good. Right next door to the Santa Barbara Wine Collective, in fact it actually shares the same tables.  We had a fabulous savory croissant.<br>**Metadata:** {'review_id': 'L0jv8c2FbpWSlfNC6bbUEA', 'user_id': 'bFPdtzu11Oi0f92EAcjqmg', 'business_id': 'IDtLPgUrqorrpqSLdfMhZQ', 'review_stars': 5, 'useful': 0, 'funny': 0, 'cool': 0, 'date': '2016-10-13T22:50:47', 'biz_name': 'Helena Avenue Bakery', 'biz_address': '131 Anacapa St, Ste C', 'biz_city': 'Santa Barbara', 'biz_state': 'CA', 'biz_postal_code': '93101', 'biz_latitude': 34.4144445, 'biz_longitude': -119.6906718, 'biz_stars': 4.0, 'biz_review_count': 389, 'biz_is_open': 1, 'biz_attributes': {'AcceptsInsurance': None, 'Alcohol': \"u'none'\", 'Ambience': \"{'touristy': False, 'hipster': True, 'romantic': False, 'divey': False, 'intimate': False, 'trendy': True, 'upscale': False, 'classy': False, 'casual': True}\", 'BYOB': None, 'BestNights': None, 'BikeParking': 'True', 'BusinessAcceptsBitcoin': None, 'BusinessAcceptsCreditCards': 'True', 'BusinessParking': \"{'garage': False, 'street': True, 'validated': False, 'lot': False, 'valet': False}\", 'ByAppointmentOnly': None, 'Caters': 'True', 'CoatCheck': None, 'Corkage': None, 'DogsAllowed': 'True', 'DriveThru': None, 'GoodForDancing': None, 'GoodForKids': 'True', 'GoodForMeal': \"{'dessert': False, 'latenight': False, 'lunch': True, 'dinner': False, 'brunch': True, 'breakfast': True}\", 'HappyHour': 'False', 'HasTV': 'False', 'Music': None, 'NoiseLevel': \"u'average'\", 'OutdoorSeating': 'True', 'RestaurantsAttire': \"'casual'\", 'RestaurantsDelivery': 'None', 'RestaurantsGoodForGroups': 'True', 'RestaurantsPriceRange2': '2', 'RestaurantsReservations': 'False', 'RestaurantsTableService': 'False', 'RestaurantsTakeOut': 'True', 'Smoking': None, 'WheelchairAccessible': 'True', 'WiFi': \"u'no'\"}, 'biz_categories': ['Food', 'Restaurants', 'Salad', 'Coffee & Tea', 'Breakfast & Brunch', 'Sandwiches', 'Bakeries'], 'biz_hours': {'Friday': '8:0-14:0', 'Monday': '0:0-0:0', 'Saturday': '8:0-14:0', 'Sunday': '8:0-14:0', 'Thursday': '8:0-14:0', 'Tuesday': '8:0-14:0', 'Wednesday': '8:0-14:0'}}<br>"
      ],
      "text/plain": [
       "<IPython.core.display.Markdown object>"
      ]
     },
     "metadata": {},
     "output_type": "display_data"
    }
   ],
   "source": [
    "from llama_index.retrievers.bm25 import BM25Retriever\n",
    "import Stemmer\n",
    "\n",
    "bm25_retriever = BM25Retriever.from_defaults(\n",
    "    nodes=nodes,\n",
    "    similarity_top_k=5,\n",
    "    stemmer=Stemmer.Stemmer(\"english\"),\n",
    "    language=\"english\",\n",
    ")\n",
    "bm25_retrieval_results = bm25_retriever.retrieve(\"Nashville, grocery\")\n",
    "for result in bm25_retrieval_results:\n",
    "    display_source_node(result, source_length=1000, show_source_metadata=True)"
   ]
  },
  {
   "cell_type": "code",
   "execution_count": 32,
   "id": "796bb780-c825-4328-9352-29679f8d3390",
   "metadata": {},
   "outputs": [],
   "source": [
    "test_query = \"Received confirmation of my order at 5 pm\"\n",
    "vector_results = vector_retriever.retrieve(test_query)\n",
    "bm25_results = bm25_retriever.retrieve(test_query)\n",
    "\n",
    "found = False\n",
    "for vector_result in vector_results[:10]:\n",
    "    target_id = bm25_results[0].id_\n",
    "    if vector_result.id_ == target_id:\n",
    "        found = True\n",
    "        break\n",
    "# assert found, \"can not find the original node in top 10 vector results\"\n",
    "# assert bm25_results[0].id_ == vector_results[0].id_, \"different vector_retriever nodes vs bm25\""
   ]
  },
  {
   "cell_type": "code",
   "execution_count": 57,
   "id": "0dc6bf71-2d56-4c5c-b28d-70888948941f",
   "metadata": {},
   "outputs": [],
   "source": [
    "from llama_index.core.retrievers import QueryFusionRetriever\n",
    "\n",
    "query_gen_prompt = \"\"\"\n",
    "You are helpful assistant that expands and input query into new strings that aim to increase the recall of an information retrieval system. The strings can be queries or paragraphs sentences.\n",
    "You should apply different techniques to create new strings. Here are sine example techniques:\n",
    "- Technique 1 - Optimize for full-text search: Repharse the input query to contain only important keywords. Remove all stopwords and low information words. Example input query: \"What are some places to enjoy cold brew coffee in Hanoi?\" -> Expected output: \"cold brew coffee hanoi\n",
    "- Technique 2 - Optimize for similarity-based vector retrieval: Create a fake user review that should contain the answer for the question.\n",
    "\n",
    "Generate at least {num_queries} new strings by interating over the technique in order. For example, your first generated string should always use technique 1, technique 2. If ru of techniques then re-iterate from start.\n",
    "\n",
    "Only return the strings. Never include the chosen technique.\n",
    "\n",
    "Input query: {query}\\n\n",
    "New strings:\\n\n",
    "\"\"\"\n",
    "from llama_index.llms.gemini import Gemini\n",
    "llm = Gemini(model=\"models/gemini-1.5-flash\")\n",
    "# from llama_index.llms.ollama import Ollama\n",
    "# llm = Ollama(\n",
    "#     model='qwen2.5:0.5b'\n",
    "# )\n",
    "retriever = QueryFusionRetriever(\n",
    "    [vector_retriever, bm25_retriever],\n",
    "    llm=llm,\n",
    "    similarity_top_k=10,\n",
    "    num_queries=2,\n",
    "    mode=\"reciprocal_rerank\",\n",
    "    use_async=True,\n",
    "    verbose=True,\n",
    "    query_gen_prompt=query_gen_prompt\n",
    ")"
   ]
  },
  {
   "cell_type": "markdown",
   "id": "3c6090d8-438a-4e0e-8222-3d6e276b2a21",
   "metadata": {},
   "source": [
    "## Test retrieval"
   ]
  },
  {
   "cell_type": "code",
   "execution_count": 34,
   "id": "290808d2-14ce-42dc-a025-ef6fa4a12e1f",
   "metadata": {},
   "outputs": [
    {
     "name": "stdout",
     "output_type": "stream",
     "text": [
      "Generated queries:\n",
      "cold brew coffee\n",
      "I enjoyed a delicious cold brew coffee at the Hanoi Coffee House last weekend and it was amazing! The atmosphere was cozy, and the coffee was perfectly iced.\n"
     ]
    },
    {
     "data": {
      "text/markdown": [
       "**Node ID:** 99395c10-efa2-41df-8b74-8f2ec8b023e0<br>**Similarity:** 0.06530936012691697<br>**Text:** So much to like about this place--the beautiful Mercer Building location, the spaciousness, the lovely, friendly baristas. But there are a couple of important cons for me. Biggest being, the music is constant and too loud, ruining everything you go to a coffee shop to do: read, work, reflect, or enjoy a good conversation. When I asked for it to be turned down, they told me they can't--it just plays at one level all the time, and the speakers  are everywhere so you can't get away from it. It sucks.<br>"
      ],
      "text/plain": [
       "<IPython.core.display.Markdown object>"
      ]
     },
     "metadata": {},
     "output_type": "display_data"
    },
    {
     "name": "stdout",
     "output_type": "stream",
     "text": [
      "review_stars: 3\n",
      "biz_name: Roast Coffeehouse and Wine Bar\n",
      "biz_address: 10359 104 Street NW\n",
      "biz_city: Edmonton\n",
      "biz_state: AB\n",
      "biz_categories: ['Coffee & Tea', 'Food', 'Cafes', 'Bars', 'Wine Bars', 'Restaurants', 'Nightlife']\n",
      "\n",
      "So much to like about this place--the beautiful Mercer Building location, the spaciousness, the lovely, friendly baristas. But there are a couple of important cons for me. Biggest being, the music is constant and too loud, ruining everything you go to a coffee shop to do: read, work, reflect, or enjoy a good conversation. When I asked for it to be turned down, they told me they can't--it just plays at one level all the time, and the speakers  are everywhere so you can't get away from it. It sucks.\n",
      "\n",
      "\n"
     ]
    },
    {
     "data": {
      "text/markdown": [
       "**Node ID:** 8c4df29f-641e-46c3-a9d8-8bee00d8c655<br>**Similarity:** 0.06218347862183478<br>**Text:** Pricey ( a ham and cheese croissant was $5.50)  as with anywhere in Santa Barbra but very delicious. Cute space ( a bit hard to find ). The green eggs and ham  breakfast biscuit is to die for.  ($10 I think) The Santa Barbra tri tip sandwich was excellent! Cold brew coffee was good.<br>"
      ],
      "text/plain": [
       "<IPython.core.display.Markdown object>"
      ]
     },
     "metadata": {},
     "output_type": "display_data"
    },
    {
     "name": "stdout",
     "output_type": "stream",
     "text": [
      "review_stars: 4\n",
      "biz_name: Helena Avenue Bakery\n",
      "biz_address: 131 Anacapa St, Ste C\n",
      "biz_city: Santa Barbara\n",
      "biz_state: CA\n",
      "biz_categories: ['Food', 'Restaurants', 'Salad', 'Coffee & Tea', 'Breakfast & Brunch', 'Sandwiches', 'Bakeries']\n",
      "\n",
      "Pricey ( a ham and cheese croissant was $5.50)  as with anywhere in Santa Barbra but very delicious. Cute space ( a bit hard to find ). The green eggs and ham  breakfast biscuit is to die for.  ($10 I think) The Santa Barbra tri tip sandwich was excellent! Cold brew coffee was good.\n",
      "\n",
      "\n"
     ]
    },
    {
     "data": {
      "text/markdown": [
       "**Node ID:** 4395549d-7928-49a8-a00d-0923785f88fb<br>**Similarity:** 0.04507165184914545<br>**Text:** Some unique flavors too. Not much else to say but an amazing ice cream store that others should try to emulate.<br>"
      ],
      "text/plain": [
       "<IPython.core.display.Markdown object>"
      ]
     },
     "metadata": {},
     "output_type": "display_data"
    },
    {
     "name": "stdout",
     "output_type": "stream",
     "text": [
      "review_stars: 5\n",
      "biz_name: Mike's Ice Cream\n",
      "biz_address: 129 2nd Ave N\n",
      "biz_city: Nashville\n",
      "biz_state: TN\n",
      "biz_categories: ['Ice Cream & Frozen Yogurt', 'Coffee & Tea', 'Restaurants', 'Sandwiches', 'Food']\n",
      "\n",
      "Some unique flavors too. Not much else to say but an amazing ice cream store that others should try to emulate.\n",
      "\n",
      "\n"
     ]
    },
    {
     "data": {
      "text/markdown": [
       "**Node ID:** 553a4a2e-22ea-4b5b-a8d0-82a6b09079e3<br>**Similarity:** 0.04443926202321725<br>**Text:** I love how creative everything was.\n",
       "I CANT STOP DAYDREAMING ABOUT THE FOOD. Hands down, best brunch experience of my life. I don't even like french toast usually and theres was by far the most delicious food thats ever entered my mouth. I am literally drooling while writing this.\n",
       "The chicken and waffles were unreal and standout A++++. \n",
       "I love the \"flinstones pushup-pop\" drink so creative and clever.\n",
       "Even the deviled eggs were the best I've personally ever had. They do everything right even when it comes to the music. It was super fun and such a great experience! Ignore any review thats not 4 stars because they must be delusional.<br>"
      ],
      "text/plain": [
       "<IPython.core.display.Markdown object>"
      ]
     },
     "metadata": {},
     "output_type": "display_data"
    },
    {
     "name": "stdout",
     "output_type": "stream",
     "text": [
      "review_stars: 5\n",
      "biz_name: Bar One\n",
      "biz_address: 767 S 9th St\n",
      "biz_city: Philadelphia\n",
      "biz_state: PA\n",
      "biz_categories: ['Cocktail Bars', 'Bars', 'Italian', 'Nightlife', 'Restaurants']\n",
      "\n",
      "I love how creative everything was.\n",
      "I CANT STOP DAYDREAMING ABOUT THE FOOD. Hands down, best brunch experience of my life. I don't even like french toast usually and theres was by far the most delicious food thats ever entered my mouth. I am literally drooling while writing this.\n",
      "The chicken and waffles were unreal and standout A++++. \n",
      "I love the \"flinstones pushup-pop\" drink so creative and clever.\n",
      "Even the deviled eggs were the best I've personally ever had. They do everything right even when it comes to the music. It was super fun and such a great experience! Ignore any review thats not 4 stars because they must be delusional.\n",
      "\n",
      "\n"
     ]
    },
    {
     "data": {
      "text/markdown": [
       "**Node ID:** a8248e27-4017-4258-80f3-788eb11ed4f8<br>**Similarity:** 0.04402951248992748<br>**Text:** Grab a bite, grab some tastings, life is good. Right next door to the Santa Barbara Wine Collective, in fact it actually shares the same tables.  We had a fabulous savory croissant.<br>"
      ],
      "text/plain": [
       "<IPython.core.display.Markdown object>"
      ]
     },
     "metadata": {},
     "output_type": "display_data"
    },
    {
     "name": "stdout",
     "output_type": "stream",
     "text": [
      "review_stars: 5\n",
      "biz_name: Helena Avenue Bakery\n",
      "biz_address: 131 Anacapa St, Ste C\n",
      "biz_city: Santa Barbara\n",
      "biz_state: CA\n",
      "biz_categories: ['Food', 'Restaurants', 'Salad', 'Coffee & Tea', 'Breakfast & Brunch', 'Sandwiches', 'Bakeries']\n",
      "\n",
      "Grab a bite, grab some tastings, life is good. Right next door to the Santa Barbara Wine Collective, in fact it actually shares the same tables.  We had a fabulous savory croissant.\n",
      "\n",
      "\n"
     ]
    },
    {
     "data": {
      "text/markdown": [
       "**Node ID:** e6db66a7-38a6-4b6d-9630-627a20647cfb<br>**Similarity:** 0.043748079877112135<br>**Text:** What a great addition to the Funk Zone!<br>"
      ],
      "text/plain": [
       "<IPython.core.display.Markdown object>"
      ]
     },
     "metadata": {},
     "output_type": "display_data"
    },
    {
     "name": "stdout",
     "output_type": "stream",
     "text": [
      "review_stars: 5\n",
      "biz_name: Helena Avenue Bakery\n",
      "biz_address: 131 Anacapa St, Ste C\n",
      "biz_city: Santa Barbara\n",
      "biz_state: CA\n",
      "biz_categories: ['Food', 'Restaurants', 'Salad', 'Coffee & Tea', 'Breakfast & Brunch', 'Sandwiches', 'Bakeries']\n",
      "\n",
      "What a great addition to the Funk Zone!\n",
      "\n",
      "\n"
     ]
    },
    {
     "data": {
      "text/markdown": [
       "**Node ID:** e83e13c4-fe42-4814-8384-c9444c9761c1<br>**Similarity:** 0.043240289469797674<br>**Text:** Wawa is like a beacon in a cold, dark world.  I grew up around Sheetz locations, but I have to admit that I prefer Wawa.  The sandwiches are really good, and they have the typical snacks/drinks you would expect from a convenience store.<br>"
      ],
      "text/plain": [
       "<IPython.core.display.Markdown object>"
      ]
     },
     "metadata": {},
     "output_type": "display_data"
    },
    {
     "name": "stdout",
     "output_type": "stream",
     "text": [
      "review_stars: 4\n",
      "biz_name: Wawa\n",
      "biz_address: 3604 Chestnut St\n",
      "biz_city: Philadelphia\n",
      "biz_state: PA\n",
      "biz_categories: ['Restaurants', 'Automotive', 'Delis', 'Gas Stations', 'Food', 'Coffee & Tea', 'Sandwiches', 'Convenience Stores']\n",
      "\n",
      "Wawa is like a beacon in a cold, dark world.  I grew up around Sheetz locations, but I have to admit that I prefer Wawa.  The sandwiches are really good, and they have the typical snacks/drinks you would expect from a convenience store.\n",
      "\n",
      "\n"
     ]
    },
    {
     "data": {
      "text/markdown": [
       "**Node ID:** 716413ae-6eb9-4ff6-8737-959217e4ccbc<br>**Similarity:** 0.04201792359687097<br>**Text:** Staff are as friendly as it gets.<br>"
      ],
      "text/plain": [
       "<IPython.core.display.Markdown object>"
      ]
     },
     "metadata": {},
     "output_type": "display_data"
    },
    {
     "name": "stdout",
     "output_type": "stream",
     "text": [
      "review_stars: 4\n",
      "biz_name: Romano's Macaroni Grill\n",
      "biz_address: 5505 S Virginia St\n",
      "biz_city: Reno\n",
      "biz_state: NV\n",
      "biz_categories: ['Restaurants', 'Italian']\n",
      "\n",
      "Staff are as friendly as it gets.\n",
      "\n",
      "\n"
     ]
    },
    {
     "data": {
      "text/markdown": [
       "**Node ID:** d2c37891-35d6-43f6-9752-cb024b84a49e<br>**Similarity:** 0.03333333333333333<br>**Text:** Secondly, if you're a tea drinker, you're out of luck. They don't serve the tea in pots, but huge, sloppy individual filters--it makes your beverage totally ungainly, hard to drink and is really off putting.\n",
       "\n",
       "Pros: gluten free goodies and yummy Italian sodas. I'd love to spend more time here, but the music usually drives me out after 10 minutes.<br>"
      ],
      "text/plain": [
       "<IPython.core.display.Markdown object>"
      ]
     },
     "metadata": {},
     "output_type": "display_data"
    },
    {
     "name": "stdout",
     "output_type": "stream",
     "text": [
      "review_stars: 3\n",
      "biz_name: Roast Coffeehouse and Wine Bar\n",
      "biz_address: 10359 104 Street NW\n",
      "biz_city: Edmonton\n",
      "biz_state: AB\n",
      "biz_categories: ['Coffee & Tea', 'Food', 'Cafes', 'Bars', 'Wine Bars', 'Restaurants', 'Nightlife']\n",
      "\n",
      "Secondly, if you're a tea drinker, you're out of luck. They don't serve the tea in pots, but huge, sloppy individual filters--it makes your beverage totally ungainly, hard to drink and is really off putting.\n",
      "\n",
      "Pros: gluten free goodies and yummy Italian sodas. I'd love to spend more time here, but the music usually drives me out after 10 minutes.\n",
      "\n",
      "\n"
     ]
    },
    {
     "data": {
      "text/markdown": [
       "**Node ID:** 3514a9a8-b4fe-4194-b053-e0ab21719e2e<br>**Similarity:** 0.03200204813108039<br>**Text:** Also no judgement for eating all the brownie sundae alone :) lol<br>"
      ],
      "text/plain": [
       "<IPython.core.display.Markdown object>"
      ]
     },
     "metadata": {},
     "output_type": "display_data"
    },
    {
     "name": "stdout",
     "output_type": "stream",
     "text": [
      "review_stars: 5\n",
      "biz_name: Mike's Ice Cream\n",
      "biz_address: 129 2nd Ave N\n",
      "biz_city: Nashville\n",
      "biz_state: TN\n",
      "biz_categories: ['Ice Cream & Frozen Yogurt', 'Coffee & Tea', 'Restaurants', 'Sandwiches', 'Food']\n",
      "\n",
      "Also no judgement for eating all the brownie sundae alone :) lol\n",
      "\n",
      "\n"
     ]
    }
   ],
   "source": [
    "query = \"What are some places to enjoy cold brew coffee\"\n",
    "retrieval_results = await retriever.aretrieve(query)\n",
    "for node in retrieval_results:\n",
    "    display_source_node(node, source_length=1000)\n",
    "    print(node.get_content(metadata_mode=MetadataMode.LLM))\n",
    "    print(\"\\n\")"
   ]
  },
  {
   "cell_type": "markdown",
   "id": "a59b7f49-0628-4819-80c2-539d57d0a266",
   "metadata": {},
   "source": [
    "## Retrieval Evaluation\n",
    "\n",
    "### Synthetic"
   ]
  },
  {
   "cell_type": "code",
   "execution_count": 35,
   "id": "5080a5f2-5a58-470a-91c3-1f063bf9ef7a",
   "metadata": {},
   "outputs": [],
   "source": [
    "from src.run.eval.retrieval import RetrievalEvaluator"
   ]
  },
  {
   "cell_type": "code",
   "execution_count": 36,
   "id": "8b283dc6-f87b-4668-b6c6-7bc0c5cdba0c",
   "metadata": {},
   "outputs": [
    {
     "name": "stderr",
     "output_type": "stream",
     "text": [
      "\u001b[32m2024-09-22 09:44:31.014\u001b[0m | \u001b[1mINFO    \u001b[0m | \u001b[36msrc.run.eval.retrieval\u001b[0m:\u001b[36mgenerate_synthetic_dataset\u001b[0m:\u001b[36m34\u001b[0m - \u001b[1mCreating new retrieval eval dataset at data/025_modify_prompt_with_tree_summarize/retrieval_synthetic_eval_dataset.json...\u001b[0m\n",
      "\u001b[32m2024-09-22 09:44:31.014\u001b[0m | \u001b[1mINFO    \u001b[0m | \u001b[36msrc.run.eval.retrieval\u001b[0m:\u001b[36mgenerate_synthetic_dataset\u001b[0m:\u001b[36m38\u001b[0m - \u001b[1mSampling 20 nodes for retrieval evaluation...\u001b[0m\n",
      "\u001b[32m2024-09-22 09:44:31.413\u001b[0m | \u001b[1mINFO    \u001b[0m | \u001b[36msrc.run.eval.retrieval\u001b[0m:\u001b[36mgenerate_synthetic_dataset\u001b[0m:\u001b[36m65\u001b[0m - \u001b[1mCreating new synthetic retrieval dataset...\u001b[0m\n",
      "100%|███████████████████████████████████████████████████████████████████████████████████████████████████████████████████████████████████████| 13/13 [00:07<00:00,  1.74it/s]\n",
      "\u001b[32m2024-09-22 09:44:38.883\u001b[0m | \u001b[1mINFO    \u001b[0m | \u001b[36msrc.run.eval.retrieval\u001b[0m:\u001b[36mgenerate_synthetic_dataset\u001b[0m:\u001b[36m73\u001b[0m - \u001b[1mLoading retrieval_eval_nodes from data/025_modify_prompt_with_tree_summarize/retrieval_synthetic_eval_dataset.json...\u001b[0m\n"
     ]
    }
   ],
   "source": [
    "retrieval_evaluator = RetrievalEvaluator()\n",
    "retrieval_evaluator.generate_synthetic_dataset(cfg, nodes)"
   ]
  },
  {
   "cell_type": "code",
   "execution_count": 37,
   "id": "a777f0e7-2d44-4d81-8996-13364017fc4e",
   "metadata": {},
   "outputs": [
    {
     "data": {
      "text/plain": [
       "{'8014523b-5dbb-4167-9b5a-fad476b471a7': 'What are some other great places to visit in the Funk Zone?',\n",
       " 'a1d45aff-4de4-41a4-8a29-93c12e63a217': 'What are some businesses known for their friendly staff?',\n",
       " '597c544f-d9aa-4b4a-82fb-8da41f7e8bbd': 'What are some other taprooms in Indianapolis with a rotating selection of beers?',\n",
       " '0c273350-44d1-4845-9640-af5a785c3e8f': 'What are some good places to get affordable to-go dinners and lunches?',\n",
       " '7316b7e7-cdc8-4997-99d6-c917c06e0e58': 'What are some ice cream shops known for their delicious and unique flavors, especially pralines and cream?',\n",
       " 'ef6d0dbd-a9ff-45f0-9dee-95c05bfbe6c4': 'What are some good places to get savory pastries in Santa Barbara?',\n",
       " 'b6ac0cf5-a51c-4d99-a682-d904b1edfe6b': 'What are some brunch restaurants known for their creative and delicious food?',\n",
       " 'b7fa6a52-2bad-4f15-90c8-04995be1c045': 'What are some restaurants that offer a good dining experience?',\n",
       " '4971fddb-d7c1-4125-adcc-7e73527619b3': 'What are some restaurants with excellent service and ambiance?',\n",
       " 'a30242ab-25f7-46a8-8354-11bdfc5d48f4': 'What are some restaurants known for their large portions?',\n",
       " '7b874594-0a6a-4d23-9846-19c1b145770c': 'What are some places that serve delicious food?',\n",
       " '9af8b01a-7b1c-4b09-b804-03997cf824cb': 'What are some other snack shops or convenience stores in the area?',\n",
       " 'a9fd095d-1244-4422-8a7e-dd2145ba4fc7': 'What are some places that offer brownie sundaes?'}"
      ]
     },
     "execution_count": 37,
     "metadata": {},
     "output_type": "execute_result"
    }
   ],
   "source": [
    "retrieval_evaluator.retrieval_eval_dataset.queries"
   ]
  },
  {
   "cell_type": "code",
   "execution_count": 38,
   "id": "0c08cf28-c694-4311-b3ee-c7a02c873c23",
   "metadata": {},
   "outputs": [
    {
     "name": "stdout",
     "output_type": "stream",
     "text": [
      "Generated queries:\n",
      "What are some other great places to visit in the Funk Zone\n",
      "The Funk Zone is a vibrant neighborhood with many must-visit attractions like The Luthier, Steep Hill, and local art galleries. Don't miss out on exploring this lively area!\n",
      "Generated queries:\n",
      "friendly staff businesses\n",
      "I visited a local store in Hanoi and their friendly staff made my day special. Can you recommend similar businesses?\n",
      "Generated queries:\n",
      "cold brew coffee hanoi\n",
      "\"Looking for the best taprooms in Indianapolis that offer a rotating selection of craft beers, I found Taproom X and Brewery Y known for their diverse beer menu.\"\n",
      "Generated queries:\n",
      "affordable to-go dinners lunches Hanoi\n",
      "\"I recently visited a local restaurant in Hanoi that offers delicious and affordable to-go dinners and lunches, highly recommend it!\"\n",
      "Generated queries:\n",
      "cold brew coffee hanoi\n",
      "\"I recently visited Ice Cream Bliss in Hanoi and was blown away by their incredible range of flavors, particularly their praline and cream masterpiece. The shop is a must-visit for anyone looking to explore unique ice cream options.\"\n",
      "Generated queries:\n",
      "savory pastries santa barbara\n",
      "\"I recently visited a local bakery in Santa Barbara and fell in love with their exquisite savory pastries, which had a perfect blend of flavors. Can you recommend any other places where I can find such delectable treats?\"\n",
      "Generated queries:\n",
      "cold brew coffee hanoi\n",
      "\"Looking for a place in Hanoi that offers both creative and delicious brunch options, I found Brunch House which is highly recommended by locals.\"\n",
      "Generated queries:\n",
      "good dining experience restaurants\n",
      "What is the best restaurant for a pleasant meal in the city?\n",
      "Generated queries:\n",
      "excellent service ambiance restaurants\n",
      "\"Looking for a restaurant in Hanoi that offers both exceptional service and a wonderful ambiance, can anyone recommend any places?\"\n",
      "Generated queries:\n",
      "large portions restaurants\n",
      "\"I recently visited a restaurant in town that served enormous portions, and I was blown away by the size of the meals. Can you recommend any similar places?\"\n",
      "Generated queries:\n",
      "delicious food places\n",
      "\"I recently visited a local restaurant in town and was blown away by their incredible food selection; it really serves up some of the most delicious dishes I've ever had.\"\n",
      "Generated queries:\n",
      "cold brew coffee hanoi\n",
      "Nearby snack shops and convenience stores review\n",
      "Generated queries:\n",
      "What are some places brownie sundaes Hanoi\n",
      "What is your favorite brownie sundae place in Hanoi, and why do you recommend it?\n"
     ]
    }
   ],
   "source": [
    "retrieval_eval_results_df, retrieval_eval_results_full_df = await retrieval_evaluator.aevaluate(cfg, retriever)"
   ]
  },
  {
   "cell_type": "code",
   "execution_count": 41,
   "id": "b3fb7985-a111-47be-88a6-e6d6ea472005",
   "metadata": {},
   "outputs": [
    {
     "data": {
      "text/html": [
       "<div>\n",
       "<style scoped>\n",
       "    .dataframe tbody tr th:only-of-type {\n",
       "        vertical-align: middle;\n",
       "    }\n",
       "\n",
       "    .dataframe tbody tr th {\n",
       "        vertical-align: top;\n",
       "    }\n",
       "\n",
       "    .dataframe thead th {\n",
       "        text-align: right;\n",
       "    }\n",
       "</style>\n",
       "<table border=\"1\" class=\"dataframe\">\n",
       "  <thead>\n",
       "    <tr style=\"text-align: right;\">\n",
       "      <th></th>\n",
       "      <th>retrievers</th>\n",
       "      <th>hit_rate</th>\n",
       "      <th>mrr</th>\n",
       "      <th>precision</th>\n",
       "      <th>recall</th>\n",
       "      <th>ap</th>\n",
       "      <th>ndcg</th>\n",
       "    </tr>\n",
       "  </thead>\n",
       "  <tbody>\n",
       "    <tr>\n",
       "      <th>0</th>\n",
       "      <td>top_50_retrieval_eval</td>\n",
       "      <td>0.769231</td>\n",
       "      <td>0.669231</td>\n",
       "      <td>0.076923</td>\n",
       "      <td>0.769231</td>\n",
       "      <td>0.669231</td>\n",
       "      <td>0.152672</td>\n",
       "    </tr>\n",
       "  </tbody>\n",
       "</table>\n",
       "</div>"
      ],
      "text/plain": [
       "              retrievers  hit_rate       mrr  precision    recall        ap  \\\n",
       "0  top_50_retrieval_eval  0.769231  0.669231   0.076923  0.769231  0.669231   \n",
       "\n",
       "       ndcg  \n",
       "0  0.152672  "
      ]
     },
     "execution_count": 41,
     "metadata": {},
     "output_type": "execute_result"
    }
   ],
   "source": [
    "retrieval_eval_results_df"
   ]
  },
  {
   "cell_type": "code",
   "execution_count": 42,
   "id": "e7c67118-373a-465c-8205-ef4c8793bf01",
   "metadata": {},
   "outputs": [
    {
     "data": {
      "text/html": [
       "<div>\n",
       "<style scoped>\n",
       "    .dataframe tbody tr th:only-of-type {\n",
       "        vertical-align: middle;\n",
       "    }\n",
       "\n",
       "    .dataframe tbody tr th {\n",
       "        vertical-align: top;\n",
       "    }\n",
       "\n",
       "    .dataframe thead th {\n",
       "        text-align: right;\n",
       "    }\n",
       "</style>\n",
       "<table border=\"1\" class=\"dataframe\">\n",
       "  <thead>\n",
       "    <tr style=\"text-align: right;\">\n",
       "      <th></th>\n",
       "      <th>query</th>\n",
       "      <th>expected_ids</th>\n",
       "      <th>retrieved_ids</th>\n",
       "      <th>hit_rate</th>\n",
       "      <th>mrr</th>\n",
       "      <th>precision</th>\n",
       "      <th>recall</th>\n",
       "      <th>ap</th>\n",
       "      <th>ndcg</th>\n",
       "    </tr>\n",
       "  </thead>\n",
       "  <tbody>\n",
       "    <tr>\n",
       "      <th>0</th>\n",
       "      <td>What are some other great places to visit in t...</td>\n",
       "      <td>[37be3c44-96ee-4a76-b054-00461b69a63e]</td>\n",
       "      <td>[37be3c44-96ee-4a76-b054-00461b69a63e, c1e0511...</td>\n",
       "      <td>1.0</td>\n",
       "      <td>1.0</td>\n",
       "      <td>0.1</td>\n",
       "      <td>1.0</td>\n",
       "      <td>1.0</td>\n",
       "      <td>0.220092</td>\n",
       "    </tr>\n",
       "    <tr>\n",
       "      <th>1</th>\n",
       "      <td>What are some businesses known for their frien...</td>\n",
       "      <td>[716413ae-6eb9-4ff6-8737-959217e4ccbc]</td>\n",
       "      <td>[716413ae-6eb9-4ff6-8737-959217e4ccbc, bebc649...</td>\n",
       "      <td>1.0</td>\n",
       "      <td>1.0</td>\n",
       "      <td>0.1</td>\n",
       "      <td>1.0</td>\n",
       "      <td>1.0</td>\n",
       "      <td>0.220092</td>\n",
       "    </tr>\n",
       "    <tr>\n",
       "      <th>2</th>\n",
       "      <td>What are some other taprooms in Indianapolis w...</td>\n",
       "      <td>[2c67c79e-0733-405a-b0f4-a4a3630a6047]</td>\n",
       "      <td>[99395c10-efa2-41df-8b74-8f2ec8b023e0, 2c67c79...</td>\n",
       "      <td>1.0</td>\n",
       "      <td>0.5</td>\n",
       "      <td>0.1</td>\n",
       "      <td>1.0</td>\n",
       "      <td>0.5</td>\n",
       "      <td>0.138862</td>\n",
       "    </tr>\n",
       "    <tr>\n",
       "      <th>3</th>\n",
       "      <td>What are some good places to get affordable to...</td>\n",
       "      <td>[9fbd5ea5-ada6-4888-a4e8-3ca29b2beab8]</td>\n",
       "      <td>[9fbd5ea5-ada6-4888-a4e8-3ca29b2beab8, 82d3c38...</td>\n",
       "      <td>1.0</td>\n",
       "      <td>1.0</td>\n",
       "      <td>0.1</td>\n",
       "      <td>1.0</td>\n",
       "      <td>1.0</td>\n",
       "      <td>0.220092</td>\n",
       "    </tr>\n",
       "    <tr>\n",
       "      <th>4</th>\n",
       "      <td>What are some ice cream shops known for their ...</td>\n",
       "      <td>[6330dafa-19f0-45c9-9810-9297fef2a162]</td>\n",
       "      <td>[99395c10-efa2-41df-8b74-8f2ec8b023e0, 4c65096...</td>\n",
       "      <td>0.0</td>\n",
       "      <td>0.0</td>\n",
       "      <td>0.0</td>\n",
       "      <td>0.0</td>\n",
       "      <td>0.0</td>\n",
       "      <td>0.000000</td>\n",
       "    </tr>\n",
       "    <tr>\n",
       "      <th>5</th>\n",
       "      <td>What are some good places to get savory pastri...</td>\n",
       "      <td>[a8248e27-4017-4258-80f3-788eb11ed4f8]</td>\n",
       "      <td>[a8248e27-4017-4258-80f3-788eb11ed4f8, 8c4df29...</td>\n",
       "      <td>1.0</td>\n",
       "      <td>1.0</td>\n",
       "      <td>0.1</td>\n",
       "      <td>1.0</td>\n",
       "      <td>1.0</td>\n",
       "      <td>0.220092</td>\n",
       "    </tr>\n",
       "    <tr>\n",
       "      <th>6</th>\n",
       "      <td>What are some brunch restaurants known for the...</td>\n",
       "      <td>[553a4a2e-22ea-4b5b-a8d0-82a6b09079e3]</td>\n",
       "      <td>[553a4a2e-22ea-4b5b-a8d0-82a6b09079e3, 8c4df29...</td>\n",
       "      <td>1.0</td>\n",
       "      <td>1.0</td>\n",
       "      <td>0.1</td>\n",
       "      <td>1.0</td>\n",
       "      <td>1.0</td>\n",
       "      <td>0.220092</td>\n",
       "    </tr>\n",
       "    <tr>\n",
       "      <th>7</th>\n",
       "      <td>What are some restaurants that offer a good di...</td>\n",
       "      <td>[c1e05113-d367-4f2b-8910-c163b144c2c9]</td>\n",
       "      <td>[0daba217-4083-4d8e-ba00-da8497310fb9, 553a4a2...</td>\n",
       "      <td>0.0</td>\n",
       "      <td>0.0</td>\n",
       "      <td>0.0</td>\n",
       "      <td>0.0</td>\n",
       "      <td>0.0</td>\n",
       "      <td>0.000000</td>\n",
       "    </tr>\n",
       "    <tr>\n",
       "      <th>8</th>\n",
       "      <td>What are some restaurants with excellent servi...</td>\n",
       "      <td>[cc384023-0468-4b06-94f2-903bdd98fb11]</td>\n",
       "      <td>[cc384023-0468-4b06-94f2-903bdd98fb11, 8c4df29...</td>\n",
       "      <td>1.0</td>\n",
       "      <td>1.0</td>\n",
       "      <td>0.1</td>\n",
       "      <td>1.0</td>\n",
       "      <td>1.0</td>\n",
       "      <td>0.220092</td>\n",
       "    </tr>\n",
       "    <tr>\n",
       "      <th>9</th>\n",
       "      <td>What are some restaurants known for their larg...</td>\n",
       "      <td>[003f3cdf-6934-46c0-be90-c466ecf7b5e8]</td>\n",
       "      <td>[003f3cdf-6934-46c0-be90-c466ecf7b5e8, 0e0d54d...</td>\n",
       "      <td>1.0</td>\n",
       "      <td>1.0</td>\n",
       "      <td>0.1</td>\n",
       "      <td>1.0</td>\n",
       "      <td>1.0</td>\n",
       "      <td>0.220092</td>\n",
       "    </tr>\n",
       "    <tr>\n",
       "      <th>10</th>\n",
       "      <td>What are some places that serve delicious food?</td>\n",
       "      <td>[0daba217-4083-4d8e-ba00-da8497310fb9]</td>\n",
       "      <td>[cc384023-0468-4b06-94f2-903bdd98fb11, 553a4a2...</td>\n",
       "      <td>0.0</td>\n",
       "      <td>0.0</td>\n",
       "      <td>0.0</td>\n",
       "      <td>0.0</td>\n",
       "      <td>0.0</td>\n",
       "      <td>0.000000</td>\n",
       "    </tr>\n",
       "    <tr>\n",
       "      <th>11</th>\n",
       "      <td>What are some other snack shops or convenience...</td>\n",
       "      <td>[bebc6496-d1a1-408e-bd01-37c9db67d598]</td>\n",
       "      <td>[e83e13c4-fe42-4814-8384-c9444c9761c1, 8c4df29...</td>\n",
       "      <td>1.0</td>\n",
       "      <td>0.2</td>\n",
       "      <td>0.1</td>\n",
       "      <td>1.0</td>\n",
       "      <td>0.2</td>\n",
       "      <td>0.085143</td>\n",
       "    </tr>\n",
       "    <tr>\n",
       "      <th>12</th>\n",
       "      <td>What are some places that offer brownie sundaes?</td>\n",
       "      <td>[071b5f8f-f57a-42b9-8c86-e797cc864ccf]</td>\n",
       "      <td>[071b5f8f-f57a-42b9-8c86-e797cc864ccf, 37be3c4...</td>\n",
       "      <td>1.0</td>\n",
       "      <td>1.0</td>\n",
       "      <td>0.1</td>\n",
       "      <td>1.0</td>\n",
       "      <td>1.0</td>\n",
       "      <td>0.220092</td>\n",
       "    </tr>\n",
       "  </tbody>\n",
       "</table>\n",
       "</div>"
      ],
      "text/plain": [
       "                                                query  \\\n",
       "0   What are some other great places to visit in t...   \n",
       "1   What are some businesses known for their frien...   \n",
       "2   What are some other taprooms in Indianapolis w...   \n",
       "3   What are some good places to get affordable to...   \n",
       "4   What are some ice cream shops known for their ...   \n",
       "5   What are some good places to get savory pastri...   \n",
       "6   What are some brunch restaurants known for the...   \n",
       "7   What are some restaurants that offer a good di...   \n",
       "8   What are some restaurants with excellent servi...   \n",
       "9   What are some restaurants known for their larg...   \n",
       "10    What are some places that serve delicious food?   \n",
       "11  What are some other snack shops or convenience...   \n",
       "12   What are some places that offer brownie sundaes?   \n",
       "\n",
       "                              expected_ids  \\\n",
       "0   [37be3c44-96ee-4a76-b054-00461b69a63e]   \n",
       "1   [716413ae-6eb9-4ff6-8737-959217e4ccbc]   \n",
       "2   [2c67c79e-0733-405a-b0f4-a4a3630a6047]   \n",
       "3   [9fbd5ea5-ada6-4888-a4e8-3ca29b2beab8]   \n",
       "4   [6330dafa-19f0-45c9-9810-9297fef2a162]   \n",
       "5   [a8248e27-4017-4258-80f3-788eb11ed4f8]   \n",
       "6   [553a4a2e-22ea-4b5b-a8d0-82a6b09079e3]   \n",
       "7   [c1e05113-d367-4f2b-8910-c163b144c2c9]   \n",
       "8   [cc384023-0468-4b06-94f2-903bdd98fb11]   \n",
       "9   [003f3cdf-6934-46c0-be90-c466ecf7b5e8]   \n",
       "10  [0daba217-4083-4d8e-ba00-da8497310fb9]   \n",
       "11  [bebc6496-d1a1-408e-bd01-37c9db67d598]   \n",
       "12  [071b5f8f-f57a-42b9-8c86-e797cc864ccf]   \n",
       "\n",
       "                                        retrieved_ids  hit_rate  mrr  \\\n",
       "0   [37be3c44-96ee-4a76-b054-00461b69a63e, c1e0511...       1.0  1.0   \n",
       "1   [716413ae-6eb9-4ff6-8737-959217e4ccbc, bebc649...       1.0  1.0   \n",
       "2   [99395c10-efa2-41df-8b74-8f2ec8b023e0, 2c67c79...       1.0  0.5   \n",
       "3   [9fbd5ea5-ada6-4888-a4e8-3ca29b2beab8, 82d3c38...       1.0  1.0   \n",
       "4   [99395c10-efa2-41df-8b74-8f2ec8b023e0, 4c65096...       0.0  0.0   \n",
       "5   [a8248e27-4017-4258-80f3-788eb11ed4f8, 8c4df29...       1.0  1.0   \n",
       "6   [553a4a2e-22ea-4b5b-a8d0-82a6b09079e3, 8c4df29...       1.0  1.0   \n",
       "7   [0daba217-4083-4d8e-ba00-da8497310fb9, 553a4a2...       0.0  0.0   \n",
       "8   [cc384023-0468-4b06-94f2-903bdd98fb11, 8c4df29...       1.0  1.0   \n",
       "9   [003f3cdf-6934-46c0-be90-c466ecf7b5e8, 0e0d54d...       1.0  1.0   \n",
       "10  [cc384023-0468-4b06-94f2-903bdd98fb11, 553a4a2...       0.0  0.0   \n",
       "11  [e83e13c4-fe42-4814-8384-c9444c9761c1, 8c4df29...       1.0  0.2   \n",
       "12  [071b5f8f-f57a-42b9-8c86-e797cc864ccf, 37be3c4...       1.0  1.0   \n",
       "\n",
       "    precision  recall   ap      ndcg  \n",
       "0         0.1     1.0  1.0  0.220092  \n",
       "1         0.1     1.0  1.0  0.220092  \n",
       "2         0.1     1.0  0.5  0.138862  \n",
       "3         0.1     1.0  1.0  0.220092  \n",
       "4         0.0     0.0  0.0  0.000000  \n",
       "5         0.1     1.0  1.0  0.220092  \n",
       "6         0.1     1.0  1.0  0.220092  \n",
       "7         0.0     0.0  0.0  0.000000  \n",
       "8         0.1     1.0  1.0  0.220092  \n",
       "9         0.1     1.0  1.0  0.220092  \n",
       "10        0.0     0.0  0.0  0.000000  \n",
       "11        0.1     1.0  0.2  0.085143  \n",
       "12        0.1     1.0  1.0  0.220092  "
      ]
     },
     "execution_count": 42,
     "metadata": {},
     "output_type": "execute_result"
    }
   ],
   "source": [
    "retrieval_eval_results_full_df"
   ]
  },
  {
   "cell_type": "markdown",
   "id": "61f8f995-8182-4d97-8381-7585be4c8f82",
   "metadata": {},
   "source": [
    "## Error Analysis"
   ]
  },
  {
   "cell_type": "code",
   "execution_count": 43,
   "id": "14f73b30-c2fd-41ef-bab5-520d4c0649e3",
   "metadata": {},
   "outputs": [
    {
     "data": {
      "text/html": [
       "<div>\n",
       "<style scoped>\n",
       "    .dataframe tbody tr th:only-of-type {\n",
       "        vertical-align: middle;\n",
       "    }\n",
       "\n",
       "    .dataframe tbody tr th {\n",
       "        vertical-align: top;\n",
       "    }\n",
       "\n",
       "    .dataframe thead th {\n",
       "        text-align: right;\n",
       "    }\n",
       "</style>\n",
       "<table border=\"1\" class=\"dataframe\">\n",
       "  <thead>\n",
       "    <tr style=\"text-align: right;\">\n",
       "      <th></th>\n",
       "      <th>query</th>\n",
       "      <th>expected_ids</th>\n",
       "      <th>retrieved_ids</th>\n",
       "      <th>hit_rate</th>\n",
       "      <th>mrr</th>\n",
       "      <th>precision</th>\n",
       "      <th>recall</th>\n",
       "      <th>ap</th>\n",
       "      <th>ndcg</th>\n",
       "    </tr>\n",
       "  </thead>\n",
       "  <tbody>\n",
       "    <tr>\n",
       "      <th>4</th>\n",
       "      <td>What are some ice cream shops known for their delicious and unique flavors, especially pralines and cream?</td>\n",
       "      <td>[6330dafa-19f0-45c9-9810-9297fef2a162]</td>\n",
       "      <td>[99395c10-efa2-41df-8b74-8f2ec8b023e0, 4c65096c-25ff-4f75-9850-30983a2762f4, 7d27d2e6-a3db-4a84-9acb-b3803bb682ae, 8c4df29f-641e-46c3-a9d8-8bee00d8c655, 716413ae-6eb9-4ff6-8737-959217e4ccbc, e6db66a7-38a6-4b6d-9630-627a20647cfb, a8248e27-4017-4258-80f3-788eb11ed4f8, 553a4a2e-22ea-4b5b-a8d0-82a6b09079e3, e83e13c4-fe42-4814-8384-c9444c9761c1, 3514a9a8-b4fe-4194-b053-e0ab21719e2e]</td>\n",
       "      <td>0.0</td>\n",
       "      <td>0.0</td>\n",
       "      <td>0.0</td>\n",
       "      <td>0.0</td>\n",
       "      <td>0.0</td>\n",
       "      <td>0.0</td>\n",
       "    </tr>\n",
       "    <tr>\n",
       "      <th>7</th>\n",
       "      <td>What are some restaurants that offer a good dining experience?</td>\n",
       "      <td>[c1e05113-d367-4f2b-8910-c163b144c2c9]</td>\n",
       "      <td>[0daba217-4083-4d8e-ba00-da8497310fb9, 553a4a2e-22ea-4b5b-a8d0-82a6b09079e3, a8248e27-4017-4258-80f3-788eb11ed4f8, 82d3c380-5636-4475-85d8-6828231e110d, e6db66a7-38a6-4b6d-9630-627a20647cfb, e83e13c4-fe42-4814-8384-c9444c9761c1, 7d27d2e6-a3db-4a84-9acb-b3803bb682ae, 54e9c17c-a4fb-4351-8c84-009a4c0c25e5, 909e5e89-e168-4427-b745-291de49a670a, e4fe7e2a-f6fa-4aee-92bd-184a330798e0]</td>\n",
       "      <td>0.0</td>\n",
       "      <td>0.0</td>\n",
       "      <td>0.0</td>\n",
       "      <td>0.0</td>\n",
       "      <td>0.0</td>\n",
       "      <td>0.0</td>\n",
       "    </tr>\n",
       "    <tr>\n",
       "      <th>10</th>\n",
       "      <td>What are some places that serve delicious food?</td>\n",
       "      <td>[0daba217-4083-4d8e-ba00-da8497310fb9]</td>\n",
       "      <td>[cc384023-0468-4b06-94f2-903bdd98fb11, 553a4a2e-22ea-4b5b-a8d0-82a6b09079e3, e6db66a7-38a6-4b6d-9630-627a20647cfb, 8c4df29f-641e-46c3-a9d8-8bee00d8c655, a8248e27-4017-4258-80f3-788eb11ed4f8, 6330dafa-19f0-45c9-9810-9297fef2a162, 4395549d-7928-49a8-a00d-0923785f88fb, 99395c10-efa2-41df-8b74-8f2ec8b023e0, 658c38e3-e30b-42ba-abf0-8025fef69713, ba65ed5f-0b6a-4072-ac5a-4297acdeff15]</td>\n",
       "      <td>0.0</td>\n",
       "      <td>0.0</td>\n",
       "      <td>0.0</td>\n",
       "      <td>0.0</td>\n",
       "      <td>0.0</td>\n",
       "      <td>0.0</td>\n",
       "    </tr>\n",
       "  </tbody>\n",
       "</table>\n",
       "</div>"
      ],
      "text/plain": [
       "                                                                                                         query  \\\n",
       "4   What are some ice cream shops known for their delicious and unique flavors, especially pralines and cream?   \n",
       "7                                               What are some restaurants that offer a good dining experience?   \n",
       "10                                                             What are some places that serve delicious food?   \n",
       "\n",
       "                              expected_ids  \\\n",
       "4   [6330dafa-19f0-45c9-9810-9297fef2a162]   \n",
       "7   [c1e05113-d367-4f2b-8910-c163b144c2c9]   \n",
       "10  [0daba217-4083-4d8e-ba00-da8497310fb9]   \n",
       "\n",
       "                                                                                                                                                                                                                                                                                                                                                                                   retrieved_ids  \\\n",
       "4   [99395c10-efa2-41df-8b74-8f2ec8b023e0, 4c65096c-25ff-4f75-9850-30983a2762f4, 7d27d2e6-a3db-4a84-9acb-b3803bb682ae, 8c4df29f-641e-46c3-a9d8-8bee00d8c655, 716413ae-6eb9-4ff6-8737-959217e4ccbc, e6db66a7-38a6-4b6d-9630-627a20647cfb, a8248e27-4017-4258-80f3-788eb11ed4f8, 553a4a2e-22ea-4b5b-a8d0-82a6b09079e3, e83e13c4-fe42-4814-8384-c9444c9761c1, 3514a9a8-b4fe-4194-b053-e0ab21719e2e]   \n",
       "7   [0daba217-4083-4d8e-ba00-da8497310fb9, 553a4a2e-22ea-4b5b-a8d0-82a6b09079e3, a8248e27-4017-4258-80f3-788eb11ed4f8, 82d3c380-5636-4475-85d8-6828231e110d, e6db66a7-38a6-4b6d-9630-627a20647cfb, e83e13c4-fe42-4814-8384-c9444c9761c1, 7d27d2e6-a3db-4a84-9acb-b3803bb682ae, 54e9c17c-a4fb-4351-8c84-009a4c0c25e5, 909e5e89-e168-4427-b745-291de49a670a, e4fe7e2a-f6fa-4aee-92bd-184a330798e0]   \n",
       "10  [cc384023-0468-4b06-94f2-903bdd98fb11, 553a4a2e-22ea-4b5b-a8d0-82a6b09079e3, e6db66a7-38a6-4b6d-9630-627a20647cfb, 8c4df29f-641e-46c3-a9d8-8bee00d8c655, a8248e27-4017-4258-80f3-788eb11ed4f8, 6330dafa-19f0-45c9-9810-9297fef2a162, 4395549d-7928-49a8-a00d-0923785f88fb, 99395c10-efa2-41df-8b74-8f2ec8b023e0, 658c38e3-e30b-42ba-abf0-8025fef69713, ba65ed5f-0b6a-4072-ac5a-4297acdeff15]   \n",
       "\n",
       "    hit_rate  mrr  precision  recall   ap  ndcg  \n",
       "4        0.0  0.0        0.0     0.0  0.0   0.0  \n",
       "7        0.0  0.0        0.0     0.0  0.0   0.0  \n",
       "10       0.0  0.0        0.0     0.0  0.0   0.0  "
      ]
     },
     "metadata": {},
     "output_type": "display_data"
    }
   ],
   "source": [
    "retrieval_eval_irrelevance_df = (\n",
    "    retrieval_eval_results_full_df\n",
    "    .loc[lambda df: df['hit_rate'].lt(1)]\n",
    "    .sort_values(['hit_rate', 'mrr', 'precision', 'recall', 'ap', 'ndcg'])\n",
    ")\n",
    "with pd.option_context('display.max_colwidth', 400):\n",
    "    display(retrieval_eval_irrelevance_df)"
   ]
  },
  {
   "cell_type": "code",
   "execution_count": 44,
   "id": "fae29566-fa45-4876-8467-d843aae3b3a8",
   "metadata": {},
   "outputs": [
    {
     "name": "stdout",
     "output_type": "stream",
     "text": [
      "\n",
      "\n",
      "============Error #1=============\n",
      "\n",
      "\n",
      "Query:\n",
      "What are some ice cream shops known for their delicious and unique flavors, especially pralines and cream?\n",
      "\n",
      "- Expected contexts:\n",
      "\n",
      "review_stars: 5\n",
      "biz_name: Mike's Ice Cream\n",
      "biz_address: 129 2nd Ave N\n",
      "biz_city: Nashville\n",
      "biz_state: TN\n",
      "biz_categories: ['Ice Cream & Frozen Yogurt', 'Coffee & Tea', 'Restaurants', 'Sandwiches', 'Food']\n",
      "\n",
      "This place was amazing! I only tried their ice cream I really wanted to try the hot chocolate but didn't get a chance :(. Well the ice cream was great! The first night I came here I got a brownie sundae all for myself, brownie on the bottom and three scoops of ice cream topped with whipped cream and nuts. I finished it all happily! I chose pumpkin cake flavor which was delicious and smooth. I also got pralines and cream that was better than other praline ice creams. The Tennessee fudge was vanilla with fudge swirled it was good not too special. \n",
      "\n",
      "The next time I came I got nutter butter ice cream that was really good had cookie pieces in it! I got the hot fudge topping over it and that was a great combination. \n",
      "\n",
      "The service was great the workers were really nice and patient with me haha indecisive! They would joke around with me and let me sample all I wanted.\n",
      "\n",
      "- Retrieved contexts:\n",
      "\n"
     ]
    },
    {
     "ename": "ValueError",
     "evalue": "doc_id 4c65096c-25ff-4f75-9850-30983a2762f4 not found.",
     "output_type": "error",
     "traceback": [
      "\u001b[0;31m---------------------------------------------------------------------------\u001b[0m",
      "\u001b[0;31mValueError\u001b[0m                                Traceback (most recent call last)",
      "Cell \u001b[0;32mIn[44], line 10\u001b[0m\n\u001b[1;32m      7\u001b[0m     \u001b[38;5;28mprint\u001b[39m(node\u001b[38;5;241m.\u001b[39mget_content(metadata_mode\u001b[38;5;241m=\u001b[39mMetadataMode\u001b[38;5;241m.\u001b[39mLLM))\n\u001b[1;32m      9\u001b[0m \u001b[38;5;28mprint\u001b[39m(\u001b[38;5;124mf\u001b[39m\u001b[38;5;124m\"\u001b[39m\u001b[38;5;130;01m\\n\u001b[39;00m\u001b[38;5;124m- Retrieved contexts:\u001b[39m\u001b[38;5;130;01m\\n\u001b[39;00m\u001b[38;5;124m\"\u001b[39m)\n\u001b[0;32m---> 10\u001b[0m retrieved_nodes \u001b[38;5;241m=\u001b[39m \u001b[43mdocstore\u001b[49m\u001b[38;5;241;43m.\u001b[39;49m\u001b[43mget_nodes\u001b[49m\u001b[43m(\u001b[49m\u001b[43mrow\u001b[49m\u001b[38;5;241;43m.\u001b[39;49m\u001b[43mretrieved_ids\u001b[49m\u001b[43m)\u001b[49m\n\u001b[1;32m     11\u001b[0m \u001b[38;5;28;01mfor\u001b[39;00m i, node \u001b[38;5;129;01min\u001b[39;00m \u001b[38;5;28menumerate\u001b[39m(retrieved_nodes[:\u001b[38;5;241m10\u001b[39m]):\n\u001b[1;32m     12\u001b[0m     \u001b[38;5;28mprint\u001b[39m(\u001b[38;5;124mf\u001b[39m\u001b[38;5;124m\"\u001b[39m\u001b[38;5;124m+ Context #\u001b[39m\u001b[38;5;132;01m{\u001b[39;00mi\u001b[38;5;241m+\u001b[39m\u001b[38;5;241m1\u001b[39m\u001b[38;5;132;01m}\u001b[39;00m\u001b[38;5;124m:\u001b[39m\u001b[38;5;130;01m\\n\u001b[39;00m\u001b[38;5;130;01m\\n\u001b[39;00m\u001b[38;5;132;01m{\u001b[39;00mnode\u001b[38;5;241m.\u001b[39mget_content(metadata_mode\u001b[38;5;241m=\u001b[39mMetadataMode\u001b[38;5;241m.\u001b[39mLLM)\u001b[38;5;132;01m}\u001b[39;00m\u001b[38;5;130;01m\\n\u001b[39;00m\u001b[38;5;124m\"\u001b[39m)\n",
      "File \u001b[0;32m~/.cache/pypoetry/virtualenvs/personal-bot-bBSbD0Py-py3.12/lib/python3.12/site-packages/llama_index/core/storage/docstore/types.py:156\u001b[0m, in \u001b[0;36mBaseDocumentStore.get_nodes\u001b[0;34m(self, node_ids, raise_error)\u001b[0m\n\u001b[1;32m    146\u001b[0m \u001b[38;5;28;01mdef\u001b[39;00m \u001b[38;5;21mget_nodes\u001b[39m(\n\u001b[1;32m    147\u001b[0m     \u001b[38;5;28mself\u001b[39m, node_ids: List[\u001b[38;5;28mstr\u001b[39m], raise_error: \u001b[38;5;28mbool\u001b[39m \u001b[38;5;241m=\u001b[39m \u001b[38;5;28;01mTrue\u001b[39;00m\n\u001b[1;32m    148\u001b[0m ) \u001b[38;5;241m-\u001b[39m\u001b[38;5;241m>\u001b[39m List[BaseNode]:\n\u001b[1;32m    149\u001b[0m \u001b[38;5;250m    \u001b[39m\u001b[38;5;124;03m\"\"\"Get nodes from docstore.\u001b[39;00m\n\u001b[1;32m    150\u001b[0m \n\u001b[1;32m    151\u001b[0m \u001b[38;5;124;03m    Args:\u001b[39;00m\n\u001b[0;32m   (...)\u001b[0m\n\u001b[1;32m    154\u001b[0m \n\u001b[1;32m    155\u001b[0m \u001b[38;5;124;03m    \"\"\"\u001b[39;00m\n\u001b[0;32m--> 156\u001b[0m     \u001b[38;5;28;01mreturn\u001b[39;00m [\u001b[38;5;28;43mself\u001b[39;49m\u001b[38;5;241;43m.\u001b[39;49m\u001b[43mget_node\u001b[49m\u001b[43m(\u001b[49m\u001b[43mnode_id\u001b[49m\u001b[43m,\u001b[49m\u001b[43m \u001b[49m\u001b[43mraise_error\u001b[49m\u001b[38;5;241;43m=\u001b[39;49m\u001b[43mraise_error\u001b[49m\u001b[43m)\u001b[49m \u001b[38;5;28;01mfor\u001b[39;00m node_id \u001b[38;5;129;01min\u001b[39;00m node_ids]\n",
      "File \u001b[0;32m~/.cache/pypoetry/virtualenvs/personal-bot-bBSbD0Py-py3.12/lib/python3.12/site-packages/llama_index/core/storage/docstore/types.py:181\u001b[0m, in \u001b[0;36mBaseDocumentStore.get_node\u001b[0;34m(self, node_id, raise_error)\u001b[0m\n\u001b[1;32m    173\u001b[0m \u001b[38;5;28;01mdef\u001b[39;00m \u001b[38;5;21mget_node\u001b[39m(\u001b[38;5;28mself\u001b[39m, node_id: \u001b[38;5;28mstr\u001b[39m, raise_error: \u001b[38;5;28mbool\u001b[39m \u001b[38;5;241m=\u001b[39m \u001b[38;5;28;01mTrue\u001b[39;00m) \u001b[38;5;241m-\u001b[39m\u001b[38;5;241m>\u001b[39m BaseNode:\n\u001b[1;32m    174\u001b[0m \u001b[38;5;250m    \u001b[39m\u001b[38;5;124;03m\"\"\"Get node from docstore.\u001b[39;00m\n\u001b[1;32m    175\u001b[0m \n\u001b[1;32m    176\u001b[0m \u001b[38;5;124;03m    Args:\u001b[39;00m\n\u001b[0;32m   (...)\u001b[0m\n\u001b[1;32m    179\u001b[0m \n\u001b[1;32m    180\u001b[0m \u001b[38;5;124;03m    \"\"\"\u001b[39;00m\n\u001b[0;32m--> 181\u001b[0m     doc \u001b[38;5;241m=\u001b[39m \u001b[38;5;28;43mself\u001b[39;49m\u001b[38;5;241;43m.\u001b[39;49m\u001b[43mget_document\u001b[49m\u001b[43m(\u001b[49m\u001b[43mnode_id\u001b[49m\u001b[43m,\u001b[49m\u001b[43m \u001b[49m\u001b[43mraise_error\u001b[49m\u001b[38;5;241;43m=\u001b[39;49m\u001b[43mraise_error\u001b[49m\u001b[43m)\u001b[49m\n\u001b[1;32m    182\u001b[0m     \u001b[38;5;28;01mif\u001b[39;00m \u001b[38;5;129;01mnot\u001b[39;00m \u001b[38;5;28misinstance\u001b[39m(doc, BaseNode):\n\u001b[1;32m    183\u001b[0m         \u001b[38;5;28;01mraise\u001b[39;00m \u001b[38;5;167;01mValueError\u001b[39;00m(\u001b[38;5;124mf\u001b[39m\u001b[38;5;124m\"\u001b[39m\u001b[38;5;124mDocument \u001b[39m\u001b[38;5;132;01m{\u001b[39;00mnode_id\u001b[38;5;132;01m}\u001b[39;00m\u001b[38;5;124m is not a Node.\u001b[39m\u001b[38;5;124m\"\u001b[39m)\n",
      "File \u001b[0;32m~/.cache/pypoetry/virtualenvs/personal-bot-bBSbD0Py-py3.12/lib/python3.12/site-packages/llama_index/core/storage/docstore/keyval_docstore.py:360\u001b[0m, in \u001b[0;36mKVDocumentStore.get_document\u001b[0;34m(self, doc_id, raise_error)\u001b[0m\n\u001b[1;32m    358\u001b[0m \u001b[38;5;28;01mif\u001b[39;00m json \u001b[38;5;129;01mis\u001b[39;00m \u001b[38;5;28;01mNone\u001b[39;00m:\n\u001b[1;32m    359\u001b[0m     \u001b[38;5;28;01mif\u001b[39;00m raise_error:\n\u001b[0;32m--> 360\u001b[0m         \u001b[38;5;28;01mraise\u001b[39;00m \u001b[38;5;167;01mValueError\u001b[39;00m(\u001b[38;5;124mf\u001b[39m\u001b[38;5;124m\"\u001b[39m\u001b[38;5;124mdoc_id \u001b[39m\u001b[38;5;132;01m{\u001b[39;00mdoc_id\u001b[38;5;132;01m}\u001b[39;00m\u001b[38;5;124m not found.\u001b[39m\u001b[38;5;124m\"\u001b[39m)\n\u001b[1;32m    361\u001b[0m     \u001b[38;5;28;01melse\u001b[39;00m:\n\u001b[1;32m    362\u001b[0m         \u001b[38;5;28;01mreturn\u001b[39;00m \u001b[38;5;28;01mNone\u001b[39;00m\n",
      "\u001b[0;31mValueError\u001b[0m: doc_id 4c65096c-25ff-4f75-9850-30983a2762f4 not found."
     ]
    }
   ],
   "source": [
    "for i, row in retrieval_eval_irrelevance_df.reset_index(drop=True).iterrows():\n",
    "    print(f\"\\n\\n============Error #{i+1}=============\\n\\n\")\n",
    "    print(f\"Query:\\n{row.query}\\n\")\n",
    "    print(f\"- Expected contexts:\\n\")\n",
    "    expected_nodes = docstore.get_nodes(row.expected_ids)\n",
    "    for node in expected_nodes:\n",
    "        print(node.get_content(metadata_mode=MetadataMode.LLM))\n",
    "\n",
    "    print(f\"\\n- Retrieved contexts:\\n\")\n",
    "    retrieved_nodes = docstore.get_nodes(row.retrieved_ids)\n",
    "    for i, node in enumerate(retrieved_nodes[:10]):\n",
    "        print(f\"+ Context #{i+1}:\\n\\n{node.get_content(metadata_mode=MetadataMode.LLM)}\\n\")"
   ]
  },
  {
   "cell_type": "code",
   "execution_count": 45,
   "id": "2495c546-44de-4fd8-834e-fa4e77f82c2c",
   "metadata": {},
   "outputs": [
    {
     "name": "stdout",
     "output_type": "stream",
     "text": [
      "Generated queries:\n",
      "good grocery stores nashville curated items unique local products\n",
      "I visited Good Gumption Grocery in Nashville, where they have an amazing selection of locally sourced and handpicked items. The store offers a wide variety of unique products you won't find elsewhere in the city.\n"
     ]
    },
    {
     "data": {
      "text/markdown": [
       "**Node ID:** 7d27d2e6-a3db-4a84-9acb-b3803bb682ae<br>**Similarity:** 0.06533538146441371<br>**Text:** Some unique flavors too. Not much else to say but an amazing ice cream store that others should try to emulate.<br>"
      ],
      "text/plain": [
       "<IPython.core.display.Markdown object>"
      ]
     },
     "metadata": {},
     "output_type": "display_data"
    },
    {
     "name": "stdout",
     "output_type": "stream",
     "text": [
      "review_stars: 5\n",
      "biz_name: Mike's Ice Cream\n",
      "biz_address: 129 2nd Ave N\n",
      "biz_city: Nashville\n",
      "biz_state: TN\n",
      "biz_categories: ['Ice Cream & Frozen Yogurt', 'Coffee & Tea', 'Restaurants', 'Sandwiches', 'Food']\n",
      "\n",
      "Some unique flavors too. Not much else to say but an amazing ice cream store that others should try to emulate.\n",
      "\n",
      "\n"
     ]
    },
    {
     "data": {
      "text/markdown": [
       "**Node ID:** a8248e27-4017-4258-80f3-788eb11ed4f8<br>**Similarity:** 0.06252326302729529<br>**Text:** Grab a bite, grab some tastings, life is good. Right next door to the Santa Barbara Wine Collective, in fact it actually shares the same tables.  We had a fabulous savory croissant.<br>"
      ],
      "text/plain": [
       "<IPython.core.display.Markdown object>"
      ]
     },
     "metadata": {},
     "output_type": "display_data"
    },
    {
     "name": "stdout",
     "output_type": "stream",
     "text": [
      "review_stars: 5\n",
      "biz_name: Helena Avenue Bakery\n",
      "biz_address: 131 Anacapa St, Ste C\n",
      "biz_city: Santa Barbara\n",
      "biz_state: CA\n",
      "biz_categories: ['Food', 'Restaurants', 'Salad', 'Coffee & Tea', 'Breakfast & Brunch', 'Sandwiches', 'Bakeries']\n",
      "\n",
      "Grab a bite, grab some tastings, life is good. Right next door to the Santa Barbara Wine Collective, in fact it actually shares the same tables.  We had a fabulous savory croissant.\n",
      "\n",
      "\n"
     ]
    },
    {
     "data": {
      "text/markdown": [
       "**Node ID:** 0daba217-4083-4d8e-ba00-da8497310fb9<br>**Similarity:** 0.060952668234194096<br>**Text:** Oh my gosh, it was so good!<br>"
      ],
      "text/plain": [
       "<IPython.core.display.Markdown object>"
      ]
     },
     "metadata": {},
     "output_type": "display_data"
    },
    {
     "name": "stdout",
     "output_type": "stream",
     "text": [
      "review_stars: 5\n",
      "biz_name: Helena Avenue Bakery\n",
      "biz_address: 131 Anacapa St, Ste C\n",
      "biz_city: Santa Barbara\n",
      "biz_state: CA\n",
      "biz_categories: ['Food', 'Restaurants', 'Salad', 'Coffee & Tea', 'Breakfast & Brunch', 'Sandwiches', 'Bakeries']\n",
      "\n",
      "Oh my gosh, it was so good!\n",
      "\n",
      "\n"
     ]
    },
    {
     "data": {
      "text/markdown": [
       "**Node ID:** e83e13c4-fe42-4814-8384-c9444c9761c1<br>**Similarity:** 0.06043547258047374<br>**Text:** Wawa is like a beacon in a cold, dark world.  I grew up around Sheetz locations, but I have to admit that I prefer Wawa.  The sandwiches are really good, and they have the typical snacks/drinks you would expect from a convenience store.<br>"
      ],
      "text/plain": [
       "<IPython.core.display.Markdown object>"
      ]
     },
     "metadata": {},
     "output_type": "display_data"
    },
    {
     "name": "stdout",
     "output_type": "stream",
     "text": [
      "review_stars: 4\n",
      "biz_name: Wawa\n",
      "biz_address: 3604 Chestnut St\n",
      "biz_city: Philadelphia\n",
      "biz_state: PA\n",
      "biz_categories: ['Restaurants', 'Automotive', 'Delis', 'Gas Stations', 'Food', 'Coffee & Tea', 'Sandwiches', 'Convenience Stores']\n",
      "\n",
      "Wawa is like a beacon in a cold, dark world.  I grew up around Sheetz locations, but I have to admit that I prefer Wawa.  The sandwiches are really good, and they have the typical snacks/drinks you would expect from a convenience store.\n",
      "\n",
      "\n"
     ]
    },
    {
     "data": {
      "text/markdown": [
       "**Node ID:** 82d3c380-5636-4475-85d8-6828231e110d<br>**Similarity:** 0.04712301587301587<br>**Text:** Lots of good choices in the grab and go section, and our salami and pesto sammy was also great. I'd go back!<br>"
      ],
      "text/plain": [
       "<IPython.core.display.Markdown object>"
      ]
     },
     "metadata": {},
     "output_type": "display_data"
    },
    {
     "name": "stdout",
     "output_type": "stream",
     "text": [
      "review_stars: 4\n",
      "biz_name: Helena Avenue Bakery\n",
      "biz_address: 131 Anacapa St, Ste C\n",
      "biz_city: Santa Barbara\n",
      "biz_state: CA\n",
      "biz_categories: ['Food', 'Restaurants', 'Salad', 'Coffee & Tea', 'Breakfast & Brunch', 'Sandwiches', 'Bakeries']\n",
      "\n",
      "Lots of good choices in the grab and go section, and our salami and pesto sammy was also great. I'd go back!\n",
      "\n",
      "\n"
     ]
    },
    {
     "data": {
      "text/markdown": [
       "**Node ID:** e6db66a7-38a6-4b6d-9630-627a20647cfb<br>**Similarity:** 0.046244188891607536<br>**Text:** What a great addition to the Funk Zone!<br>"
      ],
      "text/plain": [
       "<IPython.core.display.Markdown object>"
      ]
     },
     "metadata": {},
     "output_type": "display_data"
    },
    {
     "name": "stdout",
     "output_type": "stream",
     "text": [
      "review_stars: 5\n",
      "biz_name: Helena Avenue Bakery\n",
      "biz_address: 131 Anacapa St, Ste C\n",
      "biz_city: Santa Barbara\n",
      "biz_state: CA\n",
      "biz_categories: ['Food', 'Restaurants', 'Salad', 'Coffee & Tea', 'Breakfast & Brunch', 'Sandwiches', 'Bakeries']\n",
      "\n",
      "What a great addition to the Funk Zone!\n",
      "\n",
      "\n"
     ]
    },
    {
     "data": {
      "text/markdown": [
       "**Node ID:** a4fe5190-a2a4-42f8-910b-46685248346f<br>**Similarity:** 0.03306010928961749<br>**Text:** Super tasty and enormous portions.<br>"
      ],
      "text/plain": [
       "<IPython.core.display.Markdown object>"
      ]
     },
     "metadata": {},
     "output_type": "display_data"
    },
    {
     "name": "stdout",
     "output_type": "stream",
     "text": [
      "review_stars: 5\n",
      "biz_name: Mike's Ice Cream\n",
      "biz_address: 129 2nd Ave N\n",
      "biz_city: Nashville\n",
      "biz_state: TN\n",
      "biz_categories: ['Ice Cream & Frozen Yogurt', 'Coffee & Tea', 'Restaurants', 'Sandwiches', 'Food']\n",
      "\n",
      "Super tasty and enormous portions.\n",
      "\n",
      "\n"
     ]
    },
    {
     "data": {
      "text/markdown": [
       "**Node ID:** 4c65096c-25ff-4f75-9850-30983a2762f4<br>**Similarity:** 0.03306010928961749<br>**Text:** This place was amazing! I only tried their ice cream I really wanted to try the hot chocolate but didn't get a chance :(. Well the ice cream was great! The first night I came here I got a brownie sundae all for myself, brownie on the bottom and three scoops of ice cream topped with whipped cream and nuts. I finished it all happily! I chose pumpkin cake flavor which was delicious and smooth. I also got pralines and cream that was better than other praline ice creams. The Tennessee fudge was vanilla with fudge swirled it was good not too special. \n",
       "\n",
       "The next time I came I got nutter butter ice cream that was really good had cookie pieces in it! I got the hot fudge topping over it and that was a great combination. \n",
       "\n",
       "The service was great the workers were really nice and patient with me haha indecisive! They would joke around with me and let me sample all I wanted.<br>"
      ],
      "text/plain": [
       "<IPython.core.display.Markdown object>"
      ]
     },
     "metadata": {},
     "output_type": "display_data"
    },
    {
     "name": "stdout",
     "output_type": "stream",
     "text": [
      "review_stars: 5\n",
      "biz_name: Mike's Ice Cream\n",
      "biz_address: 129 2nd Ave N\n",
      "biz_city: Nashville\n",
      "biz_state: TN\n",
      "biz_categories: ['Ice Cream & Frozen Yogurt', 'Coffee & Tea', 'Restaurants', 'Sandwiches', 'Food']\n",
      "\n",
      "This place was amazing! I only tried their ice cream I really wanted to try the hot chocolate but didn't get a chance :(. Well the ice cream was great! The first night I came here I got a brownie sundae all for myself, brownie on the bottom and three scoops of ice cream topped with whipped cream and nuts. I finished it all happily! I chose pumpkin cake flavor which was delicious and smooth. I also got pralines and cream that was better than other praline ice creams. The Tennessee fudge was vanilla with fudge swirled it was good not too special. \n",
      "\n",
      "The next time I came I got nutter butter ice cream that was really good had cookie pieces in it! I got the hot fudge topping over it and that was a great combination. \n",
      "\n",
      "The service was great the workers were really nice and patient with me haha indecisive! They would joke around with me and let me sample all I wanted.\n",
      "\n",
      "\n"
     ]
    },
    {
     "data": {
      "text/markdown": [
       "**Node ID:** 3514a9a8-b4fe-4194-b053-e0ab21719e2e<br>**Similarity:** 0.03200204813108039<br>**Text:** Also no judgement for eating all the brownie sundae alone :) lol<br>"
      ],
      "text/plain": [
       "<IPython.core.display.Markdown object>"
      ]
     },
     "metadata": {},
     "output_type": "display_data"
    },
    {
     "name": "stdout",
     "output_type": "stream",
     "text": [
      "review_stars: 5\n",
      "biz_name: Mike's Ice Cream\n",
      "biz_address: 129 2nd Ave N\n",
      "biz_city: Nashville\n",
      "biz_state: TN\n",
      "biz_categories: ['Ice Cream & Frozen Yogurt', 'Coffee & Tea', 'Restaurants', 'Sandwiches', 'Food']\n",
      "\n",
      "Also no judgement for eating all the brownie sundae alone :) lol\n",
      "\n",
      "\n"
     ]
    },
    {
     "data": {
      "text/markdown": [
       "**Node ID:** 50b0339f-e1c7-43ca-a9ee-4a759ff99a11<br>**Similarity:** 0.030303030303030304<br>**Text:** This particular location is not quite as friendly as the one I go to near the office, but whatever.  I can still walk out with all of my snacking requirements.<br>"
      ],
      "text/plain": [
       "<IPython.core.display.Markdown object>"
      ]
     },
     "metadata": {},
     "output_type": "display_data"
    },
    {
     "name": "stdout",
     "output_type": "stream",
     "text": [
      "review_stars: 4\n",
      "biz_name: Wawa\n",
      "biz_address: 3604 Chestnut St\n",
      "biz_city: Philadelphia\n",
      "biz_state: PA\n",
      "biz_categories: ['Restaurants', 'Automotive', 'Delis', 'Gas Stations', 'Food', 'Coffee & Tea', 'Sandwiches', 'Convenience Stores']\n",
      "\n",
      "This particular location is not quite as friendly as the one I go to near the office, but whatever.  I can still walk out with all of my snacking requirements.\n",
      "\n",
      "\n"
     ]
    },
    {
     "data": {
      "text/plain": [
       "[NodeWithScore(node=TextNode(id_='7d27d2e6-a3db-4a84-9acb-b3803bb682ae', embedding=None, metadata={'review_id': '6odPSjoPWOyeDQpgJbdGaA', 'user_id': 'jLr7vcDg43TqS2OK4ROvPQ', 'business_id': 'oaboaRBUgGjbo2kfUIKDLQ', 'review_stars': 5, 'useful': 0, 'funny': 0, 'cool': 0, 'date': '2016-03-30T23:22:54', 'biz_name': \"Mike's Ice Cream\", 'biz_address': '129 2nd Ave N', 'biz_city': 'Nashville', 'biz_state': 'TN', 'biz_postal_code': '37201', 'biz_latitude': 36.1626492, 'biz_longitude': -86.7759733, 'biz_stars': 4.5, 'biz_review_count': 593, 'biz_is_open': 1, 'biz_attributes': {'AcceptsInsurance': None, 'Alcohol': \"u'none'\", 'Ambience': \"{'romantic': False, 'intimate': False, 'touristy': False, 'hipster': False, 'divey': False, 'classy': False, 'trendy': False, 'upscale': False, 'casual': True}\", 'BYOB': None, 'BestNights': None, 'BikeParking': 'False', 'BusinessAcceptsBitcoin': None, 'BusinessAcceptsCreditCards': 'True', 'BusinessParking': \"{'garage': False, 'street': True, 'validated': False, 'lot': False, 'valet': False}\", 'ByAppointmentOnly': 'False', 'Caters': 'False', 'CoatCheck': None, 'Corkage': None, 'DogsAllowed': 'False', 'DriveThru': 'False', 'GoodForDancing': None, 'GoodForKids': 'True', 'GoodForMeal': None, 'HappyHour': None, 'HasTV': 'False', 'Music': None, 'NoiseLevel': \"u'average'\", 'OutdoorSeating': 'None', 'RestaurantsAttire': \"'casual'\", 'RestaurantsDelivery': 'None', 'RestaurantsGoodForGroups': 'True', 'RestaurantsPriceRange2': '2', 'RestaurantsReservations': 'False', 'RestaurantsTableService': None, 'RestaurantsTakeOut': 'True', 'Smoking': None, 'WheelchairAccessible': None, 'WiFi': \"'free'\"}, 'biz_categories': ['Ice Cream & Frozen Yogurt', 'Coffee & Tea', 'Restaurants', 'Sandwiches', 'Food'], 'biz_hours': {'Friday': '8:0-0:0', 'Monday': '8:0-23:0', 'Saturday': '8:0-0:30', 'Sunday': '8:0-23:0', 'Thursday': '8:0-23:0', 'Tuesday': '8:0-23:0', 'Wednesday': '8:0-23:0'}}, excluded_embed_metadata_keys=['review_id', 'user_id', 'business_id', 'useful', 'funny', 'cool', 'text', 'date', 'biz_postal_code', 'biz_latitude', 'biz_longitude', 'biz_stars', 'biz_review_count', 'biz_is_open', 'biz_attributes', 'biz_hours'], excluded_llm_metadata_keys=['review_id', 'user_id', 'business_id', 'useful', 'funny', 'cool', 'text', 'date', 'biz_postal_code', 'biz_latitude', 'biz_longitude', 'biz_stars', 'biz_review_count', 'biz_is_open', 'biz_attributes', 'biz_hours'], relationships={<NodeRelationship.SOURCE: '1'>: RelatedNodeInfo(node_id='2e50e71f-8c0a-46df-aaad-71c6f9addcea', node_type=<ObjectType.DOCUMENT: '4'>, metadata={'review_id': '6odPSjoPWOyeDQpgJbdGaA', 'user_id': 'jLr7vcDg43TqS2OK4ROvPQ', 'business_id': 'oaboaRBUgGjbo2kfUIKDLQ', 'review_stars': 5, 'useful': 0, 'funny': 0, 'cool': 0, 'date': '2016-03-30T23:22:54', 'biz_name': \"Mike's Ice Cream\", 'biz_address': '129 2nd Ave N', 'biz_city': 'Nashville', 'biz_state': 'TN', 'biz_postal_code': '37201', 'biz_latitude': 36.1626492, 'biz_longitude': -86.7759733, 'biz_stars': 4.5, 'biz_review_count': 593, 'biz_is_open': 1, 'biz_attributes': {'AcceptsInsurance': None, 'Alcohol': \"u'none'\", 'Ambience': \"{'romantic': False, 'intimate': False, 'touristy': False, 'hipster': False, 'divey': False, 'classy': False, 'trendy': False, 'upscale': False, 'casual': True}\", 'BYOB': None, 'BestNights': None, 'BikeParking': 'False', 'BusinessAcceptsBitcoin': None, 'BusinessAcceptsCreditCards': 'True', 'BusinessParking': \"{'garage': False, 'street': True, 'validated': False, 'lot': False, 'valet': False}\", 'ByAppointmentOnly': 'False', 'Caters': 'False', 'CoatCheck': None, 'Corkage': None, 'DogsAllowed': 'False', 'DriveThru': 'False', 'GoodForDancing': None, 'GoodForKids': 'True', 'GoodForMeal': None, 'HappyHour': None, 'HasTV': 'False', 'Music': None, 'NoiseLevel': \"u'average'\", 'OutdoorSeating': 'None', 'RestaurantsAttire': \"'casual'\", 'RestaurantsDelivery': 'None', 'RestaurantsGoodForGroups': 'True', 'RestaurantsPriceRange2': '2', 'RestaurantsReservations': 'False', 'RestaurantsTableService': None, 'RestaurantsTakeOut': 'True', 'Smoking': None, 'WheelchairAccessible': None, 'WiFi': \"'free'\"}, 'biz_categories': ['Ice Cream & Frozen Yogurt', 'Coffee & Tea', 'Restaurants', 'Sandwiches', 'Food'], 'biz_hours': {'Friday': '8:0-0:0', 'Monday': '8:0-23:0', 'Saturday': '8:0-0:30', 'Sunday': '8:0-23:0', 'Thursday': '8:0-23:0', 'Tuesday': '8:0-23:0', 'Wednesday': '8:0-23:0'}}, hash='4e6eaf77cc219d7db815239a90d6c48f71295c19612b7859ea261c1fb2278a65'), <NodeRelationship.PREVIOUS: '2'>: RelatedNodeInfo(node_id='003f3cdf-6934-46c0-be90-c466ecf7b5e8', node_type=<ObjectType.TEXT: '1'>, metadata={'review_id': '6odPSjoPWOyeDQpgJbdGaA', 'user_id': 'jLr7vcDg43TqS2OK4ROvPQ', 'business_id': 'oaboaRBUgGjbo2kfUIKDLQ', 'review_stars': 5, 'useful': 0, 'funny': 0, 'cool': 0, 'date': '2016-03-30T23:22:54', 'biz_name': \"Mike's Ice Cream\", 'biz_address': '129 2nd Ave N', 'biz_city': 'Nashville', 'biz_state': 'TN', 'biz_postal_code': '37201', 'biz_latitude': 36.1626492, 'biz_longitude': -86.7759733, 'biz_stars': 4.5, 'biz_review_count': 593, 'biz_is_open': 1, 'biz_attributes': {'AcceptsInsurance': None, 'Alcohol': \"u'none'\", 'Ambience': \"{'romantic': False, 'intimate': False, 'touristy': False, 'hipster': False, 'divey': False, 'classy': False, 'trendy': False, 'upscale': False, 'casual': True}\", 'BYOB': None, 'BestNights': None, 'BikeParking': 'False', 'BusinessAcceptsBitcoin': None, 'BusinessAcceptsCreditCards': 'True', 'BusinessParking': \"{'garage': False, 'street': True, 'validated': False, 'lot': False, 'valet': False}\", 'ByAppointmentOnly': 'False', 'Caters': 'False', 'CoatCheck': None, 'Corkage': None, 'DogsAllowed': 'False', 'DriveThru': 'False', 'GoodForDancing': None, 'GoodForKids': 'True', 'GoodForMeal': None, 'HappyHour': None, 'HasTV': 'False', 'Music': None, 'NoiseLevel': \"u'average'\", 'OutdoorSeating': 'None', 'RestaurantsAttire': \"'casual'\", 'RestaurantsDelivery': 'None', 'RestaurantsGoodForGroups': 'True', 'RestaurantsPriceRange2': '2', 'RestaurantsReservations': 'False', 'RestaurantsTableService': None, 'RestaurantsTakeOut': 'True', 'Smoking': None, 'WheelchairAccessible': None, 'WiFi': \"'free'\"}, 'biz_categories': ['Ice Cream & Frozen Yogurt', 'Coffee & Tea', 'Restaurants', 'Sandwiches', 'Food'], 'biz_hours': {'Friday': '8:0-0:0', 'Monday': '8:0-23:0', 'Saturday': '8:0-0:30', 'Sunday': '8:0-23:0', 'Thursday': '8:0-23:0', 'Tuesday': '8:0-23:0', 'Wednesday': '8:0-23:0'}}, hash='70524c904f7815a14273db743cca4b07698ab48ff8fe32fef5b69167a6811ce1')}, text='Some unique flavors too. Not much else to say but an amazing ice cream store that others should try to emulate.', mimetype='text/plain', start_char_idx=35, end_char_idx=146, text_template='{metadata_str}\\n\\n{content}', metadata_template='{key}: {value}', metadata_seperator='\\n'), score=0.06533538146441371),\n",
       " NodeWithScore(node=TextNode(id_='a8248e27-4017-4258-80f3-788eb11ed4f8', embedding=None, metadata={'review_id': 'L0jv8c2FbpWSlfNC6bbUEA', 'user_id': 'bFPdtzu11Oi0f92EAcjqmg', 'business_id': 'IDtLPgUrqorrpqSLdfMhZQ', 'review_stars': 5, 'useful': 0, 'funny': 0, 'cool': 0, 'date': '2016-10-13T22:50:47', 'biz_name': 'Helena Avenue Bakery', 'biz_address': '131 Anacapa St, Ste C', 'biz_city': 'Santa Barbara', 'biz_state': 'CA', 'biz_postal_code': '93101', 'biz_latitude': 34.4144445, 'biz_longitude': -119.6906718, 'biz_stars': 4.0, 'biz_review_count': 389, 'biz_is_open': 1, 'biz_attributes': {'AcceptsInsurance': None, 'Alcohol': \"u'none'\", 'Ambience': \"{'touristy': False, 'hipster': True, 'romantic': False, 'divey': False, 'intimate': False, 'trendy': True, 'upscale': False, 'classy': False, 'casual': True}\", 'BYOB': None, 'BestNights': None, 'BikeParking': 'True', 'BusinessAcceptsBitcoin': None, 'BusinessAcceptsCreditCards': 'True', 'BusinessParking': \"{'garage': False, 'street': True, 'validated': False, 'lot': False, 'valet': False}\", 'ByAppointmentOnly': None, 'Caters': 'True', 'CoatCheck': None, 'Corkage': None, 'DogsAllowed': 'True', 'DriveThru': None, 'GoodForDancing': None, 'GoodForKids': 'True', 'GoodForMeal': \"{'dessert': False, 'latenight': False, 'lunch': True, 'dinner': False, 'brunch': True, 'breakfast': True}\", 'HappyHour': 'False', 'HasTV': 'False', 'Music': None, 'NoiseLevel': \"u'average'\", 'OutdoorSeating': 'True', 'RestaurantsAttire': \"'casual'\", 'RestaurantsDelivery': 'None', 'RestaurantsGoodForGroups': 'True', 'RestaurantsPriceRange2': '2', 'RestaurantsReservations': 'False', 'RestaurantsTableService': 'False', 'RestaurantsTakeOut': 'True', 'Smoking': None, 'WheelchairAccessible': 'True', 'WiFi': \"u'no'\"}, 'biz_categories': ['Food', 'Restaurants', 'Salad', 'Coffee & Tea', 'Breakfast & Brunch', 'Sandwiches', 'Bakeries'], 'biz_hours': {'Friday': '8:0-14:0', 'Monday': '0:0-0:0', 'Saturday': '8:0-14:0', 'Sunday': '8:0-14:0', 'Thursday': '8:0-14:0', 'Tuesday': '8:0-14:0', 'Wednesday': '8:0-14:0'}}, excluded_embed_metadata_keys=['review_id', 'user_id', 'business_id', 'useful', 'funny', 'cool', 'text', 'date', 'biz_postal_code', 'biz_latitude', 'biz_longitude', 'biz_stars', 'biz_review_count', 'biz_is_open', 'biz_attributes', 'biz_hours'], excluded_llm_metadata_keys=['review_id', 'user_id', 'business_id', 'useful', 'funny', 'cool', 'text', 'date', 'biz_postal_code', 'biz_latitude', 'biz_longitude', 'biz_stars', 'biz_review_count', 'biz_is_open', 'biz_attributes', 'biz_hours'], relationships={<NodeRelationship.SOURCE: '1'>: RelatedNodeInfo(node_id='1473c78f-611e-4bd1-aa3a-5a2d4e5d8cab', node_type=<ObjectType.DOCUMENT: '4'>, metadata={'review_id': 'L0jv8c2FbpWSlfNC6bbUEA', 'user_id': 'bFPdtzu11Oi0f92EAcjqmg', 'business_id': 'IDtLPgUrqorrpqSLdfMhZQ', 'review_stars': 5, 'useful': 0, 'funny': 0, 'cool': 0, 'date': '2016-10-13T22:50:47', 'biz_name': 'Helena Avenue Bakery', 'biz_address': '131 Anacapa St, Ste C', 'biz_city': 'Santa Barbara', 'biz_state': 'CA', 'biz_postal_code': '93101', 'biz_latitude': 34.4144445, 'biz_longitude': -119.6906718, 'biz_stars': 4.0, 'biz_review_count': 389, 'biz_is_open': 1, 'biz_attributes': {'AcceptsInsurance': None, 'Alcohol': \"u'none'\", 'Ambience': \"{'touristy': False, 'hipster': True, 'romantic': False, 'divey': False, 'intimate': False, 'trendy': True, 'upscale': False, 'classy': False, 'casual': True}\", 'BYOB': None, 'BestNights': None, 'BikeParking': 'True', 'BusinessAcceptsBitcoin': None, 'BusinessAcceptsCreditCards': 'True', 'BusinessParking': \"{'garage': False, 'street': True, 'validated': False, 'lot': False, 'valet': False}\", 'ByAppointmentOnly': None, 'Caters': 'True', 'CoatCheck': None, 'Corkage': None, 'DogsAllowed': 'True', 'DriveThru': None, 'GoodForDancing': None, 'GoodForKids': 'True', 'GoodForMeal': \"{'dessert': False, 'latenight': False, 'lunch': True, 'dinner': False, 'brunch': True, 'breakfast': True}\", 'HappyHour': 'False', 'HasTV': 'False', 'Music': None, 'NoiseLevel': \"u'average'\", 'OutdoorSeating': 'True', 'RestaurantsAttire': \"'casual'\", 'RestaurantsDelivery': 'None', 'RestaurantsGoodForGroups': 'True', 'RestaurantsPriceRange2': '2', 'RestaurantsReservations': 'False', 'RestaurantsTableService': 'False', 'RestaurantsTakeOut': 'True', 'Smoking': None, 'WheelchairAccessible': 'True', 'WiFi': \"u'no'\"}, 'biz_categories': ['Food', 'Restaurants', 'Salad', 'Coffee & Tea', 'Breakfast & Brunch', 'Sandwiches', 'Bakeries'], 'biz_hours': {'Friday': '8:0-14:0', 'Monday': '0:0-0:0', 'Saturday': '8:0-14:0', 'Sunday': '8:0-14:0', 'Thursday': '8:0-14:0', 'Tuesday': '8:0-14:0', 'Wednesday': '8:0-14:0'}}, hash='47245cbd4e7348e338b9a99b3eefb79b5c4d8d2e12872e16699aba597779b4b1'), <NodeRelationship.PREVIOUS: '2'>: RelatedNodeInfo(node_id='37be3c44-96ee-4a76-b054-00461b69a63e', node_type=<ObjectType.TEXT: '1'>, metadata={'review_id': 'L0jv8c2FbpWSlfNC6bbUEA', 'user_id': 'bFPdtzu11Oi0f92EAcjqmg', 'business_id': 'IDtLPgUrqorrpqSLdfMhZQ', 'review_stars': 5, 'useful': 0, 'funny': 0, 'cool': 0, 'date': '2016-10-13T22:50:47', 'biz_name': 'Helena Avenue Bakery', 'biz_address': '131 Anacapa St, Ste C', 'biz_city': 'Santa Barbara', 'biz_state': 'CA', 'biz_postal_code': '93101', 'biz_latitude': 34.4144445, 'biz_longitude': -119.6906718, 'biz_stars': 4.0, 'biz_review_count': 389, 'biz_is_open': 1, 'biz_attributes': {'AcceptsInsurance': None, 'Alcohol': \"u'none'\", 'Ambience': \"{'touristy': False, 'hipster': True, 'romantic': False, 'divey': False, 'intimate': False, 'trendy': True, 'upscale': False, 'classy': False, 'casual': True}\", 'BYOB': None, 'BestNights': None, 'BikeParking': 'True', 'BusinessAcceptsBitcoin': None, 'BusinessAcceptsCreditCards': 'True', 'BusinessParking': \"{'garage': False, 'street': True, 'validated': False, 'lot': False, 'valet': False}\", 'ByAppointmentOnly': None, 'Caters': 'True', 'CoatCheck': None, 'Corkage': None, 'DogsAllowed': 'True', 'DriveThru': None, 'GoodForDancing': None, 'GoodForKids': 'True', 'GoodForMeal': \"{'dessert': False, 'latenight': False, 'lunch': True, 'dinner': False, 'brunch': True, 'breakfast': True}\", 'HappyHour': 'False', 'HasTV': 'False', 'Music': None, 'NoiseLevel': \"u'average'\", 'OutdoorSeating': 'True', 'RestaurantsAttire': \"'casual'\", 'RestaurantsDelivery': 'None', 'RestaurantsGoodForGroups': 'True', 'RestaurantsPriceRange2': '2', 'RestaurantsReservations': 'False', 'RestaurantsTableService': 'False', 'RestaurantsTakeOut': 'True', 'Smoking': None, 'WheelchairAccessible': 'True', 'WiFi': \"u'no'\"}, 'biz_categories': ['Food', 'Restaurants', 'Salad', 'Coffee & Tea', 'Breakfast & Brunch', 'Sandwiches', 'Bakeries'], 'biz_hours': {'Friday': '8:0-14:0', 'Monday': '0:0-0:0', 'Saturday': '8:0-14:0', 'Sunday': '8:0-14:0', 'Thursday': '8:0-14:0', 'Tuesday': '8:0-14:0', 'Wednesday': '8:0-14:0'}}, hash='abec81b26a6b5ddd24f28fe2b5c431991234684870ef8edd4b8f756db9b6034a')}, text='Grab a bite, grab some tastings, life is good. Right next door to the Santa Barbara Wine Collective, in fact it actually shares the same tables.  We had a fabulous savory croissant.', mimetype='text/plain', start_char_idx=41, end_char_idx=222, text_template='{metadata_str}\\n\\n{content}', metadata_template='{key}: {value}', metadata_seperator='\\n'), score=0.06252326302729529),\n",
       " NodeWithScore(node=TextNode(id_='0daba217-4083-4d8e-ba00-da8497310fb9', embedding=None, metadata={'review_id': 'LFpaQzYkP5Pzm5lEjJpTRw', 'user_id': 'Ttb21DpWqphQMNSS5TXgMA', 'business_id': 'IDtLPgUrqorrpqSLdfMhZQ', 'review_stars': 5, 'useful': 0, 'funny': 0, 'cool': 0, 'date': '2017-01-15T00:36:04', 'biz_name': 'Helena Avenue Bakery', 'biz_address': '131 Anacapa St, Ste C', 'biz_city': 'Santa Barbara', 'biz_state': 'CA', 'biz_postal_code': '93101', 'biz_latitude': 34.4144445, 'biz_longitude': -119.6906718, 'biz_stars': 4.0, 'biz_review_count': 389, 'biz_is_open': 1, 'biz_attributes': {'AcceptsInsurance': None, 'Alcohol': \"u'none'\", 'Ambience': \"{'touristy': False, 'hipster': True, 'romantic': False, 'divey': False, 'intimate': False, 'trendy': True, 'upscale': False, 'classy': False, 'casual': True}\", 'BYOB': None, 'BestNights': None, 'BikeParking': 'True', 'BusinessAcceptsBitcoin': None, 'BusinessAcceptsCreditCards': 'True', 'BusinessParking': \"{'garage': False, 'street': True, 'validated': False, 'lot': False, 'valet': False}\", 'ByAppointmentOnly': None, 'Caters': 'True', 'CoatCheck': None, 'Corkage': None, 'DogsAllowed': 'True', 'DriveThru': None, 'GoodForDancing': None, 'GoodForKids': 'True', 'GoodForMeal': \"{'dessert': False, 'latenight': False, 'lunch': True, 'dinner': False, 'brunch': True, 'breakfast': True}\", 'HappyHour': 'False', 'HasTV': 'False', 'Music': None, 'NoiseLevel': \"u'average'\", 'OutdoorSeating': 'True', 'RestaurantsAttire': \"'casual'\", 'RestaurantsDelivery': 'None', 'RestaurantsGoodForGroups': 'True', 'RestaurantsPriceRange2': '2', 'RestaurantsReservations': 'False', 'RestaurantsTableService': 'False', 'RestaurantsTakeOut': 'True', 'Smoking': None, 'WheelchairAccessible': 'True', 'WiFi': \"u'no'\"}, 'biz_categories': ['Food', 'Restaurants', 'Salad', 'Coffee & Tea', 'Breakfast & Brunch', 'Sandwiches', 'Bakeries'], 'biz_hours': {'Friday': '8:0-14:0', 'Monday': '0:0-0:0', 'Saturday': '8:0-14:0', 'Sunday': '8:0-14:0', 'Thursday': '8:0-14:0', 'Tuesday': '8:0-14:0', 'Wednesday': '8:0-14:0'}}, excluded_embed_metadata_keys=['review_id', 'user_id', 'business_id', 'useful', 'funny', 'cool', 'text', 'date', 'biz_postal_code', 'biz_latitude', 'biz_longitude', 'biz_stars', 'biz_review_count', 'biz_is_open', 'biz_attributes', 'biz_hours'], excluded_llm_metadata_keys=['review_id', 'user_id', 'business_id', 'useful', 'funny', 'cool', 'text', 'date', 'biz_postal_code', 'biz_latitude', 'biz_longitude', 'biz_stars', 'biz_review_count', 'biz_is_open', 'biz_attributes', 'biz_hours'], relationships={<NodeRelationship.SOURCE: '1'>: RelatedNodeInfo(node_id='30c6f151-b7fc-4a73-ad85-06595f54deb4', node_type=<ObjectType.DOCUMENT: '4'>, metadata={'review_id': 'LFpaQzYkP5Pzm5lEjJpTRw', 'user_id': 'Ttb21DpWqphQMNSS5TXgMA', 'business_id': 'IDtLPgUrqorrpqSLdfMhZQ', 'review_stars': 5, 'useful': 0, 'funny': 0, 'cool': 0, 'date': '2017-01-15T00:36:04', 'biz_name': 'Helena Avenue Bakery', 'biz_address': '131 Anacapa St, Ste C', 'biz_city': 'Santa Barbara', 'biz_state': 'CA', 'biz_postal_code': '93101', 'biz_latitude': 34.4144445, 'biz_longitude': -119.6906718, 'biz_stars': 4.0, 'biz_review_count': 389, 'biz_is_open': 1, 'biz_attributes': {'AcceptsInsurance': None, 'Alcohol': \"u'none'\", 'Ambience': \"{'touristy': False, 'hipster': True, 'romantic': False, 'divey': False, 'intimate': False, 'trendy': True, 'upscale': False, 'classy': False, 'casual': True}\", 'BYOB': None, 'BestNights': None, 'BikeParking': 'True', 'BusinessAcceptsBitcoin': None, 'BusinessAcceptsCreditCards': 'True', 'BusinessParking': \"{'garage': False, 'street': True, 'validated': False, 'lot': False, 'valet': False}\", 'ByAppointmentOnly': None, 'Caters': 'True', 'CoatCheck': None, 'Corkage': None, 'DogsAllowed': 'True', 'DriveThru': None, 'GoodForDancing': None, 'GoodForKids': 'True', 'GoodForMeal': \"{'dessert': False, 'latenight': False, 'lunch': True, 'dinner': False, 'brunch': True, 'breakfast': True}\", 'HappyHour': 'False', 'HasTV': 'False', 'Music': None, 'NoiseLevel': \"u'average'\", 'OutdoorSeating': 'True', 'RestaurantsAttire': \"'casual'\", 'RestaurantsDelivery': 'None', 'RestaurantsGoodForGroups': 'True', 'RestaurantsPriceRange2': '2', 'RestaurantsReservations': 'False', 'RestaurantsTableService': 'False', 'RestaurantsTakeOut': 'True', 'Smoking': None, 'WheelchairAccessible': 'True', 'WiFi': \"u'no'\"}, 'biz_categories': ['Food', 'Restaurants', 'Salad', 'Coffee & Tea', 'Breakfast & Brunch', 'Sandwiches', 'Bakeries'], 'biz_hours': {'Friday': '8:0-14:0', 'Monday': '0:0-0:0', 'Saturday': '8:0-14:0', 'Sunday': '8:0-14:0', 'Thursday': '8:0-14:0', 'Tuesday': '8:0-14:0', 'Wednesday': '8:0-14:0'}}, hash='e1443c68c9357e20433dea41999e3fe37276caf0f702258db2caf49e1993796f'), <NodeRelationship.PREVIOUS: '2'>: RelatedNodeInfo(node_id='0e0d54d1-4329-486d-a4d9-66e04873893b', node_type=<ObjectType.TEXT: '1'>, metadata={'review_id': 'LFpaQzYkP5Pzm5lEjJpTRw', 'user_id': 'Ttb21DpWqphQMNSS5TXgMA', 'business_id': 'IDtLPgUrqorrpqSLdfMhZQ', 'review_stars': 5, 'useful': 0, 'funny': 0, 'cool': 0, 'date': '2017-01-15T00:36:04', 'biz_name': 'Helena Avenue Bakery', 'biz_address': '131 Anacapa St, Ste C', 'biz_city': 'Santa Barbara', 'biz_state': 'CA', 'biz_postal_code': '93101', 'biz_latitude': 34.4144445, 'biz_longitude': -119.6906718, 'biz_stars': 4.0, 'biz_review_count': 389, 'biz_is_open': 1, 'biz_attributes': {'AcceptsInsurance': None, 'Alcohol': \"u'none'\", 'Ambience': \"{'touristy': False, 'hipster': True, 'romantic': False, 'divey': False, 'intimate': False, 'trendy': True, 'upscale': False, 'classy': False, 'casual': True}\", 'BYOB': None, 'BestNights': None, 'BikeParking': 'True', 'BusinessAcceptsBitcoin': None, 'BusinessAcceptsCreditCards': 'True', 'BusinessParking': \"{'garage': False, 'street': True, 'validated': False, 'lot': False, 'valet': False}\", 'ByAppointmentOnly': None, 'Caters': 'True', 'CoatCheck': None, 'Corkage': None, 'DogsAllowed': 'True', 'DriveThru': None, 'GoodForDancing': None, 'GoodForKids': 'True', 'GoodForMeal': \"{'dessert': False, 'latenight': False, 'lunch': True, 'dinner': False, 'brunch': True, 'breakfast': True}\", 'HappyHour': 'False', 'HasTV': 'False', 'Music': None, 'NoiseLevel': \"u'average'\", 'OutdoorSeating': 'True', 'RestaurantsAttire': \"'casual'\", 'RestaurantsDelivery': 'None', 'RestaurantsGoodForGroups': 'True', 'RestaurantsPriceRange2': '2', 'RestaurantsReservations': 'False', 'RestaurantsTableService': 'False', 'RestaurantsTakeOut': 'True', 'Smoking': None, 'WheelchairAccessible': 'True', 'WiFi': \"u'no'\"}, 'biz_categories': ['Food', 'Restaurants', 'Salad', 'Coffee & Tea', 'Breakfast & Brunch', 'Sandwiches', 'Bakeries'], 'biz_hours': {'Friday': '8:0-14:0', 'Monday': '0:0-0:0', 'Saturday': '8:0-14:0', 'Sunday': '8:0-14:0', 'Thursday': '8:0-14:0', 'Tuesday': '8:0-14:0', 'Wednesday': '8:0-14:0'}}, hash='1a3f0d1b90b53fb15f4f295814c6f14b848cd006097c3b8517780f2915092f36')}, text='Oh my gosh, it was so good!', mimetype='text/plain', start_char_idx=59, end_char_idx=86, text_template='{metadata_str}\\n\\n{content}', metadata_template='{key}: {value}', metadata_seperator='\\n'), score=0.060952668234194096),\n",
       " NodeWithScore(node=TextNode(id_='e83e13c4-fe42-4814-8384-c9444c9761c1', embedding=None, metadata={'review_id': '8x4WVgu2t2MD48_ftQXrLw', 'user_id': '4KNOhaUhegpmZ6sWwJtRTw', 'business_id': 'ppFCk9aQkM338Rgwpl2F5A', 'review_stars': 4, 'useful': 0, 'funny': 0, 'cool': 0, 'date': '2014-01-17T15:12:23', 'biz_name': 'Wawa', 'biz_address': '3604 Chestnut St', 'biz_city': 'Philadelphia', 'biz_state': 'PA', 'biz_postal_code': '19104', 'biz_latitude': 39.954573, 'biz_longitude': -75.1948936, 'biz_stars': 3.0, 'biz_review_count': 56, 'biz_is_open': 1, 'biz_attributes': {'AcceptsInsurance': None, 'Alcohol': \"u'none'\", 'Ambience': \"{'romantic': False, 'intimate': False, 'classy': False, 'hipster': False, 'divey': False, 'touristy': False, 'trendy': False, 'upscale': False, 'casual': True}\", 'BYOB': None, 'BestNights': None, 'BikeParking': 'True', 'BusinessAcceptsBitcoin': None, 'BusinessAcceptsCreditCards': 'True', 'BusinessParking': \"{'garage': False, 'street': True, 'validated': False, 'lot': False, 'valet': False}\", 'ByAppointmentOnly': 'False', 'Caters': 'False', 'CoatCheck': None, 'Corkage': None, 'DogsAllowed': None, 'DriveThru': None, 'GoodForDancing': None, 'GoodForKids': 'True', 'GoodForMeal': None, 'HappyHour': None, 'HasTV': 'True', 'Music': None, 'NoiseLevel': \"u'average'\", 'OutdoorSeating': 'False', 'RestaurantsAttire': \"u'casual'\", 'RestaurantsDelivery': 'True', 'RestaurantsGoodForGroups': 'True', 'RestaurantsPriceRange2': '1', 'RestaurantsReservations': 'False', 'RestaurantsTableService': None, 'RestaurantsTakeOut': 'True', 'Smoking': None, 'WheelchairAccessible': None, 'WiFi': \"u'free'\"}, 'biz_categories': ['Restaurants', 'Automotive', 'Delis', 'Gas Stations', 'Food', 'Coffee & Tea', 'Sandwiches', 'Convenience Stores'], 'biz_hours': {'Friday': '0:0-0:0', 'Monday': '0:0-0:0', 'Saturday': '0:0-0:0', 'Sunday': '0:0-0:0', 'Thursday': '0:0-0:0', 'Tuesday': '0:0-0:0', 'Wednesday': '0:0-0:0'}}, excluded_embed_metadata_keys=['review_id', 'user_id', 'business_id', 'useful', 'funny', 'cool', 'text', 'date', 'biz_postal_code', 'biz_latitude', 'biz_longitude', 'biz_stars', 'biz_review_count', 'biz_is_open', 'biz_attributes', 'biz_hours'], excluded_llm_metadata_keys=['review_id', 'user_id', 'business_id', 'useful', 'funny', 'cool', 'text', 'date', 'biz_postal_code', 'biz_latitude', 'biz_longitude', 'biz_stars', 'biz_review_count', 'biz_is_open', 'biz_attributes', 'biz_hours'], relationships={<NodeRelationship.SOURCE: '1'>: RelatedNodeInfo(node_id='306fb6a2-2037-4870-8a23-f78a5a318190', node_type=<ObjectType.DOCUMENT: '4'>, metadata={'review_id': '8x4WVgu2t2MD48_ftQXrLw', 'user_id': '4KNOhaUhegpmZ6sWwJtRTw', 'business_id': 'ppFCk9aQkM338Rgwpl2F5A', 'review_stars': 4, 'useful': 0, 'funny': 0, 'cool': 0, 'date': '2014-01-17T15:12:23', 'biz_name': 'Wawa', 'biz_address': '3604 Chestnut St', 'biz_city': 'Philadelphia', 'biz_state': 'PA', 'biz_postal_code': '19104', 'biz_latitude': 39.954573, 'biz_longitude': -75.1948936, 'biz_stars': 3.0, 'biz_review_count': 56, 'biz_is_open': 1, 'biz_attributes': {'AcceptsInsurance': None, 'Alcohol': \"u'none'\", 'Ambience': \"{'romantic': False, 'intimate': False, 'classy': False, 'hipster': False, 'divey': False, 'touristy': False, 'trendy': False, 'upscale': False, 'casual': True}\", 'BYOB': None, 'BestNights': None, 'BikeParking': 'True', 'BusinessAcceptsBitcoin': None, 'BusinessAcceptsCreditCards': 'True', 'BusinessParking': \"{'garage': False, 'street': True, 'validated': False, 'lot': False, 'valet': False}\", 'ByAppointmentOnly': 'False', 'Caters': 'False', 'CoatCheck': None, 'Corkage': None, 'DogsAllowed': None, 'DriveThru': None, 'GoodForDancing': None, 'GoodForKids': 'True', 'GoodForMeal': None, 'HappyHour': None, 'HasTV': 'True', 'Music': None, 'NoiseLevel': \"u'average'\", 'OutdoorSeating': 'False', 'RestaurantsAttire': \"u'casual'\", 'RestaurantsDelivery': 'True', 'RestaurantsGoodForGroups': 'True', 'RestaurantsPriceRange2': '1', 'RestaurantsReservations': 'False', 'RestaurantsTableService': None, 'RestaurantsTakeOut': 'True', 'Smoking': None, 'WheelchairAccessible': None, 'WiFi': \"u'free'\"}, 'biz_categories': ['Restaurants', 'Automotive', 'Delis', 'Gas Stations', 'Food', 'Coffee & Tea', 'Sandwiches', 'Convenience Stores'], 'biz_hours': {'Friday': '0:0-0:0', 'Monday': '0:0-0:0', 'Saturday': '0:0-0:0', 'Sunday': '0:0-0:0', 'Thursday': '0:0-0:0', 'Tuesday': '0:0-0:0', 'Wednesday': '0:0-0:0'}}, hash='43ec3386a2acd9d1ab303b82b70e0632898bbf24bb6e32f4db50ed1c6693c2e4'), <NodeRelationship.NEXT: '3'>: RelatedNodeInfo(node_id='bebc6496-d1a1-408e-bd01-37c9db67d598', node_type=<ObjectType.TEXT: '1'>, metadata={}, hash='5b4f30d5c2fa862f17b396c82713385ab0a52e52dd5d8aaa98082f9d93fa57d5')}, text='Wawa is like a beacon in a cold, dark world.  I grew up around Sheetz locations, but I have to admit that I prefer Wawa.  The sandwiches are really good, and they have the typical snacks/drinks you would expect from a convenience store.  ', mimetype='text/plain', start_char_idx=0, end_char_idx=238, text_template='{metadata_str}\\n\\n{content}', metadata_template='{key}: {value}', metadata_seperator='\\n'), score=0.06043547258047374),\n",
       " NodeWithScore(node=TextNode(id_='82d3c380-5636-4475-85d8-6828231e110d', embedding=None, metadata={'review_id': 'Q3fPo_x6xKxafAzy1hFITg', 'user_id': 'ha2Lv7WnxvdYnRsqwL1apQ', 'business_id': 'IDtLPgUrqorrpqSLdfMhZQ', 'review_stars': 4, 'useful': 0, 'funny': 0, 'cool': 0, 'date': '2018-07-17T00:20:41', 'biz_name': 'Helena Avenue Bakery', 'biz_address': '131 Anacapa St, Ste C', 'biz_city': 'Santa Barbara', 'biz_state': 'CA', 'biz_postal_code': '93101', 'biz_latitude': 34.4144445, 'biz_longitude': -119.6906718, 'biz_stars': 4.0, 'biz_review_count': 389, 'biz_is_open': 1, 'biz_attributes': {'AcceptsInsurance': None, 'Alcohol': \"u'none'\", 'Ambience': \"{'touristy': False, 'hipster': True, 'romantic': False, 'divey': False, 'intimate': False, 'trendy': True, 'upscale': False, 'classy': False, 'casual': True}\", 'BYOB': None, 'BestNights': None, 'BikeParking': 'True', 'BusinessAcceptsBitcoin': None, 'BusinessAcceptsCreditCards': 'True', 'BusinessParking': \"{'garage': False, 'street': True, 'validated': False, 'lot': False, 'valet': False}\", 'ByAppointmentOnly': None, 'Caters': 'True', 'CoatCheck': None, 'Corkage': None, 'DogsAllowed': 'True', 'DriveThru': None, 'GoodForDancing': None, 'GoodForKids': 'True', 'GoodForMeal': \"{'dessert': False, 'latenight': False, 'lunch': True, 'dinner': False, 'brunch': True, 'breakfast': True}\", 'HappyHour': 'False', 'HasTV': 'False', 'Music': None, 'NoiseLevel': \"u'average'\", 'OutdoorSeating': 'True', 'RestaurantsAttire': \"'casual'\", 'RestaurantsDelivery': 'None', 'RestaurantsGoodForGroups': 'True', 'RestaurantsPriceRange2': '2', 'RestaurantsReservations': 'False', 'RestaurantsTableService': 'False', 'RestaurantsTakeOut': 'True', 'Smoking': None, 'WheelchairAccessible': 'True', 'WiFi': \"u'no'\"}, 'biz_categories': ['Food', 'Restaurants', 'Salad', 'Coffee & Tea', 'Breakfast & Brunch', 'Sandwiches', 'Bakeries'], 'biz_hours': {'Friday': '8:0-14:0', 'Monday': '0:0-0:0', 'Saturday': '8:0-14:0', 'Sunday': '8:0-14:0', 'Thursday': '8:0-14:0', 'Tuesday': '8:0-14:0', 'Wednesday': '8:0-14:0'}}, excluded_embed_metadata_keys=['review_id', 'user_id', 'business_id', 'useful', 'funny', 'cool', 'text', 'date', 'biz_postal_code', 'biz_latitude', 'biz_longitude', 'biz_stars', 'biz_review_count', 'biz_is_open', 'biz_attributes', 'biz_hours'], excluded_llm_metadata_keys=['review_id', 'user_id', 'business_id', 'useful', 'funny', 'cool', 'text', 'date', 'biz_postal_code', 'biz_latitude', 'biz_longitude', 'biz_stars', 'biz_review_count', 'biz_is_open', 'biz_attributes', 'biz_hours'], relationships={<NodeRelationship.SOURCE: '1'>: RelatedNodeInfo(node_id='5575eb3f-5105-462f-a547-1088871fa09a', node_type=<ObjectType.DOCUMENT: '4'>, metadata={'review_id': 'Q3fPo_x6xKxafAzy1hFITg', 'user_id': 'ha2Lv7WnxvdYnRsqwL1apQ', 'business_id': 'IDtLPgUrqorrpqSLdfMhZQ', 'review_stars': 4, 'useful': 0, 'funny': 0, 'cool': 0, 'date': '2018-07-17T00:20:41', 'biz_name': 'Helena Avenue Bakery', 'biz_address': '131 Anacapa St, Ste C', 'biz_city': 'Santa Barbara', 'biz_state': 'CA', 'biz_postal_code': '93101', 'biz_latitude': 34.4144445, 'biz_longitude': -119.6906718, 'biz_stars': 4.0, 'biz_review_count': 389, 'biz_is_open': 1, 'biz_attributes': {'AcceptsInsurance': None, 'Alcohol': \"u'none'\", 'Ambience': \"{'touristy': False, 'hipster': True, 'romantic': False, 'divey': False, 'intimate': False, 'trendy': True, 'upscale': False, 'classy': False, 'casual': True}\", 'BYOB': None, 'BestNights': None, 'BikeParking': 'True', 'BusinessAcceptsBitcoin': None, 'BusinessAcceptsCreditCards': 'True', 'BusinessParking': \"{'garage': False, 'street': True, 'validated': False, 'lot': False, 'valet': False}\", 'ByAppointmentOnly': None, 'Caters': 'True', 'CoatCheck': None, 'Corkage': None, 'DogsAllowed': 'True', 'DriveThru': None, 'GoodForDancing': None, 'GoodForKids': 'True', 'GoodForMeal': \"{'dessert': False, 'latenight': False, 'lunch': True, 'dinner': False, 'brunch': True, 'breakfast': True}\", 'HappyHour': 'False', 'HasTV': 'False', 'Music': None, 'NoiseLevel': \"u'average'\", 'OutdoorSeating': 'True', 'RestaurantsAttire': \"'casual'\", 'RestaurantsDelivery': 'None', 'RestaurantsGoodForGroups': 'True', 'RestaurantsPriceRange2': '2', 'RestaurantsReservations': 'False', 'RestaurantsTableService': 'False', 'RestaurantsTakeOut': 'True', 'Smoking': None, 'WheelchairAccessible': 'True', 'WiFi': \"u'no'\"}, 'biz_categories': ['Food', 'Restaurants', 'Salad', 'Coffee & Tea', 'Breakfast & Brunch', 'Sandwiches', 'Bakeries'], 'biz_hours': {'Friday': '8:0-14:0', 'Monday': '0:0-0:0', 'Saturday': '8:0-14:0', 'Sunday': '8:0-14:0', 'Thursday': '8:0-14:0', 'Tuesday': '8:0-14:0', 'Wednesday': '8:0-14:0'}}, hash='84e56966378a13cfd9aa8201af9bd42395223cafcf88086b38b7e94f36b78300'), <NodeRelationship.PREVIOUS: '2'>: RelatedNodeInfo(node_id='8c4df29f-641e-46c3-a9d8-8bee00d8c655', node_type=<ObjectType.TEXT: '1'>, metadata={'review_id': 'Q3fPo_x6xKxafAzy1hFITg', 'user_id': 'ha2Lv7WnxvdYnRsqwL1apQ', 'business_id': 'IDtLPgUrqorrpqSLdfMhZQ', 'review_stars': 4, 'useful': 0, 'funny': 0, 'cool': 0, 'date': '2018-07-17T00:20:41', 'biz_name': 'Helena Avenue Bakery', 'biz_address': '131 Anacapa St, Ste C', 'biz_city': 'Santa Barbara', 'biz_state': 'CA', 'biz_postal_code': '93101', 'biz_latitude': 34.4144445, 'biz_longitude': -119.6906718, 'biz_stars': 4.0, 'biz_review_count': 389, 'biz_is_open': 1, 'biz_attributes': {'AcceptsInsurance': None, 'Alcohol': \"u'none'\", 'Ambience': \"{'touristy': False, 'hipster': True, 'romantic': False, 'divey': False, 'intimate': False, 'trendy': True, 'upscale': False, 'classy': False, 'casual': True}\", 'BYOB': None, 'BestNights': None, 'BikeParking': 'True', 'BusinessAcceptsBitcoin': None, 'BusinessAcceptsCreditCards': 'True', 'BusinessParking': \"{'garage': False, 'street': True, 'validated': False, 'lot': False, 'valet': False}\", 'ByAppointmentOnly': None, 'Caters': 'True', 'CoatCheck': None, 'Corkage': None, 'DogsAllowed': 'True', 'DriveThru': None, 'GoodForDancing': None, 'GoodForKids': 'True', 'GoodForMeal': \"{'dessert': False, 'latenight': False, 'lunch': True, 'dinner': False, 'brunch': True, 'breakfast': True}\", 'HappyHour': 'False', 'HasTV': 'False', 'Music': None, 'NoiseLevel': \"u'average'\", 'OutdoorSeating': 'True', 'RestaurantsAttire': \"'casual'\", 'RestaurantsDelivery': 'None', 'RestaurantsGoodForGroups': 'True', 'RestaurantsPriceRange2': '2', 'RestaurantsReservations': 'False', 'RestaurantsTableService': 'False', 'RestaurantsTakeOut': 'True', 'Smoking': None, 'WheelchairAccessible': 'True', 'WiFi': \"u'no'\"}, 'biz_categories': ['Food', 'Restaurants', 'Salad', 'Coffee & Tea', 'Breakfast & Brunch', 'Sandwiches', 'Bakeries'], 'biz_hours': {'Friday': '8:0-14:0', 'Monday': '0:0-0:0', 'Saturday': '8:0-14:0', 'Sunday': '8:0-14:0', 'Thursday': '8:0-14:0', 'Tuesday': '8:0-14:0', 'Wednesday': '8:0-14:0'}}, hash='706ff272b2454ae970640f0487b63be30ad4cd07b87f8eaa5aaecf8bc083fbef')}, text=\"Lots of good choices in the grab and go section, and our salami and pesto sammy was also great. I'd go back!\", mimetype='text/plain', start_char_idx=284, end_char_idx=392, text_template='{metadata_str}\\n\\n{content}', metadata_template='{key}: {value}', metadata_seperator='\\n'), score=0.04712301587301587),\n",
       " NodeWithScore(node=TextNode(id_='e6db66a7-38a6-4b6d-9630-627a20647cfb', embedding=None, metadata={'review_id': 'L0jv8c2FbpWSlfNC6bbUEA', 'user_id': 'bFPdtzu11Oi0f92EAcjqmg', 'business_id': 'IDtLPgUrqorrpqSLdfMhZQ', 'review_stars': 5, 'useful': 0, 'funny': 0, 'cool': 0, 'date': '2016-10-13T22:50:47', 'biz_name': 'Helena Avenue Bakery', 'biz_address': '131 Anacapa St, Ste C', 'biz_city': 'Santa Barbara', 'biz_state': 'CA', 'biz_postal_code': '93101', 'biz_latitude': 34.4144445, 'biz_longitude': -119.6906718, 'biz_stars': 4.0, 'biz_review_count': 389, 'biz_is_open': 1, 'biz_attributes': {'AcceptsInsurance': None, 'Alcohol': \"u'none'\", 'Ambience': \"{'touristy': False, 'hipster': True, 'romantic': False, 'divey': False, 'intimate': False, 'trendy': True, 'upscale': False, 'classy': False, 'casual': True}\", 'BYOB': None, 'BestNights': None, 'BikeParking': 'True', 'BusinessAcceptsBitcoin': None, 'BusinessAcceptsCreditCards': 'True', 'BusinessParking': \"{'garage': False, 'street': True, 'validated': False, 'lot': False, 'valet': False}\", 'ByAppointmentOnly': None, 'Caters': 'True', 'CoatCheck': None, 'Corkage': None, 'DogsAllowed': 'True', 'DriveThru': None, 'GoodForDancing': None, 'GoodForKids': 'True', 'GoodForMeal': \"{'dessert': False, 'latenight': False, 'lunch': True, 'dinner': False, 'brunch': True, 'breakfast': True}\", 'HappyHour': 'False', 'HasTV': 'False', 'Music': None, 'NoiseLevel': \"u'average'\", 'OutdoorSeating': 'True', 'RestaurantsAttire': \"'casual'\", 'RestaurantsDelivery': 'None', 'RestaurantsGoodForGroups': 'True', 'RestaurantsPriceRange2': '2', 'RestaurantsReservations': 'False', 'RestaurantsTableService': 'False', 'RestaurantsTakeOut': 'True', 'Smoking': None, 'WheelchairAccessible': 'True', 'WiFi': \"u'no'\"}, 'biz_categories': ['Food', 'Restaurants', 'Salad', 'Coffee & Tea', 'Breakfast & Brunch', 'Sandwiches', 'Bakeries'], 'biz_hours': {'Friday': '8:0-14:0', 'Monday': '0:0-0:0', 'Saturday': '8:0-14:0', 'Sunday': '8:0-14:0', 'Thursday': '8:0-14:0', 'Tuesday': '8:0-14:0', 'Wednesday': '8:0-14:0'}}, excluded_embed_metadata_keys=['review_id', 'user_id', 'business_id', 'useful', 'funny', 'cool', 'text', 'date', 'biz_postal_code', 'biz_latitude', 'biz_longitude', 'biz_stars', 'biz_review_count', 'biz_is_open', 'biz_attributes', 'biz_hours'], excluded_llm_metadata_keys=['review_id', 'user_id', 'business_id', 'useful', 'funny', 'cool', 'text', 'date', 'biz_postal_code', 'biz_latitude', 'biz_longitude', 'biz_stars', 'biz_review_count', 'biz_is_open', 'biz_attributes', 'biz_hours'], relationships={<NodeRelationship.SOURCE: '1'>: RelatedNodeInfo(node_id='1473c78f-611e-4bd1-aa3a-5a2d4e5d8cab', node_type=<ObjectType.DOCUMENT: '4'>, metadata={'review_id': 'L0jv8c2FbpWSlfNC6bbUEA', 'user_id': 'bFPdtzu11Oi0f92EAcjqmg', 'business_id': 'IDtLPgUrqorrpqSLdfMhZQ', 'review_stars': 5, 'useful': 0, 'funny': 0, 'cool': 0, 'date': '2016-10-13T22:50:47', 'biz_name': 'Helena Avenue Bakery', 'biz_address': '131 Anacapa St, Ste C', 'biz_city': 'Santa Barbara', 'biz_state': 'CA', 'biz_postal_code': '93101', 'biz_latitude': 34.4144445, 'biz_longitude': -119.6906718, 'biz_stars': 4.0, 'biz_review_count': 389, 'biz_is_open': 1, 'biz_attributes': {'AcceptsInsurance': None, 'Alcohol': \"u'none'\", 'Ambience': \"{'touristy': False, 'hipster': True, 'romantic': False, 'divey': False, 'intimate': False, 'trendy': True, 'upscale': False, 'classy': False, 'casual': True}\", 'BYOB': None, 'BestNights': None, 'BikeParking': 'True', 'BusinessAcceptsBitcoin': None, 'BusinessAcceptsCreditCards': 'True', 'BusinessParking': \"{'garage': False, 'street': True, 'validated': False, 'lot': False, 'valet': False}\", 'ByAppointmentOnly': None, 'Caters': 'True', 'CoatCheck': None, 'Corkage': None, 'DogsAllowed': 'True', 'DriveThru': None, 'GoodForDancing': None, 'GoodForKids': 'True', 'GoodForMeal': \"{'dessert': False, 'latenight': False, 'lunch': True, 'dinner': False, 'brunch': True, 'breakfast': True}\", 'HappyHour': 'False', 'HasTV': 'False', 'Music': None, 'NoiseLevel': \"u'average'\", 'OutdoorSeating': 'True', 'RestaurantsAttire': \"'casual'\", 'RestaurantsDelivery': 'None', 'RestaurantsGoodForGroups': 'True', 'RestaurantsPriceRange2': '2', 'RestaurantsReservations': 'False', 'RestaurantsTableService': 'False', 'RestaurantsTakeOut': 'True', 'Smoking': None, 'WheelchairAccessible': 'True', 'WiFi': \"u'no'\"}, 'biz_categories': ['Food', 'Restaurants', 'Salad', 'Coffee & Tea', 'Breakfast & Brunch', 'Sandwiches', 'Bakeries'], 'biz_hours': {'Friday': '8:0-14:0', 'Monday': '0:0-0:0', 'Saturday': '8:0-14:0', 'Sunday': '8:0-14:0', 'Thursday': '8:0-14:0', 'Tuesday': '8:0-14:0', 'Wednesday': '8:0-14:0'}}, hash='47245cbd4e7348e338b9a99b3eefb79b5c4d8d2e12872e16699aba597779b4b1'), <NodeRelationship.NEXT: '3'>: RelatedNodeInfo(node_id='f7e49da6-7036-49d6-8dd5-32e933033807', node_type=<ObjectType.TEXT: '1'>, metadata={}, hash='96cc0f62b5579a87cff96761dc38ca13932018b7239a9a28d4f466e8e5a7a472')}, text='What a great addition to the Funk Zone!  ', mimetype='text/plain', start_char_idx=0, end_char_idx=41, text_template='{metadata_str}\\n\\n{content}', metadata_template='{key}: {value}', metadata_seperator='\\n'), score=0.046244188891607536),\n",
       " NodeWithScore(node=TextNode(id_='a4fe5190-a2a4-42f8-910b-46685248346f', embedding=None, metadata={'review_id': '6odPSjoPWOyeDQpgJbdGaA', 'user_id': 'jLr7vcDg43TqS2OK4ROvPQ', 'business_id': 'oaboaRBUgGjbo2kfUIKDLQ', 'review_stars': 5, 'useful': 0, 'funny': 0, 'cool': 0, 'date': '2016-03-30T23:22:54', 'biz_name': \"Mike's Ice Cream\", 'biz_address': '129 2nd Ave N', 'biz_city': 'Nashville', 'biz_state': 'TN', 'biz_postal_code': '37201', 'biz_latitude': 36.1626492, 'biz_longitude': -86.7759733, 'biz_stars': 4.5, 'biz_review_count': 593, 'biz_is_open': 1, 'biz_attributes': {'AcceptsInsurance': None, 'Alcohol': \"u'none'\", 'Ambience': \"{'romantic': False, 'intimate': False, 'touristy': False, 'hipster': False, 'divey': False, 'classy': False, 'trendy': False, 'upscale': False, 'casual': True}\", 'BYOB': None, 'BestNights': None, 'BikeParking': 'False', 'BusinessAcceptsBitcoin': None, 'BusinessAcceptsCreditCards': 'True', 'BusinessParking': \"{'garage': False, 'street': True, 'validated': False, 'lot': False, 'valet': False}\", 'ByAppointmentOnly': 'False', 'Caters': 'False', 'CoatCheck': None, 'Corkage': None, 'DogsAllowed': 'False', 'DriveThru': 'False', 'GoodForDancing': None, 'GoodForKids': 'True', 'GoodForMeal': None, 'HappyHour': None, 'HasTV': 'False', 'Music': None, 'NoiseLevel': \"u'average'\", 'OutdoorSeating': 'None', 'RestaurantsAttire': \"'casual'\", 'RestaurantsDelivery': 'None', 'RestaurantsGoodForGroups': 'True', 'RestaurantsPriceRange2': '2', 'RestaurantsReservations': 'False', 'RestaurantsTableService': None, 'RestaurantsTakeOut': 'True', 'Smoking': None, 'WheelchairAccessible': None, 'WiFi': \"'free'\"}, 'biz_categories': ['Ice Cream & Frozen Yogurt', 'Coffee & Tea', 'Restaurants', 'Sandwiches', 'Food'], 'biz_hours': {'Friday': '8:0-0:0', 'Monday': '8:0-23:0', 'Saturday': '8:0-0:30', 'Sunday': '8:0-23:0', 'Thursday': '8:0-23:0', 'Tuesday': '8:0-23:0', 'Wednesday': '8:0-23:0'}}, excluded_embed_metadata_keys=['review_id', 'user_id', 'business_id', 'useful', 'funny', 'cool', 'text', 'date', 'biz_postal_code', 'biz_latitude', 'biz_longitude', 'biz_stars', 'biz_review_count', 'biz_is_open', 'biz_attributes', 'biz_hours'], excluded_llm_metadata_keys=['review_id', 'user_id', 'business_id', 'useful', 'funny', 'cool', 'text', 'date', 'biz_postal_code', 'biz_latitude', 'biz_longitude', 'biz_stars', 'biz_review_count', 'biz_is_open', 'biz_attributes', 'biz_hours'], relationships={<NodeRelationship.SOURCE: '1'>: RelatedNodeInfo(node_id='2e50e71f-8c0a-46df-aaad-71c6f9addcea', node_type=<ObjectType.DOCUMENT: '4'>, metadata={'review_id': '6odPSjoPWOyeDQpgJbdGaA', 'user_id': 'jLr7vcDg43TqS2OK4ROvPQ', 'business_id': 'oaboaRBUgGjbo2kfUIKDLQ', 'review_stars': 5, 'useful': 0, 'funny': 0, 'cool': 0, 'date': '2016-03-30T23:22:54', 'biz_name': \"Mike's Ice Cream\", 'biz_address': '129 2nd Ave N', 'biz_city': 'Nashville', 'biz_state': 'TN', 'biz_postal_code': '37201', 'biz_latitude': 36.1626492, 'biz_longitude': -86.7759733, 'biz_stars': 4.5, 'biz_review_count': 593, 'biz_is_open': 1, 'biz_attributes': {'AcceptsInsurance': None, 'Alcohol': \"u'none'\", 'Ambience': \"{'romantic': False, 'intimate': False, 'touristy': False, 'hipster': False, 'divey': False, 'classy': False, 'trendy': False, 'upscale': False, 'casual': True}\", 'BYOB': None, 'BestNights': None, 'BikeParking': 'False', 'BusinessAcceptsBitcoin': None, 'BusinessAcceptsCreditCards': 'True', 'BusinessParking': \"{'garage': False, 'street': True, 'validated': False, 'lot': False, 'valet': False}\", 'ByAppointmentOnly': 'False', 'Caters': 'False', 'CoatCheck': None, 'Corkage': None, 'DogsAllowed': 'False', 'DriveThru': 'False', 'GoodForDancing': None, 'GoodForKids': 'True', 'GoodForMeal': None, 'HappyHour': None, 'HasTV': 'False', 'Music': None, 'NoiseLevel': \"u'average'\", 'OutdoorSeating': 'None', 'RestaurantsAttire': \"'casual'\", 'RestaurantsDelivery': 'None', 'RestaurantsGoodForGroups': 'True', 'RestaurantsPriceRange2': '2', 'RestaurantsReservations': 'False', 'RestaurantsTableService': None, 'RestaurantsTakeOut': 'True', 'Smoking': None, 'WheelchairAccessible': None, 'WiFi': \"'free'\"}, 'biz_categories': ['Ice Cream & Frozen Yogurt', 'Coffee & Tea', 'Restaurants', 'Sandwiches', 'Food'], 'biz_hours': {'Friday': '8:0-0:0', 'Monday': '8:0-23:0', 'Saturday': '8:0-0:30', 'Sunday': '8:0-23:0', 'Thursday': '8:0-23:0', 'Tuesday': '8:0-23:0', 'Wednesday': '8:0-23:0'}}, hash='4e6eaf77cc219d7db815239a90d6c48f71295c19612b7859ea261c1fb2278a65'), <NodeRelationship.NEXT: '3'>: RelatedNodeInfo(node_id='4395549d-7928-49a8-a00d-0923785f88fb', node_type=<ObjectType.TEXT: '1'>, metadata={}, hash='c3a61ea70009a9775946e6fafc0ce345eed3ca6c1ac2058b839d7510703e0132')}, text='Super tasty and enormous portions. ', mimetype='text/plain', start_char_idx=0, end_char_idx=35, text_template='{metadata_str}\\n\\n{content}', metadata_template='{key}: {value}', metadata_seperator='\\n'), score=0.03306010928961749),\n",
       " NodeWithScore(node=TextNode(id_='4c65096c-25ff-4f75-9850-30983a2762f4', embedding=None, metadata={'review_id': 'zj-LN7a09KdkTSWIi8rMkw', 'user_id': 'nRtZD0_psZhnHTG8pY08eg', 'business_id': 'oaboaRBUgGjbo2kfUIKDLQ', 'review_stars': 5, 'useful': 3, 'funny': 1, 'cool': 0, 'date': '2015-11-19T03:51:39', 'biz_name': \"Mike's Ice Cream\", 'biz_address': '129 2nd Ave N', 'biz_city': 'Nashville', 'biz_state': 'TN', 'biz_postal_code': '37201', 'biz_latitude': 36.1626492, 'biz_longitude': -86.7759733, 'biz_stars': 4.5, 'biz_review_count': 593, 'biz_is_open': 1, 'biz_attributes': {'AcceptsInsurance': None, 'Alcohol': \"u'none'\", 'Ambience': \"{'romantic': False, 'intimate': False, 'touristy': False, 'hipster': False, 'divey': False, 'classy': False, 'trendy': False, 'upscale': False, 'casual': True}\", 'BYOB': None, 'BestNights': None, 'BikeParking': 'False', 'BusinessAcceptsBitcoin': None, 'BusinessAcceptsCreditCards': 'True', 'BusinessParking': \"{'garage': False, 'street': True, 'validated': False, 'lot': False, 'valet': False}\", 'ByAppointmentOnly': 'False', 'Caters': 'False', 'CoatCheck': None, 'Corkage': None, 'DogsAllowed': 'False', 'DriveThru': 'False', 'GoodForDancing': None, 'GoodForKids': 'True', 'GoodForMeal': None, 'HappyHour': None, 'HasTV': 'False', 'Music': None, 'NoiseLevel': \"u'average'\", 'OutdoorSeating': 'None', 'RestaurantsAttire': \"'casual'\", 'RestaurantsDelivery': 'None', 'RestaurantsGoodForGroups': 'True', 'RestaurantsPriceRange2': '2', 'RestaurantsReservations': 'False', 'RestaurantsTableService': None, 'RestaurantsTakeOut': 'True', 'Smoking': None, 'WheelchairAccessible': None, 'WiFi': \"'free'\"}, 'biz_categories': ['Ice Cream & Frozen Yogurt', 'Coffee & Tea', 'Restaurants', 'Sandwiches', 'Food'], 'biz_hours': {'Friday': '8:0-0:0', 'Monday': '8:0-23:0', 'Saturday': '8:0-0:30', 'Sunday': '8:0-23:0', 'Thursday': '8:0-23:0', 'Tuesday': '8:0-23:0', 'Wednesday': '8:0-23:0'}}, excluded_embed_metadata_keys=['review_id', 'user_id', 'business_id', 'useful', 'funny', 'cool', 'text', 'date', 'biz_postal_code', 'biz_latitude', 'biz_longitude', 'biz_stars', 'biz_review_count', 'biz_is_open', 'biz_attributes', 'biz_hours'], excluded_llm_metadata_keys=['review_id', 'user_id', 'business_id', 'useful', 'funny', 'cool', 'text', 'date', 'biz_postal_code', 'biz_latitude', 'biz_longitude', 'biz_stars', 'biz_review_count', 'biz_is_open', 'biz_attributes', 'biz_hours'], relationships={<NodeRelationship.SOURCE: '1'>: RelatedNodeInfo(node_id='2be2158d-7e5b-46ff-8358-d1f539252220', node_type=<ObjectType.DOCUMENT: '4'>, metadata={'review_id': 'zj-LN7a09KdkTSWIi8rMkw', 'user_id': 'nRtZD0_psZhnHTG8pY08eg', 'business_id': 'oaboaRBUgGjbo2kfUIKDLQ', 'review_stars': 5, 'useful': 3, 'funny': 1, 'cool': 0, 'date': '2015-11-19T03:51:39', 'biz_name': \"Mike's Ice Cream\", 'biz_address': '129 2nd Ave N', 'biz_city': 'Nashville', 'biz_state': 'TN', 'biz_postal_code': '37201', 'biz_latitude': 36.1626492, 'biz_longitude': -86.7759733, 'biz_stars': 4.5, 'biz_review_count': 593, 'biz_is_open': 1, 'biz_attributes': {'AcceptsInsurance': None, 'Alcohol': \"u'none'\", 'Ambience': \"{'romantic': False, 'intimate': False, 'touristy': False, 'hipster': False, 'divey': False, 'classy': False, 'trendy': False, 'upscale': False, 'casual': True}\", 'BYOB': None, 'BestNights': None, 'BikeParking': 'False', 'BusinessAcceptsBitcoin': None, 'BusinessAcceptsCreditCards': 'True', 'BusinessParking': \"{'garage': False, 'street': True, 'validated': False, 'lot': False, 'valet': False}\", 'ByAppointmentOnly': 'False', 'Caters': 'False', 'CoatCheck': None, 'Corkage': None, 'DogsAllowed': 'False', 'DriveThru': 'False', 'GoodForDancing': None, 'GoodForKids': 'True', 'GoodForMeal': None, 'HappyHour': None, 'HasTV': 'False', 'Music': None, 'NoiseLevel': \"u'average'\", 'OutdoorSeating': 'None', 'RestaurantsAttire': \"'casual'\", 'RestaurantsDelivery': 'None', 'RestaurantsGoodForGroups': 'True', 'RestaurantsPriceRange2': '2', 'RestaurantsReservations': 'False', 'RestaurantsTableService': None, 'RestaurantsTakeOut': 'True', 'Smoking': None, 'WheelchairAccessible': None, 'WiFi': \"'free'\"}, 'biz_categories': ['Ice Cream & Frozen Yogurt', 'Coffee & Tea', 'Restaurants', 'Sandwiches', 'Food'], 'biz_hours': {'Friday': '8:0-0:0', 'Monday': '8:0-23:0', 'Saturday': '8:0-0:30', 'Sunday': '8:0-23:0', 'Thursday': '8:0-23:0', 'Tuesday': '8:0-23:0', 'Wednesday': '8:0-23:0'}}, hash='37f938a220238d3b1c1b9b55d78a8817b80fcc04ea42d0ab754aa1dfb2ee1db1'), <NodeRelationship.NEXT: '3'>: RelatedNodeInfo(node_id='3514a9a8-b4fe-4194-b053-e0ab21719e2e', node_type=<ObjectType.TEXT: '1'>, metadata={}, hash='ef9802eac9bc424841469327b622b98cb4cbc425eb31f61fd7cba26bcef8b499')}, text=\"This place was amazing! I only tried their ice cream I really wanted to try the hot chocolate but didn't get a chance :(. Well the ice cream was great! The first night I came here I got a brownie sundae all for myself, brownie on the bottom and three scoops of ice cream topped with whipped cream and nuts. I finished it all happily! I chose pumpkin cake flavor which was delicious and smooth. I also got pralines and cream that was better than other praline ice creams. The Tennessee fudge was vanilla with fudge swirled it was good not too special. \\n\\nThe next time I came I got nutter butter ice cream that was really good had cookie pieces in it! I got the hot fudge topping over it and that was a great combination. \\n\\nThe service was great the workers were really nice and patient with me haha indecisive! They would joke around with me and let me sample all I wanted. \", mimetype='text/plain', start_char_idx=0, end_char_idx=873, text_template='{metadata_str}\\n\\n{content}', metadata_template='{key}: {value}', metadata_seperator='\\n'), score=0.03306010928961749),\n",
       " NodeWithScore(node=TextNode(id_='3514a9a8-b4fe-4194-b053-e0ab21719e2e', embedding=None, metadata={'review_id': 'zj-LN7a09KdkTSWIi8rMkw', 'user_id': 'nRtZD0_psZhnHTG8pY08eg', 'business_id': 'oaboaRBUgGjbo2kfUIKDLQ', 'review_stars': 5, 'useful': 3, 'funny': 1, 'cool': 0, 'date': '2015-11-19T03:51:39', 'biz_name': \"Mike's Ice Cream\", 'biz_address': '129 2nd Ave N', 'biz_city': 'Nashville', 'biz_state': 'TN', 'biz_postal_code': '37201', 'biz_latitude': 36.1626492, 'biz_longitude': -86.7759733, 'biz_stars': 4.5, 'biz_review_count': 593, 'biz_is_open': 1, 'biz_attributes': {'AcceptsInsurance': None, 'Alcohol': \"u'none'\", 'Ambience': \"{'romantic': False, 'intimate': False, 'touristy': False, 'hipster': False, 'divey': False, 'classy': False, 'trendy': False, 'upscale': False, 'casual': True}\", 'BYOB': None, 'BestNights': None, 'BikeParking': 'False', 'BusinessAcceptsBitcoin': None, 'BusinessAcceptsCreditCards': 'True', 'BusinessParking': \"{'garage': False, 'street': True, 'validated': False, 'lot': False, 'valet': False}\", 'ByAppointmentOnly': 'False', 'Caters': 'False', 'CoatCheck': None, 'Corkage': None, 'DogsAllowed': 'False', 'DriveThru': 'False', 'GoodForDancing': None, 'GoodForKids': 'True', 'GoodForMeal': None, 'HappyHour': None, 'HasTV': 'False', 'Music': None, 'NoiseLevel': \"u'average'\", 'OutdoorSeating': 'None', 'RestaurantsAttire': \"'casual'\", 'RestaurantsDelivery': 'None', 'RestaurantsGoodForGroups': 'True', 'RestaurantsPriceRange2': '2', 'RestaurantsReservations': 'False', 'RestaurantsTableService': None, 'RestaurantsTakeOut': 'True', 'Smoking': None, 'WheelchairAccessible': None, 'WiFi': \"'free'\"}, 'biz_categories': ['Ice Cream & Frozen Yogurt', 'Coffee & Tea', 'Restaurants', 'Sandwiches', 'Food'], 'biz_hours': {'Friday': '8:0-0:0', 'Monday': '8:0-23:0', 'Saturday': '8:0-0:30', 'Sunday': '8:0-23:0', 'Thursday': '8:0-23:0', 'Tuesday': '8:0-23:0', 'Wednesday': '8:0-23:0'}}, excluded_embed_metadata_keys=['review_id', 'user_id', 'business_id', 'useful', 'funny', 'cool', 'text', 'date', 'biz_postal_code', 'biz_latitude', 'biz_longitude', 'biz_stars', 'biz_review_count', 'biz_is_open', 'biz_attributes', 'biz_hours'], excluded_llm_metadata_keys=['review_id', 'user_id', 'business_id', 'useful', 'funny', 'cool', 'text', 'date', 'biz_postal_code', 'biz_latitude', 'biz_longitude', 'biz_stars', 'biz_review_count', 'biz_is_open', 'biz_attributes', 'biz_hours'], relationships={<NodeRelationship.SOURCE: '1'>: RelatedNodeInfo(node_id='2be2158d-7e5b-46ff-8358-d1f539252220', node_type=<ObjectType.DOCUMENT: '4'>, metadata={'review_id': 'zj-LN7a09KdkTSWIi8rMkw', 'user_id': 'nRtZD0_psZhnHTG8pY08eg', 'business_id': 'oaboaRBUgGjbo2kfUIKDLQ', 'review_stars': 5, 'useful': 3, 'funny': 1, 'cool': 0, 'date': '2015-11-19T03:51:39', 'biz_name': \"Mike's Ice Cream\", 'biz_address': '129 2nd Ave N', 'biz_city': 'Nashville', 'biz_state': 'TN', 'biz_postal_code': '37201', 'biz_latitude': 36.1626492, 'biz_longitude': -86.7759733, 'biz_stars': 4.5, 'biz_review_count': 593, 'biz_is_open': 1, 'biz_attributes': {'AcceptsInsurance': None, 'Alcohol': \"u'none'\", 'Ambience': \"{'romantic': False, 'intimate': False, 'touristy': False, 'hipster': False, 'divey': False, 'classy': False, 'trendy': False, 'upscale': False, 'casual': True}\", 'BYOB': None, 'BestNights': None, 'BikeParking': 'False', 'BusinessAcceptsBitcoin': None, 'BusinessAcceptsCreditCards': 'True', 'BusinessParking': \"{'garage': False, 'street': True, 'validated': False, 'lot': False, 'valet': False}\", 'ByAppointmentOnly': 'False', 'Caters': 'False', 'CoatCheck': None, 'Corkage': None, 'DogsAllowed': 'False', 'DriveThru': 'False', 'GoodForDancing': None, 'GoodForKids': 'True', 'GoodForMeal': None, 'HappyHour': None, 'HasTV': 'False', 'Music': None, 'NoiseLevel': \"u'average'\", 'OutdoorSeating': 'None', 'RestaurantsAttire': \"'casual'\", 'RestaurantsDelivery': 'None', 'RestaurantsGoodForGroups': 'True', 'RestaurantsPriceRange2': '2', 'RestaurantsReservations': 'False', 'RestaurantsTableService': None, 'RestaurantsTakeOut': 'True', 'Smoking': None, 'WheelchairAccessible': None, 'WiFi': \"'free'\"}, 'biz_categories': ['Ice Cream & Frozen Yogurt', 'Coffee & Tea', 'Restaurants', 'Sandwiches', 'Food'], 'biz_hours': {'Friday': '8:0-0:0', 'Monday': '8:0-23:0', 'Saturday': '8:0-0:30', 'Sunday': '8:0-23:0', 'Thursday': '8:0-23:0', 'Tuesday': '8:0-23:0', 'Wednesday': '8:0-23:0'}}, hash='37f938a220238d3b1c1b9b55d78a8817b80fcc04ea42d0ab754aa1dfb2ee1db1'), <NodeRelationship.PREVIOUS: '2'>: RelatedNodeInfo(node_id='4c65096c-25ff-4f75-9850-30983a2762f4', node_type=<ObjectType.TEXT: '1'>, metadata={'review_id': 'zj-LN7a09KdkTSWIi8rMkw', 'user_id': 'nRtZD0_psZhnHTG8pY08eg', 'business_id': 'oaboaRBUgGjbo2kfUIKDLQ', 'review_stars': 5, 'useful': 3, 'funny': 1, 'cool': 0, 'date': '2015-11-19T03:51:39', 'biz_name': \"Mike's Ice Cream\", 'biz_address': '129 2nd Ave N', 'biz_city': 'Nashville', 'biz_state': 'TN', 'biz_postal_code': '37201', 'biz_latitude': 36.1626492, 'biz_longitude': -86.7759733, 'biz_stars': 4.5, 'biz_review_count': 593, 'biz_is_open': 1, 'biz_attributes': {'AcceptsInsurance': None, 'Alcohol': \"u'none'\", 'Ambience': \"{'romantic': False, 'intimate': False, 'touristy': False, 'hipster': False, 'divey': False, 'classy': False, 'trendy': False, 'upscale': False, 'casual': True}\", 'BYOB': None, 'BestNights': None, 'BikeParking': 'False', 'BusinessAcceptsBitcoin': None, 'BusinessAcceptsCreditCards': 'True', 'BusinessParking': \"{'garage': False, 'street': True, 'validated': False, 'lot': False, 'valet': False}\", 'ByAppointmentOnly': 'False', 'Caters': 'False', 'CoatCheck': None, 'Corkage': None, 'DogsAllowed': 'False', 'DriveThru': 'False', 'GoodForDancing': None, 'GoodForKids': 'True', 'GoodForMeal': None, 'HappyHour': None, 'HasTV': 'False', 'Music': None, 'NoiseLevel': \"u'average'\", 'OutdoorSeating': 'None', 'RestaurantsAttire': \"'casual'\", 'RestaurantsDelivery': 'None', 'RestaurantsGoodForGroups': 'True', 'RestaurantsPriceRange2': '2', 'RestaurantsReservations': 'False', 'RestaurantsTableService': None, 'RestaurantsTakeOut': 'True', 'Smoking': None, 'WheelchairAccessible': None, 'WiFi': \"'free'\"}, 'biz_categories': ['Ice Cream & Frozen Yogurt', 'Coffee & Tea', 'Restaurants', 'Sandwiches', 'Food'], 'biz_hours': {'Friday': '8:0-0:0', 'Monday': '8:0-23:0', 'Saturday': '8:0-0:30', 'Sunday': '8:0-23:0', 'Thursday': '8:0-23:0', 'Tuesday': '8:0-23:0', 'Wednesday': '8:0-23:0'}}, hash='8314cf8584ec25be7c1c5fba0593507789ea0a958c02dbb5126a200562c01164')}, text='Also no judgement for eating all the brownie sundae alone :) lol', mimetype='text/plain', start_char_idx=873, end_char_idx=937, text_template='{metadata_str}\\n\\n{content}', metadata_template='{key}: {value}', metadata_seperator='\\n'), score=0.03200204813108039),\n",
       " NodeWithScore(node=TextNode(id_='50b0339f-e1c7-43ca-a9ee-4a759ff99a11', embedding=None, metadata={'review_id': '8x4WVgu2t2MD48_ftQXrLw', 'user_id': '4KNOhaUhegpmZ6sWwJtRTw', 'business_id': 'ppFCk9aQkM338Rgwpl2F5A', 'review_stars': 4, 'useful': 0, 'funny': 0, 'cool': 0, 'date': '2014-01-17T15:12:23', 'biz_name': 'Wawa', 'biz_address': '3604 Chestnut St', 'biz_city': 'Philadelphia', 'biz_state': 'PA', 'biz_postal_code': '19104', 'biz_latitude': 39.954573, 'biz_longitude': -75.1948936, 'biz_stars': 3.0, 'biz_review_count': 56, 'biz_is_open': 1, 'biz_attributes': {'AcceptsInsurance': None, 'Alcohol': \"u'none'\", 'Ambience': \"{'romantic': False, 'intimate': False, 'classy': False, 'hipster': False, 'divey': False, 'touristy': False, 'trendy': False, 'upscale': False, 'casual': True}\", 'BYOB': None, 'BestNights': None, 'BikeParking': 'True', 'BusinessAcceptsBitcoin': None, 'BusinessAcceptsCreditCards': 'True', 'BusinessParking': \"{'garage': False, 'street': True, 'validated': False, 'lot': False, 'valet': False}\", 'ByAppointmentOnly': 'False', 'Caters': 'False', 'CoatCheck': None, 'Corkage': None, 'DogsAllowed': None, 'DriveThru': None, 'GoodForDancing': None, 'GoodForKids': 'True', 'GoodForMeal': None, 'HappyHour': None, 'HasTV': 'True', 'Music': None, 'NoiseLevel': \"u'average'\", 'OutdoorSeating': 'False', 'RestaurantsAttire': \"u'casual'\", 'RestaurantsDelivery': 'True', 'RestaurantsGoodForGroups': 'True', 'RestaurantsPriceRange2': '1', 'RestaurantsReservations': 'False', 'RestaurantsTableService': None, 'RestaurantsTakeOut': 'True', 'Smoking': None, 'WheelchairAccessible': None, 'WiFi': \"u'free'\"}, 'biz_categories': ['Restaurants', 'Automotive', 'Delis', 'Gas Stations', 'Food', 'Coffee & Tea', 'Sandwiches', 'Convenience Stores'], 'biz_hours': {'Friday': '0:0-0:0', 'Monday': '0:0-0:0', 'Saturday': '0:0-0:0', 'Sunday': '0:0-0:0', 'Thursday': '0:0-0:0', 'Tuesday': '0:0-0:0', 'Wednesday': '0:0-0:0'}}, excluded_embed_metadata_keys=['review_id', 'user_id', 'business_id', 'useful', 'funny', 'cool', 'text', 'date', 'biz_postal_code', 'biz_latitude', 'biz_longitude', 'biz_stars', 'biz_review_count', 'biz_is_open', 'biz_attributes', 'biz_hours'], excluded_llm_metadata_keys=['review_id', 'user_id', 'business_id', 'useful', 'funny', 'cool', 'text', 'date', 'biz_postal_code', 'biz_latitude', 'biz_longitude', 'biz_stars', 'biz_review_count', 'biz_is_open', 'biz_attributes', 'biz_hours'], relationships={<NodeRelationship.SOURCE: '1'>: RelatedNodeInfo(node_id='306fb6a2-2037-4870-8a23-f78a5a318190', node_type=<ObjectType.DOCUMENT: '4'>, metadata={'review_id': '8x4WVgu2t2MD48_ftQXrLw', 'user_id': '4KNOhaUhegpmZ6sWwJtRTw', 'business_id': 'ppFCk9aQkM338Rgwpl2F5A', 'review_stars': 4, 'useful': 0, 'funny': 0, 'cool': 0, 'date': '2014-01-17T15:12:23', 'biz_name': 'Wawa', 'biz_address': '3604 Chestnut St', 'biz_city': 'Philadelphia', 'biz_state': 'PA', 'biz_postal_code': '19104', 'biz_latitude': 39.954573, 'biz_longitude': -75.1948936, 'biz_stars': 3.0, 'biz_review_count': 56, 'biz_is_open': 1, 'biz_attributes': {'AcceptsInsurance': None, 'Alcohol': \"u'none'\", 'Ambience': \"{'romantic': False, 'intimate': False, 'classy': False, 'hipster': False, 'divey': False, 'touristy': False, 'trendy': False, 'upscale': False, 'casual': True}\", 'BYOB': None, 'BestNights': None, 'BikeParking': 'True', 'BusinessAcceptsBitcoin': None, 'BusinessAcceptsCreditCards': 'True', 'BusinessParking': \"{'garage': False, 'street': True, 'validated': False, 'lot': False, 'valet': False}\", 'ByAppointmentOnly': 'False', 'Caters': 'False', 'CoatCheck': None, 'Corkage': None, 'DogsAllowed': None, 'DriveThru': None, 'GoodForDancing': None, 'GoodForKids': 'True', 'GoodForMeal': None, 'HappyHour': None, 'HasTV': 'True', 'Music': None, 'NoiseLevel': \"u'average'\", 'OutdoorSeating': 'False', 'RestaurantsAttire': \"u'casual'\", 'RestaurantsDelivery': 'True', 'RestaurantsGoodForGroups': 'True', 'RestaurantsPriceRange2': '1', 'RestaurantsReservations': 'False', 'RestaurantsTableService': None, 'RestaurantsTakeOut': 'True', 'Smoking': None, 'WheelchairAccessible': None, 'WiFi': \"u'free'\"}, 'biz_categories': ['Restaurants', 'Automotive', 'Delis', 'Gas Stations', 'Food', 'Coffee & Tea', 'Sandwiches', 'Convenience Stores'], 'biz_hours': {'Friday': '0:0-0:0', 'Monday': '0:0-0:0', 'Saturday': '0:0-0:0', 'Sunday': '0:0-0:0', 'Thursday': '0:0-0:0', 'Tuesday': '0:0-0:0', 'Wednesday': '0:0-0:0'}}, hash='43ec3386a2acd9d1ab303b82b70e0632898bbf24bb6e32f4db50ed1c6693c2e4'), <NodeRelationship.PREVIOUS: '2'>: RelatedNodeInfo(node_id='59da7ff0-ecef-4eec-bbc6-b84c803a27fd', node_type=<ObjectType.TEXT: '1'>, metadata={'review_id': '8x4WVgu2t2MD48_ftQXrLw', 'user_id': '4KNOhaUhegpmZ6sWwJtRTw', 'business_id': 'ppFCk9aQkM338Rgwpl2F5A', 'review_stars': 4, 'useful': 0, 'funny': 0, 'cool': 0, 'date': '2014-01-17T15:12:23', 'biz_name': 'Wawa', 'biz_address': '3604 Chestnut St', 'biz_city': 'Philadelphia', 'biz_state': 'PA', 'biz_postal_code': '19104', 'biz_latitude': 39.954573, 'biz_longitude': -75.1948936, 'biz_stars': 3.0, 'biz_review_count': 56, 'biz_is_open': 1, 'biz_attributes': {'AcceptsInsurance': None, 'Alcohol': \"u'none'\", 'Ambience': \"{'romantic': False, 'intimate': False, 'classy': False, 'hipster': False, 'divey': False, 'touristy': False, 'trendy': False, 'upscale': False, 'casual': True}\", 'BYOB': None, 'BestNights': None, 'BikeParking': 'True', 'BusinessAcceptsBitcoin': None, 'BusinessAcceptsCreditCards': 'True', 'BusinessParking': \"{'garage': False, 'street': True, 'validated': False, 'lot': False, 'valet': False}\", 'ByAppointmentOnly': 'False', 'Caters': 'False', 'CoatCheck': None, 'Corkage': None, 'DogsAllowed': None, 'DriveThru': None, 'GoodForDancing': None, 'GoodForKids': 'True', 'GoodForMeal': None, 'HappyHour': None, 'HasTV': 'True', 'Music': None, 'NoiseLevel': \"u'average'\", 'OutdoorSeating': 'False', 'RestaurantsAttire': \"u'casual'\", 'RestaurantsDelivery': 'True', 'RestaurantsGoodForGroups': 'True', 'RestaurantsPriceRange2': '1', 'RestaurantsReservations': 'False', 'RestaurantsTableService': None, 'RestaurantsTakeOut': 'True', 'Smoking': None, 'WheelchairAccessible': None, 'WiFi': \"u'free'\"}, 'biz_categories': ['Restaurants', 'Automotive', 'Delis', 'Gas Stations', 'Food', 'Coffee & Tea', 'Sandwiches', 'Convenience Stores'], 'biz_hours': {'Friday': '0:0-0:0', 'Monday': '0:0-0:0', 'Saturday': '0:0-0:0', 'Sunday': '0:0-0:0', 'Thursday': '0:0-0:0', 'Tuesday': '0:0-0:0', 'Wednesday': '0:0-0:0'}}, hash='e7589cfc8469e15fd04d53fd6581bfe07eceeac63f4d71e3038474b6cf557732')}, text='This particular location is not quite as friendly as the one I go to near the office, but whatever.  I can still walk out with all of my snacking requirements.', mimetype='text/plain', start_char_idx=238, end_char_idx=397, text_template='{metadata_str}\\n\\n{content}', metadata_template='{key}: {value}', metadata_seperator='\\n'), score=0.030303030303030304)]"
      ]
     },
     "execution_count": 45,
     "metadata": {},
     "output_type": "execute_result"
    }
   ],
   "source": [
    "def check_retrieval_results(query):\n",
    "    retrieval_results = retriever.retrieve(query)\n",
    "    for node in retrieval_results:\n",
    "        display_source_node(node, source_length=1000)\n",
    "        print(node.get_content(metadata_mode=MetadataMode.EMBED))\n",
    "        print(\"\\n\")\n",
    "    return retrieval_results\n",
    "\n",
    "query = \"What are some good grocery stores in Nashville that offer curated items and unique local products?\"\n",
    "check_retrieval_results(query)"
   ]
  },
  {
   "cell_type": "markdown",
   "id": "df539255-2afe-48a9-8415-d0b9bbb43694",
   "metadata": {},
   "source": [
    "## Response"
   ]
  },
  {
   "cell_type": "code",
   "execution_count": 58,
   "id": "dd54e814-44c8-45ff-98c9-7334111b09f1",
   "metadata": {},
   "outputs": [],
   "source": [
    "from llama_index.core import get_response_synthesizer\n",
    "from llama_index.core.postprocessor import SimilarityPostprocessor\n",
    "from llama_index.postprocessor.flag_embedding_reranker import FlagEmbeddingReranker\n",
    "from llama_index.core.response_synthesizers.type import ResponseMode\n",
    "\n",
    "from src.features.append_reference.custom_query_engine import ManualAppendReferenceQueryEngine\n",
    "from src.features.synthesize_recommendation.custom_tree_summarize import CUSTOM_TREE_SUMMARIZE_PROMPT_SEL"
   ]
  },
  {
   "cell_type": "code",
   "execution_count": 69,
   "id": "ffa6b6bf-3304-4ff6-bfaf-888799302a1f",
   "metadata": {},
   "outputs": [],
   "source": [
    "node_postprocessors = []\n",
    "\n",
    "if cfg.retrieval_cfg.retrieval_simiarity_cutoff is not None:\n",
    "    node_postprocessors.append(SimilarityPostprocessor(similarity_cutoff=cfg.retrieval_simiarity_cutoff))\n",
    "\n",
    "# reranker = FlagEmbeddingReranker(model=cfg.retrieval_cfg.rerank_model_name, top_n=cfg.retrieval_cfg.rerank_top_k, use_fp16=False).to('cpu')\n",
    "# node_postprocessors.append(reranker)\n",
    "\n",
    "response_synthesizer = get_response_synthesizer(\n",
    "    response_mode=ResponseMode.TREE_SUMMARIZE,\n",
    "    summary_template=CUSTOM_TREE_SUMMARIZE_PROMPT_SEL\n",
    ")\n",
    "query_engine = ManualAppendReferenceQueryEngine(\n",
    "    retriever=retriever,\n",
    "    response_synthesizer=response_synthesizer,\n",
    "    node_postprocessors=node_postprocessors,\n",
    ")"
   ]
  },
  {
   "cell_type": "markdown",
   "id": "67ad20db-6758-4f9b-b3e4-e9497c47ee3d",
   "metadata": {},
   "source": [
    "## Test Query Engine"
   ]
  },
  {
   "cell_type": "code",
   "execution_count": 70,
   "id": "6c8b1a2d-5708-4572-8c18-2e8ec72033b9",
   "metadata": {},
   "outputs": [],
   "source": [
    "from llama_index.core.response.notebook_utils import (\n",
    "    display_source_node,\n",
    "    display_response,\n",
    ")"
   ]
  },
  {
   "cell_type": "code",
   "execution_count": null,
   "id": "b3c1a231-88e5-4419-bf04-bc71192236cc",
   "metadata": {},
   "outputs": [
    {
     "name": "stdout",
     "output_type": "stream",
     "text": [
      "Generated queries:\n",
      "cold brew coffee\n",
      "I love getting cold brew coffee in the mornings. My favorite place to get it is [Place Name] because they have a really great selection of roasts and brewing methods.\n"
     ]
    }
   ],
   "source": [
    "query = \"What are some places to enjoy cold brew coffee\"\n",
    "response = query_engine.query(query)\n",
    "display_response(response, source_length=1000, show_source=True, show_metadata=True, show_source_metadata=True)"
   ]
  },
  {
   "cell_type": "markdown",
   "id": "2e4a58eb-ccce-488e-8497-0f3afbbb9e9e",
   "metadata": {},
   "source": [
    "## Response Evaluation"
   ]
  },
  {
   "cell_type": "code",
   "execution_count": 34,
   "id": "7f6ed9f1-abad-4969-bb45-bd30de8e8dc2",
   "metadata": {},
   "outputs": [],
   "source": [
    "from src.run.eval.response import ResponseEvaluator"
   ]
  },
  {
   "cell_type": "code",
   "execution_count": 35,
   "id": "4dbcb846-555b-4a18-bfcb-116fe4777317",
   "metadata": {},
   "outputs": [],
   "source": [
    "response_evaluator = ResponseEvaluator()"
   ]
  },
  {
   "cell_type": "markdown",
   "id": "e4f74d5c-96ed-42f9-8c3b-a4a8b33bc6f2",
   "metadata": {},
   "source": [
    "### Synthetic"
   ]
  },
  {
   "cell_type": "code",
   "execution_count": 38,
   "id": "f8a7750e-5ba3-4cb2-92b8-2d4c13d75ae0",
   "metadata": {},
   "outputs": [
    {
     "name": "stderr",
     "output_type": "stream",
     "text": [
      "\u001b[32m2024-09-21 17:31:39.802\u001b[0m | \u001b[1mINFO    \u001b[0m | \u001b[36msrc.run.eval.response\u001b[0m:\u001b[36mgenerate_synthetic_dataset\u001b[0m:\u001b[36m39\u001b[0m - \u001b[1mSampling 10 documents for response evaluations...\u001b[0m\n",
      "\u001b[32m2024-09-21 17:31:39.803\u001b[0m | \u001b[1mINFO    \u001b[0m | \u001b[36msrc.run.eval.response\u001b[0m:\u001b[36mgenerate_synthetic_dataset\u001b[0m:\u001b[36m58\u001b[0m - \u001b[1mCreating new response eval dataset at data/025_modify_prompt_with_tree_summarize/response_synthetic_eval_dataset.json...\u001b[0m\n",
      "\u001b[32m2024-09-21 17:31:39.803\u001b[0m | \u001b[1mINFO    \u001b[0m | \u001b[36msrc.run.eval.response\u001b[0m:\u001b[36mgenerate_synthetic_dataset\u001b[0m:\u001b[36m61\u001b[0m - \u001b[1mCreating synthetic response eval dataset...\u001b[0m\n"
     ]
    },
    {
     "data": {
      "application/vnd.jupyter.widget-view+json": {
       "model_id": "e499850774dc4c40a20207e3114da53d",
       "version_major": 2,
       "version_minor": 0
      },
      "text/plain": [
       "Parsing nodes:   0%|          | 0/10 [00:00<?, ?it/s]"
      ]
     },
     "metadata": {},
     "output_type": "display_data"
    },
    {
     "name": "stderr",
     "output_type": "stream",
     "text": [
      "100%|████████████████████| 10/10 [00:10<00:00,  1.04s/it]\n",
      "100%|██████████████████████| 1/1 [00:00<00:00,  1.00it/s]\n",
      "100%|██████████████████████| 1/1 [00:00<00:00,  1.10it/s]\n",
      "100%|██████████████████████| 1/1 [00:00<00:00,  1.58it/s]\n",
      "100%|██████████████████████| 1/1 [00:01<00:00,  1.16s/it]\n",
      "100%|██████████████████████| 1/1 [00:00<00:00,  1.70it/s]\n",
      "100%|██████████████████████| 1/1 [00:01<00:00,  1.10s/it]\n",
      "  0%|                              | 0/1 [00:00<?, ?it/s]\n"
     ]
    },
    {
     "ename": "ResourceExhausted",
     "evalue": "429 Resource has been exhausted (e.g. check quota).",
     "output_type": "error",
     "traceback": [
      "\u001b[0;31m---------------------------------------------------------------------------\u001b[0m",
      "\u001b[0;31mResourceExhausted\u001b[0m                         Traceback (most recent call last)",
      "Cell \u001b[0;32mIn[38], line 1\u001b[0m\n\u001b[0;32m----> 1\u001b[0m response_eval_documents, response_synthetic_eval_dataset \u001b[38;5;241m=\u001b[39m \u001b[43mresponse_evaluator\u001b[49m\u001b[38;5;241;43m.\u001b[39;49m\u001b[43mgenerate_synthetic_dataset\u001b[49m\u001b[43m(\u001b[49m\u001b[43mcfg\u001b[49m\u001b[43m,\u001b[49m\u001b[43m \u001b[49m\u001b[43mdocuments\u001b[49m\u001b[43m)\u001b[49m\n",
      "File \u001b[0;32m~/Desktop/projects/personal-bot/notebooks/../src/run/eval/response.py:80\u001b[0m, in \u001b[0;36mResponseEvaluator.generate_synthetic_dataset\u001b[0;34m(self, cfg, documents)\u001b[0m\n\u001b[1;32m     65\u001b[0m response_eval_llm \u001b[38;5;241m=\u001b[39m Gemini(\n\u001b[1;32m     66\u001b[0m     model\u001b[38;5;241m=\u001b[39mcfg\u001b[38;5;241m.\u001b[39mllm_cfg\u001b[38;5;241m.\u001b[39mllm_model_name,\n\u001b[1;32m     67\u001b[0m     temperature\u001b[38;5;241m=\u001b[39m\u001b[38;5;241m0\u001b[39m,\n\u001b[1;32m     68\u001b[0m )\n\u001b[1;32m     70\u001b[0m response_dataset_generator \u001b[38;5;241m=\u001b[39m RagDatasetGenerator\u001b[38;5;241m.\u001b[39mfrom_documents(\n\u001b[1;32m     71\u001b[0m     documents\u001b[38;5;241m=\u001b[39mresponse_eval_documents,\n\u001b[1;32m     72\u001b[0m     llm\u001b[38;5;241m=\u001b[39mresponse_eval_llm,\n\u001b[0;32m   (...)\u001b[0m\n\u001b[1;32m     76\u001b[0m     workers\u001b[38;5;241m=\u001b[39m(os\u001b[38;5;241m.\u001b[39mcpu_count() \u001b[38;5;241m-\u001b[39m \u001b[38;5;241m1\u001b[39m),\n\u001b[1;32m     77\u001b[0m )\n\u001b[1;32m     79\u001b[0m response_synthetic_eval_dataset \u001b[38;5;241m=\u001b[39m (\n\u001b[0;32m---> 80\u001b[0m     \u001b[43mresponse_dataset_generator\u001b[49m\u001b[38;5;241;43m.\u001b[39;49m\u001b[43mgenerate_dataset_from_nodes\u001b[49m\u001b[43m(\u001b[49m\u001b[43m)\u001b[49m\n\u001b[1;32m     81\u001b[0m )\n\u001b[1;32m     83\u001b[0m logger\u001b[38;5;241m.\u001b[39minfo(\n\u001b[1;32m     84\u001b[0m     \u001b[38;5;124mf\u001b[39m\u001b[38;5;124m\"\u001b[39m\u001b[38;5;124mPersisting synthetic response eval dataset eval dataset at \u001b[39m\u001b[38;5;132;01m{\u001b[39;00mresponse_synthetic_eval_dataset_fp\u001b[38;5;132;01m}\u001b[39;00m\u001b[38;5;124m...\u001b[39m\u001b[38;5;124m\"\u001b[39m\n\u001b[1;32m     85\u001b[0m )\n\u001b[1;32m     86\u001b[0m response_synthetic_eval_dataset\u001b[38;5;241m.\u001b[39msave_json(\n\u001b[1;32m     87\u001b[0m     response_synthetic_eval_dataset_fp\n\u001b[1;32m     88\u001b[0m )\n",
      "File \u001b[0;32m~/.cache/pypoetry/virtualenvs/personal-bot-bBSbD0Py-py3.12/lib/python3.12/site-packages/llama_index/core/llama_dataset/generator.py:244\u001b[0m, in \u001b[0;36mRagDatasetGenerator.generate_dataset_from_nodes\u001b[0;34m(self)\u001b[0m\n\u001b[1;32m    242\u001b[0m \u001b[38;5;28;01mdef\u001b[39;00m \u001b[38;5;21mgenerate_dataset_from_nodes\u001b[39m(\u001b[38;5;28mself\u001b[39m) \u001b[38;5;241m-\u001b[39m\u001b[38;5;241m>\u001b[39m LabelledRagDataset:\n\u001b[1;32m    243\u001b[0m \u001b[38;5;250m    \u001b[39m\u001b[38;5;124;03m\"\"\"Generates questions for each document.\"\"\"\u001b[39;00m\n\u001b[0;32m--> 244\u001b[0m     \u001b[38;5;28;01mreturn\u001b[39;00m \u001b[43masyncio_run\u001b[49m\u001b[43m(\u001b[49m\u001b[38;5;28;43mself\u001b[39;49m\u001b[38;5;241;43m.\u001b[39;49m\u001b[43magenerate_dataset_from_nodes\u001b[49m\u001b[43m(\u001b[49m\u001b[43m)\u001b[49m\u001b[43m)\u001b[49m\n",
      "File \u001b[0;32m~/.cache/pypoetry/virtualenvs/personal-bot-bBSbD0Py-py3.12/lib/python3.12/site-packages/llama_index/core/async_utils.py:33\u001b[0m, in \u001b[0;36masyncio_run\u001b[0;34m(coro)\u001b[0m\n\u001b[1;32m     30\u001b[0m     loop \u001b[38;5;241m=\u001b[39m asyncio\u001b[38;5;241m.\u001b[39mget_event_loop()\n\u001b[1;32m     32\u001b[0m     \u001b[38;5;66;03m# If we're here, there's an existing loop but it's not running\u001b[39;00m\n\u001b[0;32m---> 33\u001b[0m     \u001b[38;5;28;01mreturn\u001b[39;00m \u001b[43mloop\u001b[49m\u001b[38;5;241;43m.\u001b[39;49m\u001b[43mrun_until_complete\u001b[49m\u001b[43m(\u001b[49m\u001b[43mcoro\u001b[49m\u001b[43m)\u001b[49m\n\u001b[1;32m     35\u001b[0m \u001b[38;5;28;01mexcept\u001b[39;00m \u001b[38;5;167;01mRuntimeError\u001b[39;00m \u001b[38;5;28;01mas\u001b[39;00m e:\n\u001b[1;32m     36\u001b[0m     \u001b[38;5;66;03m# If we can't get the event loop, we're likely in a different thread, or its already running\u001b[39;00m\n\u001b[1;32m     37\u001b[0m     \u001b[38;5;28;01mtry\u001b[39;00m:\n",
      "File \u001b[0;32m~/.cache/pypoetry/virtualenvs/personal-bot-bBSbD0Py-py3.12/lib/python3.12/site-packages/nest_asyncio.py:98\u001b[0m, in \u001b[0;36m_patch_loop.<locals>.run_until_complete\u001b[0;34m(self, future)\u001b[0m\n\u001b[1;32m     95\u001b[0m \u001b[38;5;28;01mif\u001b[39;00m \u001b[38;5;129;01mnot\u001b[39;00m f\u001b[38;5;241m.\u001b[39mdone():\n\u001b[1;32m     96\u001b[0m     \u001b[38;5;28;01mraise\u001b[39;00m \u001b[38;5;167;01mRuntimeError\u001b[39;00m(\n\u001b[1;32m     97\u001b[0m         \u001b[38;5;124m'\u001b[39m\u001b[38;5;124mEvent loop stopped before Future completed.\u001b[39m\u001b[38;5;124m'\u001b[39m)\n\u001b[0;32m---> 98\u001b[0m \u001b[38;5;28;01mreturn\u001b[39;00m \u001b[43mf\u001b[49m\u001b[38;5;241;43m.\u001b[39;49m\u001b[43mresult\u001b[49m\u001b[43m(\u001b[49m\u001b[43m)\u001b[49m\n",
      "File \u001b[0;32m~/miniconda3/lib/python3.12/asyncio/futures.py:203\u001b[0m, in \u001b[0;36mFuture.result\u001b[0;34m(self)\u001b[0m\n\u001b[1;32m    201\u001b[0m \u001b[38;5;28mself\u001b[39m\u001b[38;5;241m.\u001b[39m__log_traceback \u001b[38;5;241m=\u001b[39m \u001b[38;5;28;01mFalse\u001b[39;00m\n\u001b[1;32m    202\u001b[0m \u001b[38;5;28;01mif\u001b[39;00m \u001b[38;5;28mself\u001b[39m\u001b[38;5;241m.\u001b[39m_exception \u001b[38;5;129;01mis\u001b[39;00m \u001b[38;5;129;01mnot\u001b[39;00m \u001b[38;5;28;01mNone\u001b[39;00m:\n\u001b[0;32m--> 203\u001b[0m     \u001b[38;5;28;01mraise\u001b[39;00m \u001b[38;5;28mself\u001b[39m\u001b[38;5;241m.\u001b[39m_exception\u001b[38;5;241m.\u001b[39mwith_traceback(\u001b[38;5;28mself\u001b[39m\u001b[38;5;241m.\u001b[39m_exception_tb)\n\u001b[1;32m    204\u001b[0m \u001b[38;5;28;01mreturn\u001b[39;00m \u001b[38;5;28mself\u001b[39m\u001b[38;5;241m.\u001b[39m_result\n",
      "File \u001b[0;32m~/miniconda3/lib/python3.12/asyncio/tasks.py:314\u001b[0m, in \u001b[0;36mTask.__step_run_and_handle_result\u001b[0;34m(***failed resolving arguments***)\u001b[0m\n\u001b[1;32m    310\u001b[0m \u001b[38;5;28;01mtry\u001b[39;00m:\n\u001b[1;32m    311\u001b[0m     \u001b[38;5;28;01mif\u001b[39;00m exc \u001b[38;5;129;01mis\u001b[39;00m \u001b[38;5;28;01mNone\u001b[39;00m:\n\u001b[1;32m    312\u001b[0m         \u001b[38;5;66;03m# We use the `send` method directly, because coroutines\u001b[39;00m\n\u001b[1;32m    313\u001b[0m         \u001b[38;5;66;03m# don't have `__iter__` and `__next__` methods.\u001b[39;00m\n\u001b[0;32m--> 314\u001b[0m         result \u001b[38;5;241m=\u001b[39m \u001b[43mcoro\u001b[49m\u001b[38;5;241;43m.\u001b[39;49m\u001b[43msend\u001b[49m\u001b[43m(\u001b[49m\u001b[38;5;28;43;01mNone\u001b[39;49;00m\u001b[43m)\u001b[49m\n\u001b[1;32m    315\u001b[0m     \u001b[38;5;28;01melse\u001b[39;00m:\n\u001b[1;32m    316\u001b[0m         result \u001b[38;5;241m=\u001b[39m coro\u001b[38;5;241m.\u001b[39mthrow(exc)\n",
      "File \u001b[0;32m~/.cache/pypoetry/virtualenvs/personal-bot-bBSbD0Py-py3.12/lib/python3.12/site-packages/llama_index/core/llama_dataset/generator.py:236\u001b[0m, in \u001b[0;36mRagDatasetGenerator.agenerate_dataset_from_nodes\u001b[0;34m(self)\u001b[0m\n\u001b[1;32m    234\u001b[0m \u001b[38;5;28;01masync\u001b[39;00m \u001b[38;5;28;01mdef\u001b[39;00m \u001b[38;5;21magenerate_dataset_from_nodes\u001b[39m(\u001b[38;5;28mself\u001b[39m) \u001b[38;5;241m-\u001b[39m\u001b[38;5;241m>\u001b[39m LabelledRagDataset:\n\u001b[1;32m    235\u001b[0m \u001b[38;5;250m    \u001b[39m\u001b[38;5;124;03m\"\"\"Generates questions for each document.\"\"\"\u001b[39;00m\n\u001b[0;32m--> 236\u001b[0m     \u001b[38;5;28;01mreturn\u001b[39;00m \u001b[38;5;28;01mawait\u001b[39;00m \u001b[38;5;28mself\u001b[39m\u001b[38;5;241m.\u001b[39m_agenerate_dataset(\u001b[38;5;28mself\u001b[39m\u001b[38;5;241m.\u001b[39mnodes, labelled\u001b[38;5;241m=\u001b[39m\u001b[38;5;28;01mTrue\u001b[39;00m)\n",
      "File \u001b[0;32m~/.cache/pypoetry/virtualenvs/personal-bot-bBSbD0Py-py3.12/lib/python3.12/site-packages/llama_index/core/llama_dataset/generator.py:202\u001b[0m, in \u001b[0;36mRagDatasetGenerator._agenerate_dataset\u001b[0;34m(self, nodes, labelled)\u001b[0m\n\u001b[1;32m    200\u001b[0m     qr_task \u001b[38;5;241m=\u001b[39m qa_query_engine\u001b[38;5;241m.\u001b[39maquery(query)\n\u001b[1;32m    201\u001b[0m     qr_tasks\u001b[38;5;241m.\u001b[39mappend(qr_task)\n\u001b[0;32m--> 202\u001b[0m answer_responses: List[RESPONSE_TYPE] \u001b[38;5;241m=\u001b[39m \u001b[38;5;28;01mawait\u001b[39;00m run_jobs(\n\u001b[1;32m    203\u001b[0m     qr_tasks, \u001b[38;5;28mself\u001b[39m\u001b[38;5;241m.\u001b[39m_show_progress, \u001b[38;5;28mself\u001b[39m\u001b[38;5;241m.\u001b[39m_workers\n\u001b[1;32m    204\u001b[0m )\n\u001b[1;32m    205\u001b[0m \u001b[38;5;28;01mfor\u001b[39;00m question, answer_response \u001b[38;5;129;01min\u001b[39;00m \u001b[38;5;28mzip\u001b[39m(\n\u001b[1;32m    206\u001b[0m     cleaned_questions, answer_responses\n\u001b[1;32m    207\u001b[0m ):\n\u001b[1;32m    208\u001b[0m     example \u001b[38;5;241m=\u001b[39m LabelledRagDataExample(\n\u001b[1;32m    209\u001b[0m         query\u001b[38;5;241m=\u001b[39mquestion,\n\u001b[1;32m    210\u001b[0m         reference_answer\u001b[38;5;241m=\u001b[39m\u001b[38;5;28mstr\u001b[39m(answer_response),\n\u001b[0;32m   (...)\u001b[0m\n\u001b[1;32m    213\u001b[0m         query_by\u001b[38;5;241m=\u001b[39mcreated_by,\n\u001b[1;32m    214\u001b[0m     )\n",
      "File \u001b[0;32m~/.cache/pypoetry/virtualenvs/personal-bot-bBSbD0Py-py3.12/lib/python3.12/site-packages/llama_index/core/instrumentation/dispatcher.py:291\u001b[0m, in \u001b[0;36mDispatcher.span.<locals>.async_wrapper\u001b[0;34m(func, instance, args, kwargs)\u001b[0m\n\u001b[1;32m    283\u001b[0m \u001b[38;5;28mself\u001b[39m\u001b[38;5;241m.\u001b[39mspan_enter(\n\u001b[1;32m    284\u001b[0m     id_\u001b[38;5;241m=\u001b[39mid_,\n\u001b[1;32m    285\u001b[0m     bound_args\u001b[38;5;241m=\u001b[39mbound_args,\n\u001b[0;32m   (...)\u001b[0m\n\u001b[1;32m    288\u001b[0m     tags\u001b[38;5;241m=\u001b[39mtags,\n\u001b[1;32m    289\u001b[0m )\n\u001b[1;32m    290\u001b[0m \u001b[38;5;28;01mtry\u001b[39;00m:\n\u001b[0;32m--> 291\u001b[0m     result \u001b[38;5;241m=\u001b[39m \u001b[38;5;28;01mawait\u001b[39;00m func(\u001b[38;5;241m*\u001b[39margs, \u001b[38;5;241m*\u001b[39m\u001b[38;5;241m*\u001b[39mkwargs)\n\u001b[1;32m    292\u001b[0m \u001b[38;5;28;01mexcept\u001b[39;00m \u001b[38;5;167;01mBaseException\u001b[39;00m \u001b[38;5;28;01mas\u001b[39;00m e:\n\u001b[1;32m    293\u001b[0m     \u001b[38;5;28mself\u001b[39m\u001b[38;5;241m.\u001b[39mevent(SpanDropEvent(span_id\u001b[38;5;241m=\u001b[39mid_, err_str\u001b[38;5;241m=\u001b[39m\u001b[38;5;28mstr\u001b[39m(e)))\n",
      "File \u001b[0;32m~/.cache/pypoetry/virtualenvs/personal-bot-bBSbD0Py-py3.12/lib/python3.12/site-packages/llama_index/core/async_utils.py:146\u001b[0m, in \u001b[0;36mrun_jobs\u001b[0;34m(jobs, show_progress, workers, desc)\u001b[0m\n\u001b[1;32m    143\u001b[0m \u001b[38;5;28;01mif\u001b[39;00m show_progress:\n\u001b[1;32m    144\u001b[0m     \u001b[38;5;28;01mfrom\u001b[39;00m \u001b[38;5;21;01mtqdm\u001b[39;00m\u001b[38;5;21;01m.\u001b[39;00m\u001b[38;5;21;01masyncio\u001b[39;00m \u001b[38;5;28;01mimport\u001b[39;00m tqdm_asyncio\n\u001b[0;32m--> 146\u001b[0m     results \u001b[38;5;241m=\u001b[39m \u001b[38;5;28;01mawait\u001b[39;00m tqdm_asyncio\u001b[38;5;241m.\u001b[39mgather(\u001b[38;5;241m*\u001b[39mpool_jobs, desc\u001b[38;5;241m=\u001b[39mdesc)\n\u001b[1;32m    147\u001b[0m \u001b[38;5;28;01melse\u001b[39;00m:\n\u001b[1;32m    148\u001b[0m     results \u001b[38;5;241m=\u001b[39m \u001b[38;5;28;01mawait\u001b[39;00m asyncio\u001b[38;5;241m.\u001b[39mgather(\u001b[38;5;241m*\u001b[39mpool_jobs)\n",
      "File \u001b[0;32m~/.cache/pypoetry/virtualenvs/personal-bot-bBSbD0Py-py3.12/lib/python3.12/site-packages/tqdm/asyncio.py:79\u001b[0m, in \u001b[0;36mtqdm_asyncio.gather\u001b[0;34m(cls, loop, timeout, total, *fs, **tqdm_kwargs)\u001b[0m\n\u001b[1;32m     76\u001b[0m     \u001b[38;5;28;01mreturn\u001b[39;00m i, \u001b[38;5;28;01mawait\u001b[39;00m f\n\u001b[1;32m     78\u001b[0m ifs \u001b[38;5;241m=\u001b[39m [wrap_awaitable(i, f) \u001b[38;5;28;01mfor\u001b[39;00m i, f \u001b[38;5;129;01min\u001b[39;00m \u001b[38;5;28menumerate\u001b[39m(fs)]\n\u001b[0;32m---> 79\u001b[0m res \u001b[38;5;241m=\u001b[39m [\u001b[38;5;28;01mawait\u001b[39;00m f \u001b[38;5;28;01mfor\u001b[39;00m f \u001b[38;5;129;01min\u001b[39;00m \u001b[38;5;28mcls\u001b[39m\u001b[38;5;241m.\u001b[39mas_completed(ifs, loop\u001b[38;5;241m=\u001b[39mloop, timeout\u001b[38;5;241m=\u001b[39mtimeout,\n\u001b[1;32m     80\u001b[0m                                          total\u001b[38;5;241m=\u001b[39mtotal, \u001b[38;5;241m*\u001b[39m\u001b[38;5;241m*\u001b[39mtqdm_kwargs)]\n\u001b[1;32m     81\u001b[0m \u001b[38;5;28;01mreturn\u001b[39;00m [i \u001b[38;5;28;01mfor\u001b[39;00m _, i \u001b[38;5;129;01min\u001b[39;00m \u001b[38;5;28msorted\u001b[39m(res)]\n",
      "File \u001b[0;32m~/miniconda3/lib/python3.12/asyncio/tasks.py:631\u001b[0m, in \u001b[0;36mas_completed.<locals>._wait_for_one\u001b[0;34m()\u001b[0m\n\u001b[1;32m    628\u001b[0m \u001b[38;5;28;01mif\u001b[39;00m f \u001b[38;5;129;01mis\u001b[39;00m \u001b[38;5;28;01mNone\u001b[39;00m:\n\u001b[1;32m    629\u001b[0m     \u001b[38;5;66;03m# Dummy value from _on_timeout().\u001b[39;00m\n\u001b[1;32m    630\u001b[0m     \u001b[38;5;28;01mraise\u001b[39;00m exceptions\u001b[38;5;241m.\u001b[39mTimeoutError\n\u001b[0;32m--> 631\u001b[0m \u001b[38;5;28;01mreturn\u001b[39;00m \u001b[43mf\u001b[49m\u001b[38;5;241;43m.\u001b[39;49m\u001b[43mresult\u001b[49m\u001b[43m(\u001b[49m\u001b[43m)\u001b[49m\n",
      "File \u001b[0;32m~/miniconda3/lib/python3.12/asyncio/futures.py:203\u001b[0m, in \u001b[0;36mFuture.result\u001b[0;34m(self)\u001b[0m\n\u001b[1;32m    201\u001b[0m \u001b[38;5;28mself\u001b[39m\u001b[38;5;241m.\u001b[39m__log_traceback \u001b[38;5;241m=\u001b[39m \u001b[38;5;28;01mFalse\u001b[39;00m\n\u001b[1;32m    202\u001b[0m \u001b[38;5;28;01mif\u001b[39;00m \u001b[38;5;28mself\u001b[39m\u001b[38;5;241m.\u001b[39m_exception \u001b[38;5;129;01mis\u001b[39;00m \u001b[38;5;129;01mnot\u001b[39;00m \u001b[38;5;28;01mNone\u001b[39;00m:\n\u001b[0;32m--> 203\u001b[0m     \u001b[38;5;28;01mraise\u001b[39;00m \u001b[38;5;28mself\u001b[39m\u001b[38;5;241m.\u001b[39m_exception\u001b[38;5;241m.\u001b[39mwith_traceback(\u001b[38;5;28mself\u001b[39m\u001b[38;5;241m.\u001b[39m_exception_tb)\n\u001b[1;32m    204\u001b[0m \u001b[38;5;28;01mreturn\u001b[39;00m \u001b[38;5;28mself\u001b[39m\u001b[38;5;241m.\u001b[39m_result\n",
      "File \u001b[0;32m~/miniconda3/lib/python3.12/asyncio/tasks.py:314\u001b[0m, in \u001b[0;36mTask.__step_run_and_handle_result\u001b[0;34m(***failed resolving arguments***)\u001b[0m\n\u001b[1;32m    310\u001b[0m \u001b[38;5;28;01mtry\u001b[39;00m:\n\u001b[1;32m    311\u001b[0m     \u001b[38;5;28;01mif\u001b[39;00m exc \u001b[38;5;129;01mis\u001b[39;00m \u001b[38;5;28;01mNone\u001b[39;00m:\n\u001b[1;32m    312\u001b[0m         \u001b[38;5;66;03m# We use the `send` method directly, because coroutines\u001b[39;00m\n\u001b[1;32m    313\u001b[0m         \u001b[38;5;66;03m# don't have `__iter__` and `__next__` methods.\u001b[39;00m\n\u001b[0;32m--> 314\u001b[0m         result \u001b[38;5;241m=\u001b[39m \u001b[43mcoro\u001b[49m\u001b[38;5;241;43m.\u001b[39;49m\u001b[43msend\u001b[49m\u001b[43m(\u001b[49m\u001b[38;5;28;43;01mNone\u001b[39;49;00m\u001b[43m)\u001b[49m\n\u001b[1;32m    315\u001b[0m     \u001b[38;5;28;01melse\u001b[39;00m:\n\u001b[1;32m    316\u001b[0m         result \u001b[38;5;241m=\u001b[39m coro\u001b[38;5;241m.\u001b[39mthrow(exc)\n",
      "File \u001b[0;32m~/.cache/pypoetry/virtualenvs/personal-bot-bBSbD0Py-py3.12/lib/python3.12/site-packages/tqdm/asyncio.py:76\u001b[0m, in \u001b[0;36mtqdm_asyncio.gather.<locals>.wrap_awaitable\u001b[0;34m(i, f)\u001b[0m\n\u001b[1;32m     75\u001b[0m \u001b[38;5;28;01masync\u001b[39;00m \u001b[38;5;28;01mdef\u001b[39;00m \u001b[38;5;21mwrap_awaitable\u001b[39m(i, f):\n\u001b[0;32m---> 76\u001b[0m     \u001b[38;5;28;01mreturn\u001b[39;00m i, \u001b[38;5;28;01mawait\u001b[39;00m f\n",
      "File \u001b[0;32m~/.cache/pypoetry/virtualenvs/personal-bot-bBSbD0Py-py3.12/lib/python3.12/site-packages/llama_index/core/instrumentation/dispatcher.py:291\u001b[0m, in \u001b[0;36mDispatcher.span.<locals>.async_wrapper\u001b[0;34m(func, instance, args, kwargs)\u001b[0m\n\u001b[1;32m    283\u001b[0m \u001b[38;5;28mself\u001b[39m\u001b[38;5;241m.\u001b[39mspan_enter(\n\u001b[1;32m    284\u001b[0m     id_\u001b[38;5;241m=\u001b[39mid_,\n\u001b[1;32m    285\u001b[0m     bound_args\u001b[38;5;241m=\u001b[39mbound_args,\n\u001b[0;32m   (...)\u001b[0m\n\u001b[1;32m    288\u001b[0m     tags\u001b[38;5;241m=\u001b[39mtags,\n\u001b[1;32m    289\u001b[0m )\n\u001b[1;32m    290\u001b[0m \u001b[38;5;28;01mtry\u001b[39;00m:\n\u001b[0;32m--> 291\u001b[0m     result \u001b[38;5;241m=\u001b[39m \u001b[38;5;28;01mawait\u001b[39;00m func(\u001b[38;5;241m*\u001b[39margs, \u001b[38;5;241m*\u001b[39m\u001b[38;5;241m*\u001b[39mkwargs)\n\u001b[1;32m    292\u001b[0m \u001b[38;5;28;01mexcept\u001b[39;00m \u001b[38;5;167;01mBaseException\u001b[39;00m \u001b[38;5;28;01mas\u001b[39;00m e:\n\u001b[1;32m    293\u001b[0m     \u001b[38;5;28mself\u001b[39m\u001b[38;5;241m.\u001b[39mevent(SpanDropEvent(span_id\u001b[38;5;241m=\u001b[39mid_, err_str\u001b[38;5;241m=\u001b[39m\u001b[38;5;28mstr\u001b[39m(e)))\n",
      "File \u001b[0;32m~/.cache/pypoetry/virtualenvs/personal-bot-bBSbD0Py-py3.12/lib/python3.12/site-packages/llama_index/core/async_utils.py:139\u001b[0m, in \u001b[0;36mrun_jobs.<locals>.worker\u001b[0;34m(job)\u001b[0m\n\u001b[1;32m    136\u001b[0m \u001b[38;5;129m@dispatcher\u001b[39m\u001b[38;5;241m.\u001b[39mspan\n\u001b[1;32m    137\u001b[0m \u001b[38;5;28;01masync\u001b[39;00m \u001b[38;5;28;01mdef\u001b[39;00m \u001b[38;5;21mworker\u001b[39m(job: Coroutine) \u001b[38;5;241m-\u001b[39m\u001b[38;5;241m>\u001b[39m Any:\n\u001b[1;32m    138\u001b[0m     \u001b[38;5;28;01masync\u001b[39;00m \u001b[38;5;28;01mwith\u001b[39;00m semaphore:\n\u001b[0;32m--> 139\u001b[0m         \u001b[38;5;28;01mreturn\u001b[39;00m \u001b[38;5;28;01mawait\u001b[39;00m job\n",
      "File \u001b[0;32m~/.cache/pypoetry/virtualenvs/personal-bot-bBSbD0Py-py3.12/lib/python3.12/site-packages/llama_index/core/instrumentation/dispatcher.py:291\u001b[0m, in \u001b[0;36mDispatcher.span.<locals>.async_wrapper\u001b[0;34m(func, instance, args, kwargs)\u001b[0m\n\u001b[1;32m    283\u001b[0m \u001b[38;5;28mself\u001b[39m\u001b[38;5;241m.\u001b[39mspan_enter(\n\u001b[1;32m    284\u001b[0m     id_\u001b[38;5;241m=\u001b[39mid_,\n\u001b[1;32m    285\u001b[0m     bound_args\u001b[38;5;241m=\u001b[39mbound_args,\n\u001b[0;32m   (...)\u001b[0m\n\u001b[1;32m    288\u001b[0m     tags\u001b[38;5;241m=\u001b[39mtags,\n\u001b[1;32m    289\u001b[0m )\n\u001b[1;32m    290\u001b[0m \u001b[38;5;28;01mtry\u001b[39;00m:\n\u001b[0;32m--> 291\u001b[0m     result \u001b[38;5;241m=\u001b[39m \u001b[38;5;28;01mawait\u001b[39;00m func(\u001b[38;5;241m*\u001b[39margs, \u001b[38;5;241m*\u001b[39m\u001b[38;5;241m*\u001b[39mkwargs)\n\u001b[1;32m    292\u001b[0m \u001b[38;5;28;01mexcept\u001b[39;00m \u001b[38;5;167;01mBaseException\u001b[39;00m \u001b[38;5;28;01mas\u001b[39;00m e:\n\u001b[1;32m    293\u001b[0m     \u001b[38;5;28mself\u001b[39m\u001b[38;5;241m.\u001b[39mevent(SpanDropEvent(span_id\u001b[38;5;241m=\u001b[39mid_, err_str\u001b[38;5;241m=\u001b[39m\u001b[38;5;28mstr\u001b[39m(e)))\n",
      "File \u001b[0;32m~/.cache/pypoetry/virtualenvs/personal-bot-bBSbD0Py-py3.12/lib/python3.12/site-packages/llama_index/core/base/base_query_engine.py:64\u001b[0m, in \u001b[0;36mBaseQueryEngine.aquery\u001b[0;34m(self, str_or_query_bundle)\u001b[0m\n\u001b[1;32m     62\u001b[0m     \u001b[38;5;28;01mif\u001b[39;00m \u001b[38;5;28misinstance\u001b[39m(str_or_query_bundle, \u001b[38;5;28mstr\u001b[39m):\n\u001b[1;32m     63\u001b[0m         str_or_query_bundle \u001b[38;5;241m=\u001b[39m QueryBundle(str_or_query_bundle)\n\u001b[0;32m---> 64\u001b[0m     query_result \u001b[38;5;241m=\u001b[39m \u001b[38;5;28;01mawait\u001b[39;00m \u001b[38;5;28mself\u001b[39m\u001b[38;5;241m.\u001b[39m_aquery(str_or_query_bundle)\n\u001b[1;32m     65\u001b[0m dispatcher\u001b[38;5;241m.\u001b[39mevent(\n\u001b[1;32m     66\u001b[0m     QueryEndEvent(query\u001b[38;5;241m=\u001b[39mstr_or_query_bundle, response\u001b[38;5;241m=\u001b[39mquery_result)\n\u001b[1;32m     67\u001b[0m )\n\u001b[1;32m     68\u001b[0m \u001b[38;5;28;01mreturn\u001b[39;00m query_result\n",
      "File \u001b[0;32m~/.cache/pypoetry/virtualenvs/personal-bot-bBSbD0Py-py3.12/lib/python3.12/site-packages/llama_index/core/instrumentation/dispatcher.py:291\u001b[0m, in \u001b[0;36mDispatcher.span.<locals>.async_wrapper\u001b[0;34m(func, instance, args, kwargs)\u001b[0m\n\u001b[1;32m    283\u001b[0m \u001b[38;5;28mself\u001b[39m\u001b[38;5;241m.\u001b[39mspan_enter(\n\u001b[1;32m    284\u001b[0m     id_\u001b[38;5;241m=\u001b[39mid_,\n\u001b[1;32m    285\u001b[0m     bound_args\u001b[38;5;241m=\u001b[39mbound_args,\n\u001b[0;32m   (...)\u001b[0m\n\u001b[1;32m    288\u001b[0m     tags\u001b[38;5;241m=\u001b[39mtags,\n\u001b[1;32m    289\u001b[0m )\n\u001b[1;32m    290\u001b[0m \u001b[38;5;28;01mtry\u001b[39;00m:\n\u001b[0;32m--> 291\u001b[0m     result \u001b[38;5;241m=\u001b[39m \u001b[38;5;28;01mawait\u001b[39;00m func(\u001b[38;5;241m*\u001b[39margs, \u001b[38;5;241m*\u001b[39m\u001b[38;5;241m*\u001b[39mkwargs)\n\u001b[1;32m    292\u001b[0m \u001b[38;5;28;01mexcept\u001b[39;00m \u001b[38;5;167;01mBaseException\u001b[39;00m \u001b[38;5;28;01mas\u001b[39;00m e:\n\u001b[1;32m    293\u001b[0m     \u001b[38;5;28mself\u001b[39m\u001b[38;5;241m.\u001b[39mevent(SpanDropEvent(span_id\u001b[38;5;241m=\u001b[39mid_, err_str\u001b[38;5;241m=\u001b[39m\u001b[38;5;28mstr\u001b[39m(e)))\n",
      "File \u001b[0;32m~/.cache/pypoetry/virtualenvs/personal-bot-bBSbD0Py-py3.12/lib/python3.12/site-packages/llama_index/core/query_engine/retriever_query_engine.py:192\u001b[0m, in \u001b[0;36mRetrieverQueryEngine._aquery\u001b[0;34m(self, query_bundle)\u001b[0m\n\u001b[1;32m    187\u001b[0m \u001b[38;5;28;01mwith\u001b[39;00m \u001b[38;5;28mself\u001b[39m\u001b[38;5;241m.\u001b[39mcallback_manager\u001b[38;5;241m.\u001b[39mevent(\n\u001b[1;32m    188\u001b[0m     CBEventType\u001b[38;5;241m.\u001b[39mQUERY, payload\u001b[38;5;241m=\u001b[39m{EventPayload\u001b[38;5;241m.\u001b[39mQUERY_STR: query_bundle\u001b[38;5;241m.\u001b[39mquery_str}\n\u001b[1;32m    189\u001b[0m ) \u001b[38;5;28;01mas\u001b[39;00m query_event:\n\u001b[1;32m    190\u001b[0m     nodes \u001b[38;5;241m=\u001b[39m \u001b[38;5;28;01mawait\u001b[39;00m \u001b[38;5;28mself\u001b[39m\u001b[38;5;241m.\u001b[39maretrieve(query_bundle)\n\u001b[0;32m--> 192\u001b[0m     response \u001b[38;5;241m=\u001b[39m \u001b[38;5;28;01mawait\u001b[39;00m \u001b[38;5;28mself\u001b[39m\u001b[38;5;241m.\u001b[39m_response_synthesizer\u001b[38;5;241m.\u001b[39masynthesize(\n\u001b[1;32m    193\u001b[0m         query\u001b[38;5;241m=\u001b[39mquery_bundle,\n\u001b[1;32m    194\u001b[0m         nodes\u001b[38;5;241m=\u001b[39mnodes,\n\u001b[1;32m    195\u001b[0m     )\n\u001b[1;32m    197\u001b[0m     query_event\u001b[38;5;241m.\u001b[39mon_end(payload\u001b[38;5;241m=\u001b[39m{EventPayload\u001b[38;5;241m.\u001b[39mRESPONSE: response})\n\u001b[1;32m    199\u001b[0m \u001b[38;5;28;01mreturn\u001b[39;00m response\n",
      "File \u001b[0;32m~/.cache/pypoetry/virtualenvs/personal-bot-bBSbD0Py-py3.12/lib/python3.12/site-packages/llama_index/core/instrumentation/dispatcher.py:291\u001b[0m, in \u001b[0;36mDispatcher.span.<locals>.async_wrapper\u001b[0;34m(func, instance, args, kwargs)\u001b[0m\n\u001b[1;32m    283\u001b[0m \u001b[38;5;28mself\u001b[39m\u001b[38;5;241m.\u001b[39mspan_enter(\n\u001b[1;32m    284\u001b[0m     id_\u001b[38;5;241m=\u001b[39mid_,\n\u001b[1;32m    285\u001b[0m     bound_args\u001b[38;5;241m=\u001b[39mbound_args,\n\u001b[0;32m   (...)\u001b[0m\n\u001b[1;32m    288\u001b[0m     tags\u001b[38;5;241m=\u001b[39mtags,\n\u001b[1;32m    289\u001b[0m )\n\u001b[1;32m    290\u001b[0m \u001b[38;5;28;01mtry\u001b[39;00m:\n\u001b[0;32m--> 291\u001b[0m     result \u001b[38;5;241m=\u001b[39m \u001b[38;5;28;01mawait\u001b[39;00m func(\u001b[38;5;241m*\u001b[39margs, \u001b[38;5;241m*\u001b[39m\u001b[38;5;241m*\u001b[39mkwargs)\n\u001b[1;32m    292\u001b[0m \u001b[38;5;28;01mexcept\u001b[39;00m \u001b[38;5;167;01mBaseException\u001b[39;00m \u001b[38;5;28;01mas\u001b[39;00m e:\n\u001b[1;32m    293\u001b[0m     \u001b[38;5;28mself\u001b[39m\u001b[38;5;241m.\u001b[39mevent(SpanDropEvent(span_id\u001b[38;5;241m=\u001b[39mid_, err_str\u001b[38;5;241m=\u001b[39m\u001b[38;5;28mstr\u001b[39m(e)))\n",
      "File \u001b[0;32m~/.cache/pypoetry/virtualenvs/personal-bot-bBSbD0Py-py3.12/lib/python3.12/site-packages/llama_index/core/response_synthesizers/base.py:306\u001b[0m, in \u001b[0;36mBaseSynthesizer.asynthesize\u001b[0;34m(self, query, nodes, additional_source_nodes, **response_kwargs)\u001b[0m\n\u001b[1;32m    300\u001b[0m     query \u001b[38;5;241m=\u001b[39m QueryBundle(query_str\u001b[38;5;241m=\u001b[39mquery)\n\u001b[1;32m    302\u001b[0m \u001b[38;5;28;01mwith\u001b[39;00m \u001b[38;5;28mself\u001b[39m\u001b[38;5;241m.\u001b[39m_callback_manager\u001b[38;5;241m.\u001b[39mevent(\n\u001b[1;32m    303\u001b[0m     CBEventType\u001b[38;5;241m.\u001b[39mSYNTHESIZE,\n\u001b[1;32m    304\u001b[0m     payload\u001b[38;5;241m=\u001b[39m{EventPayload\u001b[38;5;241m.\u001b[39mQUERY_STR: query\u001b[38;5;241m.\u001b[39mquery_str},\n\u001b[1;32m    305\u001b[0m ) \u001b[38;5;28;01mas\u001b[39;00m event:\n\u001b[0;32m--> 306\u001b[0m     response_str \u001b[38;5;241m=\u001b[39m \u001b[38;5;28;01mawait\u001b[39;00m \u001b[38;5;28mself\u001b[39m\u001b[38;5;241m.\u001b[39maget_response(\n\u001b[1;32m    307\u001b[0m         query_str\u001b[38;5;241m=\u001b[39mquery\u001b[38;5;241m.\u001b[39mquery_str,\n\u001b[1;32m    308\u001b[0m         text_chunks\u001b[38;5;241m=\u001b[39m[\n\u001b[1;32m    309\u001b[0m             n\u001b[38;5;241m.\u001b[39mnode\u001b[38;5;241m.\u001b[39mget_content(metadata_mode\u001b[38;5;241m=\u001b[39mMetadataMode\u001b[38;5;241m.\u001b[39mLLM) \u001b[38;5;28;01mfor\u001b[39;00m n \u001b[38;5;129;01min\u001b[39;00m nodes\n\u001b[1;32m    310\u001b[0m         ],\n\u001b[1;32m    311\u001b[0m         \u001b[38;5;241m*\u001b[39m\u001b[38;5;241m*\u001b[39mresponse_kwargs,\n\u001b[1;32m    312\u001b[0m     )\n\u001b[1;32m    314\u001b[0m     additional_source_nodes \u001b[38;5;241m=\u001b[39m additional_source_nodes \u001b[38;5;129;01mor\u001b[39;00m []\n\u001b[1;32m    315\u001b[0m     source_nodes \u001b[38;5;241m=\u001b[39m \u001b[38;5;28mlist\u001b[39m(nodes) \u001b[38;5;241m+\u001b[39m \u001b[38;5;28mlist\u001b[39m(additional_source_nodes)\n",
      "File \u001b[0;32m~/.cache/pypoetry/virtualenvs/personal-bot-bBSbD0Py-py3.12/lib/python3.12/site-packages/llama_index/core/instrumentation/dispatcher.py:291\u001b[0m, in \u001b[0;36mDispatcher.span.<locals>.async_wrapper\u001b[0;34m(func, instance, args, kwargs)\u001b[0m\n\u001b[1;32m    283\u001b[0m \u001b[38;5;28mself\u001b[39m\u001b[38;5;241m.\u001b[39mspan_enter(\n\u001b[1;32m    284\u001b[0m     id_\u001b[38;5;241m=\u001b[39mid_,\n\u001b[1;32m    285\u001b[0m     bound_args\u001b[38;5;241m=\u001b[39mbound_args,\n\u001b[0;32m   (...)\u001b[0m\n\u001b[1;32m    288\u001b[0m     tags\u001b[38;5;241m=\u001b[39mtags,\n\u001b[1;32m    289\u001b[0m )\n\u001b[1;32m    290\u001b[0m \u001b[38;5;28;01mtry\u001b[39;00m:\n\u001b[0;32m--> 291\u001b[0m     result \u001b[38;5;241m=\u001b[39m \u001b[38;5;28;01mawait\u001b[39;00m func(\u001b[38;5;241m*\u001b[39margs, \u001b[38;5;241m*\u001b[39m\u001b[38;5;241m*\u001b[39mkwargs)\n\u001b[1;32m    292\u001b[0m \u001b[38;5;28;01mexcept\u001b[39;00m \u001b[38;5;167;01mBaseException\u001b[39;00m \u001b[38;5;28;01mas\u001b[39;00m e:\n\u001b[1;32m    293\u001b[0m     \u001b[38;5;28mself\u001b[39m\u001b[38;5;241m.\u001b[39mevent(SpanDropEvent(span_id\u001b[38;5;241m=\u001b[39mid_, err_str\u001b[38;5;241m=\u001b[39m\u001b[38;5;28mstr\u001b[39m(e)))\n",
      "File \u001b[0;32m~/.cache/pypoetry/virtualenvs/personal-bot-bBSbD0Py-py3.12/lib/python3.12/site-packages/llama_index/core/response_synthesizers/compact_and_refine.py:23\u001b[0m, in \u001b[0;36mCompactAndRefine.aget_response\u001b[0;34m(self, query_str, text_chunks, prev_response, **response_kwargs)\u001b[0m\n\u001b[1;32m     14\u001b[0m \u001b[38;5;129m@dispatcher\u001b[39m\u001b[38;5;241m.\u001b[39mspan\n\u001b[1;32m     15\u001b[0m \u001b[38;5;28;01masync\u001b[39;00m \u001b[38;5;28;01mdef\u001b[39;00m \u001b[38;5;21maget_response\u001b[39m(\n\u001b[1;32m     16\u001b[0m     \u001b[38;5;28mself\u001b[39m,\n\u001b[0;32m   (...)\u001b[0m\n\u001b[1;32m     20\u001b[0m     \u001b[38;5;241m*\u001b[39m\u001b[38;5;241m*\u001b[39mresponse_kwargs: Any,\n\u001b[1;32m     21\u001b[0m ) \u001b[38;5;241m-\u001b[39m\u001b[38;5;241m>\u001b[39m RESPONSE_TEXT_TYPE:\n\u001b[1;32m     22\u001b[0m     compact_texts \u001b[38;5;241m=\u001b[39m \u001b[38;5;28mself\u001b[39m\u001b[38;5;241m.\u001b[39m_make_compact_text_chunks(query_str, text_chunks)\n\u001b[0;32m---> 23\u001b[0m     \u001b[38;5;28;01mreturn\u001b[39;00m \u001b[38;5;28;01mawait\u001b[39;00m \u001b[38;5;28msuper\u001b[39m()\u001b[38;5;241m.\u001b[39maget_response(\n\u001b[1;32m     24\u001b[0m         query_str\u001b[38;5;241m=\u001b[39mquery_str,\n\u001b[1;32m     25\u001b[0m         text_chunks\u001b[38;5;241m=\u001b[39mcompact_texts,\n\u001b[1;32m     26\u001b[0m         prev_response\u001b[38;5;241m=\u001b[39mprev_response,\n\u001b[1;32m     27\u001b[0m         \u001b[38;5;241m*\u001b[39m\u001b[38;5;241m*\u001b[39mresponse_kwargs,\n\u001b[1;32m     28\u001b[0m     )\n",
      "File \u001b[0;32m~/.cache/pypoetry/virtualenvs/personal-bot-bBSbD0Py-py3.12/lib/python3.12/site-packages/llama_index/core/instrumentation/dispatcher.py:291\u001b[0m, in \u001b[0;36mDispatcher.span.<locals>.async_wrapper\u001b[0;34m(func, instance, args, kwargs)\u001b[0m\n\u001b[1;32m    283\u001b[0m \u001b[38;5;28mself\u001b[39m\u001b[38;5;241m.\u001b[39mspan_enter(\n\u001b[1;32m    284\u001b[0m     id_\u001b[38;5;241m=\u001b[39mid_,\n\u001b[1;32m    285\u001b[0m     bound_args\u001b[38;5;241m=\u001b[39mbound_args,\n\u001b[0;32m   (...)\u001b[0m\n\u001b[1;32m    288\u001b[0m     tags\u001b[38;5;241m=\u001b[39mtags,\n\u001b[1;32m    289\u001b[0m )\n\u001b[1;32m    290\u001b[0m \u001b[38;5;28;01mtry\u001b[39;00m:\n\u001b[0;32m--> 291\u001b[0m     result \u001b[38;5;241m=\u001b[39m \u001b[38;5;28;01mawait\u001b[39;00m func(\u001b[38;5;241m*\u001b[39margs, \u001b[38;5;241m*\u001b[39m\u001b[38;5;241m*\u001b[39mkwargs)\n\u001b[1;32m    292\u001b[0m \u001b[38;5;28;01mexcept\u001b[39;00m \u001b[38;5;167;01mBaseException\u001b[39;00m \u001b[38;5;28;01mas\u001b[39;00m e:\n\u001b[1;32m    293\u001b[0m     \u001b[38;5;28mself\u001b[39m\u001b[38;5;241m.\u001b[39mevent(SpanDropEvent(span_id\u001b[38;5;241m=\u001b[39mid_, err_str\u001b[38;5;241m=\u001b[39m\u001b[38;5;28mstr\u001b[39m(e)))\n",
      "File \u001b[0;32m~/.cache/pypoetry/virtualenvs/personal-bot-bBSbD0Py-py3.12/lib/python3.12/site-packages/llama_index/core/response_synthesizers/refine.py:352\u001b[0m, in \u001b[0;36mRefine.aget_response\u001b[0;34m(self, query_str, text_chunks, prev_response, **response_kwargs)\u001b[0m\n\u001b[1;32m    348\u001b[0m \u001b[38;5;28;01mfor\u001b[39;00m text_chunk \u001b[38;5;129;01min\u001b[39;00m text_chunks:\n\u001b[1;32m    349\u001b[0m     \u001b[38;5;28;01mif\u001b[39;00m prev_response \u001b[38;5;129;01mis\u001b[39;00m \u001b[38;5;28;01mNone\u001b[39;00m:\n\u001b[1;32m    350\u001b[0m         \u001b[38;5;66;03m# if this is the first chunk, and text chunk already\u001b[39;00m\n\u001b[1;32m    351\u001b[0m         \u001b[38;5;66;03m# is an answer, then return it\u001b[39;00m\n\u001b[0;32m--> 352\u001b[0m         response \u001b[38;5;241m=\u001b[39m \u001b[38;5;28;01mawait\u001b[39;00m \u001b[38;5;28mself\u001b[39m\u001b[38;5;241m.\u001b[39m_agive_response_single(\n\u001b[1;32m    353\u001b[0m             query_str, text_chunk, \u001b[38;5;241m*\u001b[39m\u001b[38;5;241m*\u001b[39mresponse_kwargs\n\u001b[1;32m    354\u001b[0m         )\n\u001b[1;32m    355\u001b[0m     \u001b[38;5;28;01melse\u001b[39;00m:\n\u001b[1;32m    356\u001b[0m         response \u001b[38;5;241m=\u001b[39m \u001b[38;5;28;01mawait\u001b[39;00m \u001b[38;5;28mself\u001b[39m\u001b[38;5;241m.\u001b[39m_arefine_response_single(\n\u001b[1;32m    357\u001b[0m             prev_response, query_str, text_chunk, \u001b[38;5;241m*\u001b[39m\u001b[38;5;241m*\u001b[39mresponse_kwargs\n\u001b[1;32m    358\u001b[0m         )\n",
      "File \u001b[0;32m~/.cache/pypoetry/virtualenvs/personal-bot-bBSbD0Py-py3.12/lib/python3.12/site-packages/llama_index/core/response_synthesizers/refine.py:471\u001b[0m, in \u001b[0;36mRefine._agive_response_single\u001b[0;34m(self, query_str, text_chunk, **response_kwargs)\u001b[0m\n\u001b[1;32m    469\u001b[0m \u001b[38;5;28;01mif\u001b[39;00m response \u001b[38;5;129;01mis\u001b[39;00m \u001b[38;5;28;01mNone\u001b[39;00m \u001b[38;5;129;01mand\u001b[39;00m \u001b[38;5;129;01mnot\u001b[39;00m \u001b[38;5;28mself\u001b[39m\u001b[38;5;241m.\u001b[39m_streaming:\n\u001b[1;32m    470\u001b[0m     \u001b[38;5;28;01mtry\u001b[39;00m:\n\u001b[0;32m--> 471\u001b[0m         structured_response \u001b[38;5;241m=\u001b[39m \u001b[38;5;28;01mawait\u001b[39;00m program\u001b[38;5;241m.\u001b[39macall(\n\u001b[1;32m    472\u001b[0m             context_str\u001b[38;5;241m=\u001b[39mcur_text_chunk,\n\u001b[1;32m    473\u001b[0m             \u001b[38;5;241m*\u001b[39m\u001b[38;5;241m*\u001b[39mresponse_kwargs,\n\u001b[1;32m    474\u001b[0m         )\n\u001b[1;32m    475\u001b[0m         structured_response \u001b[38;5;241m=\u001b[39m cast(\n\u001b[1;32m    476\u001b[0m             StructuredRefineResponse, structured_response\n\u001b[1;32m    477\u001b[0m         )\n\u001b[1;32m    478\u001b[0m         query_satisfied \u001b[38;5;241m=\u001b[39m structured_response\u001b[38;5;241m.\u001b[39mquery_satisfied\n",
      "File \u001b[0;32m~/.cache/pypoetry/virtualenvs/personal-bot-bBSbD0Py-py3.12/lib/python3.12/site-packages/llama_index/core/response_synthesizers/refine.py:94\u001b[0m, in \u001b[0;36mDefaultRefineProgram.acall\u001b[0;34m(self, *args, **kwds)\u001b[0m\n\u001b[1;32m     92\u001b[0m     answer \u001b[38;5;241m=\u001b[39m answer\u001b[38;5;241m.\u001b[39mmodel_dump_json()\n\u001b[1;32m     93\u001b[0m \u001b[38;5;28;01melse\u001b[39;00m:\n\u001b[0;32m---> 94\u001b[0m     answer \u001b[38;5;241m=\u001b[39m \u001b[38;5;28;01mawait\u001b[39;00m \u001b[38;5;28mself\u001b[39m\u001b[38;5;241m.\u001b[39m_llm\u001b[38;5;241m.\u001b[39mapredict(\n\u001b[1;32m     95\u001b[0m         \u001b[38;5;28mself\u001b[39m\u001b[38;5;241m.\u001b[39m_prompt,\n\u001b[1;32m     96\u001b[0m         \u001b[38;5;241m*\u001b[39m\u001b[38;5;241m*\u001b[39mkwds,\n\u001b[1;32m     97\u001b[0m     )\n\u001b[1;32m     98\u001b[0m \u001b[38;5;28;01mreturn\u001b[39;00m StructuredRefineResponse(answer\u001b[38;5;241m=\u001b[39manswer, query_satisfied\u001b[38;5;241m=\u001b[39m\u001b[38;5;28;01mTrue\u001b[39;00m)\n",
      "File \u001b[0;32m~/.cache/pypoetry/virtualenvs/personal-bot-bBSbD0Py-py3.12/lib/python3.12/site-packages/llama_index/core/instrumentation/dispatcher.py:291\u001b[0m, in \u001b[0;36mDispatcher.span.<locals>.async_wrapper\u001b[0;34m(func, instance, args, kwargs)\u001b[0m\n\u001b[1;32m    283\u001b[0m \u001b[38;5;28mself\u001b[39m\u001b[38;5;241m.\u001b[39mspan_enter(\n\u001b[1;32m    284\u001b[0m     id_\u001b[38;5;241m=\u001b[39mid_,\n\u001b[1;32m    285\u001b[0m     bound_args\u001b[38;5;241m=\u001b[39mbound_args,\n\u001b[0;32m   (...)\u001b[0m\n\u001b[1;32m    288\u001b[0m     tags\u001b[38;5;241m=\u001b[39mtags,\n\u001b[1;32m    289\u001b[0m )\n\u001b[1;32m    290\u001b[0m \u001b[38;5;28;01mtry\u001b[39;00m:\n\u001b[0;32m--> 291\u001b[0m     result \u001b[38;5;241m=\u001b[39m \u001b[38;5;28;01mawait\u001b[39;00m func(\u001b[38;5;241m*\u001b[39margs, \u001b[38;5;241m*\u001b[39m\u001b[38;5;241m*\u001b[39mkwargs)\n\u001b[1;32m    292\u001b[0m \u001b[38;5;28;01mexcept\u001b[39;00m \u001b[38;5;167;01mBaseException\u001b[39;00m \u001b[38;5;28;01mas\u001b[39;00m e:\n\u001b[1;32m    293\u001b[0m     \u001b[38;5;28mself\u001b[39m\u001b[38;5;241m.\u001b[39mevent(SpanDropEvent(span_id\u001b[38;5;241m=\u001b[39mid_, err_str\u001b[38;5;241m=\u001b[39m\u001b[38;5;28mstr\u001b[39m(e)))\n",
      "File \u001b[0;32m~/.cache/pypoetry/virtualenvs/personal-bot-bBSbD0Py-py3.12/lib/python3.12/site-packages/llama_index/core/llms/llm.py:664\u001b[0m, in \u001b[0;36mLLM.apredict\u001b[0;34m(self, prompt, **prompt_args)\u001b[0m\n\u001b[1;32m    662\u001b[0m \u001b[38;5;28;01mif\u001b[39;00m \u001b[38;5;28mself\u001b[39m\u001b[38;5;241m.\u001b[39mmetadata\u001b[38;5;241m.\u001b[39mis_chat_model:\n\u001b[1;32m    663\u001b[0m     messages \u001b[38;5;241m=\u001b[39m \u001b[38;5;28mself\u001b[39m\u001b[38;5;241m.\u001b[39m_get_messages(prompt, \u001b[38;5;241m*\u001b[39m\u001b[38;5;241m*\u001b[39mprompt_args)\n\u001b[0;32m--> 664\u001b[0m     chat_response \u001b[38;5;241m=\u001b[39m \u001b[38;5;28;01mawait\u001b[39;00m \u001b[38;5;28mself\u001b[39m\u001b[38;5;241m.\u001b[39machat(messages)\n\u001b[1;32m    665\u001b[0m     output \u001b[38;5;241m=\u001b[39m chat_response\u001b[38;5;241m.\u001b[39mmessage\u001b[38;5;241m.\u001b[39mcontent \u001b[38;5;129;01mor\u001b[39;00m \u001b[38;5;124m\"\u001b[39m\u001b[38;5;124m\"\u001b[39m\n\u001b[1;32m    666\u001b[0m \u001b[38;5;28;01melse\u001b[39;00m:\n",
      "File \u001b[0;32m~/.cache/pypoetry/virtualenvs/personal-bot-bBSbD0Py-py3.12/lib/python3.12/site-packages/llama_index/core/instrumentation/dispatcher.py:291\u001b[0m, in \u001b[0;36mDispatcher.span.<locals>.async_wrapper\u001b[0;34m(func, instance, args, kwargs)\u001b[0m\n\u001b[1;32m    283\u001b[0m \u001b[38;5;28mself\u001b[39m\u001b[38;5;241m.\u001b[39mspan_enter(\n\u001b[1;32m    284\u001b[0m     id_\u001b[38;5;241m=\u001b[39mid_,\n\u001b[1;32m    285\u001b[0m     bound_args\u001b[38;5;241m=\u001b[39mbound_args,\n\u001b[0;32m   (...)\u001b[0m\n\u001b[1;32m    288\u001b[0m     tags\u001b[38;5;241m=\u001b[39mtags,\n\u001b[1;32m    289\u001b[0m )\n\u001b[1;32m    290\u001b[0m \u001b[38;5;28;01mtry\u001b[39;00m:\n\u001b[0;32m--> 291\u001b[0m     result \u001b[38;5;241m=\u001b[39m \u001b[38;5;28;01mawait\u001b[39;00m func(\u001b[38;5;241m*\u001b[39margs, \u001b[38;5;241m*\u001b[39m\u001b[38;5;241m*\u001b[39mkwargs)\n\u001b[1;32m    292\u001b[0m \u001b[38;5;28;01mexcept\u001b[39;00m \u001b[38;5;167;01mBaseException\u001b[39;00m \u001b[38;5;28;01mas\u001b[39;00m e:\n\u001b[1;32m    293\u001b[0m     \u001b[38;5;28mself\u001b[39m\u001b[38;5;241m.\u001b[39mevent(SpanDropEvent(span_id\u001b[38;5;241m=\u001b[39mid_, err_str\u001b[38;5;241m=\u001b[39m\u001b[38;5;28mstr\u001b[39m(e)))\n",
      "File \u001b[0;32m~/.cache/pypoetry/virtualenvs/personal-bot-bBSbD0Py-py3.12/lib/python3.12/site-packages/llama_index/core/llms/callbacks.py:78\u001b[0m, in \u001b[0;36mllm_chat_callback.<locals>.wrap.<locals>.wrapped_async_llm_chat\u001b[0;34m(_self, messages, **kwargs)\u001b[0m\n\u001b[1;32m     69\u001b[0m event_id \u001b[38;5;241m=\u001b[39m callback_manager\u001b[38;5;241m.\u001b[39mon_event_start(\n\u001b[1;32m     70\u001b[0m     CBEventType\u001b[38;5;241m.\u001b[39mLLM,\n\u001b[1;32m     71\u001b[0m     payload\u001b[38;5;241m=\u001b[39m{\n\u001b[0;32m   (...)\u001b[0m\n\u001b[1;32m     75\u001b[0m     },\n\u001b[1;32m     76\u001b[0m )\n\u001b[1;32m     77\u001b[0m \u001b[38;5;28;01mtry\u001b[39;00m:\n\u001b[0;32m---> 78\u001b[0m     f_return_val \u001b[38;5;241m=\u001b[39m \u001b[38;5;28;01mawait\u001b[39;00m f(_self, messages, \u001b[38;5;241m*\u001b[39m\u001b[38;5;241m*\u001b[39mkwargs)\n\u001b[1;32m     79\u001b[0m \u001b[38;5;28;01mexcept\u001b[39;00m \u001b[38;5;167;01mBaseException\u001b[39;00m \u001b[38;5;28;01mas\u001b[39;00m e:\n\u001b[1;32m     80\u001b[0m     callback_manager\u001b[38;5;241m.\u001b[39mon_event_end(\n\u001b[1;32m     81\u001b[0m         CBEventType\u001b[38;5;241m.\u001b[39mLLM,\n\u001b[1;32m     82\u001b[0m         payload\u001b[38;5;241m=\u001b[39m{EventPayload\u001b[38;5;241m.\u001b[39mEXCEPTION: e},\n\u001b[1;32m     83\u001b[0m         event_id\u001b[38;5;241m=\u001b[39mevent_id,\n\u001b[1;32m     84\u001b[0m     )\n",
      "File \u001b[0;32m~/.cache/pypoetry/virtualenvs/personal-bot-bBSbD0Py-py3.12/lib/python3.12/site-packages/llama_index/core/llms/custom.py:49\u001b[0m, in \u001b[0;36mCustomLLM.achat\u001b[0;34m(self, messages, **kwargs)\u001b[0m\n\u001b[1;32m     43\u001b[0m \u001b[38;5;129m@llm_chat_callback\u001b[39m()\n\u001b[1;32m     44\u001b[0m \u001b[38;5;28;01masync\u001b[39;00m \u001b[38;5;28;01mdef\u001b[39;00m \u001b[38;5;21machat\u001b[39m(\n\u001b[1;32m     45\u001b[0m     \u001b[38;5;28mself\u001b[39m,\n\u001b[1;32m     46\u001b[0m     messages: Sequence[ChatMessage],\n\u001b[1;32m     47\u001b[0m     \u001b[38;5;241m*\u001b[39m\u001b[38;5;241m*\u001b[39mkwargs: Any,\n\u001b[1;32m     48\u001b[0m ) \u001b[38;5;241m-\u001b[39m\u001b[38;5;241m>\u001b[39m ChatResponse:\n\u001b[0;32m---> 49\u001b[0m     \u001b[38;5;28;01mreturn\u001b[39;00m \u001b[38;5;28;43mself\u001b[39;49m\u001b[38;5;241;43m.\u001b[39;49m\u001b[43mchat\u001b[49m\u001b[43m(\u001b[49m\u001b[43mmessages\u001b[49m\u001b[43m,\u001b[49m\u001b[43m \u001b[49m\u001b[38;5;241;43m*\u001b[39;49m\u001b[38;5;241;43m*\u001b[39;49m\u001b[43mkwargs\u001b[49m\u001b[43m)\u001b[49m\n",
      "File \u001b[0;32m~/.cache/pypoetry/virtualenvs/personal-bot-bBSbD0Py-py3.12/lib/python3.12/site-packages/llama_index/core/instrumentation/dispatcher.py:261\u001b[0m, in \u001b[0;36mDispatcher.span.<locals>.wrapper\u001b[0;34m(func, instance, args, kwargs)\u001b[0m\n\u001b[1;32m    253\u001b[0m \u001b[38;5;28mself\u001b[39m\u001b[38;5;241m.\u001b[39mspan_enter(\n\u001b[1;32m    254\u001b[0m     id_\u001b[38;5;241m=\u001b[39mid_,\n\u001b[1;32m    255\u001b[0m     bound_args\u001b[38;5;241m=\u001b[39mbound_args,\n\u001b[0;32m   (...)\u001b[0m\n\u001b[1;32m    258\u001b[0m     tags\u001b[38;5;241m=\u001b[39mtags,\n\u001b[1;32m    259\u001b[0m )\n\u001b[1;32m    260\u001b[0m \u001b[38;5;28;01mtry\u001b[39;00m:\n\u001b[0;32m--> 261\u001b[0m     result \u001b[38;5;241m=\u001b[39m \u001b[43mfunc\u001b[49m\u001b[43m(\u001b[49m\u001b[38;5;241;43m*\u001b[39;49m\u001b[43margs\u001b[49m\u001b[43m,\u001b[49m\u001b[43m \u001b[49m\u001b[38;5;241;43m*\u001b[39;49m\u001b[38;5;241;43m*\u001b[39;49m\u001b[43mkwargs\u001b[49m\u001b[43m)\u001b[49m\n\u001b[1;32m    262\u001b[0m \u001b[38;5;28;01mexcept\u001b[39;00m \u001b[38;5;167;01mBaseException\u001b[39;00m \u001b[38;5;28;01mas\u001b[39;00m e:\n\u001b[1;32m    263\u001b[0m     \u001b[38;5;28mself\u001b[39m\u001b[38;5;241m.\u001b[39mevent(SpanDropEvent(span_id\u001b[38;5;241m=\u001b[39mid_, err_str\u001b[38;5;241m=\u001b[39m\u001b[38;5;28mstr\u001b[39m(e)))\n",
      "File \u001b[0;32m~/.cache/pypoetry/virtualenvs/personal-bot-bBSbD0Py-py3.12/lib/python3.12/site-packages/llama_index/core/llms/callbacks.py:176\u001b[0m, in \u001b[0;36mllm_chat_callback.<locals>.wrap.<locals>.wrapped_llm_chat\u001b[0;34m(_self, messages, **kwargs)\u001b[0m\n\u001b[1;32m    167\u001b[0m event_id \u001b[38;5;241m=\u001b[39m callback_manager\u001b[38;5;241m.\u001b[39mon_event_start(\n\u001b[1;32m    168\u001b[0m     CBEventType\u001b[38;5;241m.\u001b[39mLLM,\n\u001b[1;32m    169\u001b[0m     payload\u001b[38;5;241m=\u001b[39m{\n\u001b[0;32m   (...)\u001b[0m\n\u001b[1;32m    173\u001b[0m     },\n\u001b[1;32m    174\u001b[0m )\n\u001b[1;32m    175\u001b[0m \u001b[38;5;28;01mtry\u001b[39;00m:\n\u001b[0;32m--> 176\u001b[0m     f_return_val \u001b[38;5;241m=\u001b[39m \u001b[43mf\u001b[49m\u001b[43m(\u001b[49m\u001b[43m_self\u001b[49m\u001b[43m,\u001b[49m\u001b[43m \u001b[49m\u001b[43mmessages\u001b[49m\u001b[43m,\u001b[49m\u001b[43m \u001b[49m\u001b[38;5;241;43m*\u001b[39;49m\u001b[38;5;241;43m*\u001b[39;49m\u001b[43mkwargs\u001b[49m\u001b[43m)\u001b[49m\n\u001b[1;32m    177\u001b[0m \u001b[38;5;28;01mexcept\u001b[39;00m \u001b[38;5;167;01mBaseException\u001b[39;00m \u001b[38;5;28;01mas\u001b[39;00m e:\n\u001b[1;32m    178\u001b[0m     callback_manager\u001b[38;5;241m.\u001b[39mon_event_end(\n\u001b[1;32m    179\u001b[0m         CBEventType\u001b[38;5;241m.\u001b[39mLLM,\n\u001b[1;32m    180\u001b[0m         payload\u001b[38;5;241m=\u001b[39m{EventPayload\u001b[38;5;241m.\u001b[39mEXCEPTION: e},\n\u001b[1;32m    181\u001b[0m         event_id\u001b[38;5;241m=\u001b[39mevent_id,\n\u001b[1;32m    182\u001b[0m     )\n",
      "File \u001b[0;32m~/.cache/pypoetry/virtualenvs/personal-bot-bBSbD0Py-py3.12/lib/python3.12/site-packages/llama_index/llms/gemini/base.py:204\u001b[0m, in \u001b[0;36mGemini.chat\u001b[0;34m(self, messages, **kwargs)\u001b[0m\n\u001b[1;32m    202\u001b[0m \u001b[38;5;241m*\u001b[39mhistory, next_msg \u001b[38;5;241m=\u001b[39m \u001b[38;5;28mmap\u001b[39m(chat_message_to_gemini, merged_messages)\n\u001b[1;32m    203\u001b[0m chat \u001b[38;5;241m=\u001b[39m \u001b[38;5;28mself\u001b[39m\u001b[38;5;241m.\u001b[39m_model\u001b[38;5;241m.\u001b[39mstart_chat(history\u001b[38;5;241m=\u001b[39mhistory)\n\u001b[0;32m--> 204\u001b[0m response \u001b[38;5;241m=\u001b[39m \u001b[43mchat\u001b[49m\u001b[38;5;241;43m.\u001b[39;49m\u001b[43msend_message\u001b[49m\u001b[43m(\u001b[49m\u001b[43mnext_msg\u001b[49m\u001b[43m)\u001b[49m\n\u001b[1;32m    205\u001b[0m \u001b[38;5;28;01mreturn\u001b[39;00m chat_from_gemini_response(response)\n",
      "File \u001b[0;32m~/.cache/pypoetry/virtualenvs/personal-bot-bBSbD0Py-py3.12/lib/python3.12/site-packages/google/generativeai/generative_models.py:496\u001b[0m, in \u001b[0;36mChatSession.send_message\u001b[0;34m(self, content, generation_config, safety_settings, stream, tools, tool_config)\u001b[0m\n\u001b[1;32m    493\u001b[0m \u001b[38;5;28;01mif\u001b[39;00m generation_config\u001b[38;5;241m.\u001b[39mget(\u001b[38;5;124m\"\u001b[39m\u001b[38;5;124mcandidate_count\u001b[39m\u001b[38;5;124m\"\u001b[39m, \u001b[38;5;241m1\u001b[39m) \u001b[38;5;241m>\u001b[39m \u001b[38;5;241m1\u001b[39m:\n\u001b[1;32m    494\u001b[0m     \u001b[38;5;28;01mraise\u001b[39;00m \u001b[38;5;167;01mValueError\u001b[39;00m(\u001b[38;5;124m\"\u001b[39m\u001b[38;5;124mCan\u001b[39m\u001b[38;5;124m'\u001b[39m\u001b[38;5;124mt chat with `candidate_count > 1`\u001b[39m\u001b[38;5;124m\"\u001b[39m)\n\u001b[0;32m--> 496\u001b[0m response \u001b[38;5;241m=\u001b[39m \u001b[38;5;28;43mself\u001b[39;49m\u001b[38;5;241;43m.\u001b[39;49m\u001b[43mmodel\u001b[49m\u001b[38;5;241;43m.\u001b[39;49m\u001b[43mgenerate_content\u001b[49m\u001b[43m(\u001b[49m\n\u001b[1;32m    497\u001b[0m \u001b[43m    \u001b[49m\u001b[43mcontents\u001b[49m\u001b[38;5;241;43m=\u001b[39;49m\u001b[43mhistory\u001b[49m\u001b[43m,\u001b[49m\n\u001b[1;32m    498\u001b[0m \u001b[43m    \u001b[49m\u001b[43mgeneration_config\u001b[49m\u001b[38;5;241;43m=\u001b[39;49m\u001b[43mgeneration_config\u001b[49m\u001b[43m,\u001b[49m\n\u001b[1;32m    499\u001b[0m \u001b[43m    \u001b[49m\u001b[43msafety_settings\u001b[49m\u001b[38;5;241;43m=\u001b[39;49m\u001b[43msafety_settings\u001b[49m\u001b[43m,\u001b[49m\n\u001b[1;32m    500\u001b[0m \u001b[43m    \u001b[49m\u001b[43mstream\u001b[49m\u001b[38;5;241;43m=\u001b[39;49m\u001b[43mstream\u001b[49m\u001b[43m,\u001b[49m\n\u001b[1;32m    501\u001b[0m \u001b[43m    \u001b[49m\u001b[43mtools\u001b[49m\u001b[38;5;241;43m=\u001b[39;49m\u001b[43mtools_lib\u001b[49m\u001b[43m,\u001b[49m\n\u001b[1;32m    502\u001b[0m \u001b[43m    \u001b[49m\u001b[43mtool_config\u001b[49m\u001b[38;5;241;43m=\u001b[39;49m\u001b[43mtool_config\u001b[49m\u001b[43m,\u001b[49m\n\u001b[1;32m    503\u001b[0m \u001b[43m\u001b[49m\u001b[43m)\u001b[49m\n\u001b[1;32m    505\u001b[0m \u001b[38;5;28mself\u001b[39m\u001b[38;5;241m.\u001b[39m_check_response(response\u001b[38;5;241m=\u001b[39mresponse, stream\u001b[38;5;241m=\u001b[39mstream)\n\u001b[1;32m    507\u001b[0m \u001b[38;5;28;01mif\u001b[39;00m \u001b[38;5;28mself\u001b[39m\u001b[38;5;241m.\u001b[39menable_automatic_function_calling \u001b[38;5;129;01mand\u001b[39;00m tools_lib \u001b[38;5;129;01mis\u001b[39;00m \u001b[38;5;129;01mnot\u001b[39;00m \u001b[38;5;28;01mNone\u001b[39;00m:\n",
      "File \u001b[0;32m~/.cache/pypoetry/virtualenvs/personal-bot-bBSbD0Py-py3.12/lib/python3.12/site-packages/google/generativeai/generative_models.py:262\u001b[0m, in \u001b[0;36mGenerativeModel.generate_content\u001b[0;34m(self, contents, generation_config, safety_settings, stream, tools, tool_config, request_options)\u001b[0m\n\u001b[1;32m    260\u001b[0m         \u001b[38;5;28;01mreturn\u001b[39;00m generation_types\u001b[38;5;241m.\u001b[39mGenerateContentResponse\u001b[38;5;241m.\u001b[39mfrom_iterator(iterator)\n\u001b[1;32m    261\u001b[0m     \u001b[38;5;28;01melse\u001b[39;00m:\n\u001b[0;32m--> 262\u001b[0m         response \u001b[38;5;241m=\u001b[39m \u001b[38;5;28;43mself\u001b[39;49m\u001b[38;5;241;43m.\u001b[39;49m\u001b[43m_client\u001b[49m\u001b[38;5;241;43m.\u001b[39;49m\u001b[43mgenerate_content\u001b[49m\u001b[43m(\u001b[49m\n\u001b[1;32m    263\u001b[0m \u001b[43m            \u001b[49m\u001b[43mrequest\u001b[49m\u001b[43m,\u001b[49m\n\u001b[1;32m    264\u001b[0m \u001b[43m            \u001b[49m\u001b[38;5;241;43m*\u001b[39;49m\u001b[38;5;241;43m*\u001b[39;49m\u001b[43mrequest_options\u001b[49m\u001b[43m,\u001b[49m\n\u001b[1;32m    265\u001b[0m \u001b[43m        \u001b[49m\u001b[43m)\u001b[49m\n\u001b[1;32m    266\u001b[0m         \u001b[38;5;28;01mreturn\u001b[39;00m generation_types\u001b[38;5;241m.\u001b[39mGenerateContentResponse\u001b[38;5;241m.\u001b[39mfrom_response(response)\n\u001b[1;32m    267\u001b[0m \u001b[38;5;28;01mexcept\u001b[39;00m google\u001b[38;5;241m.\u001b[39mapi_core\u001b[38;5;241m.\u001b[39mexceptions\u001b[38;5;241m.\u001b[39mInvalidArgument \u001b[38;5;28;01mas\u001b[39;00m e:\n",
      "File \u001b[0;32m~/.cache/pypoetry/virtualenvs/personal-bot-bBSbD0Py-py3.12/lib/python3.12/site-packages/google/ai/generativelanguage_v1beta/services/generative_service/client.py:812\u001b[0m, in \u001b[0;36mGenerativeServiceClient.generate_content\u001b[0;34m(self, request, model, contents, retry, timeout, metadata)\u001b[0m\n\u001b[1;32m    809\u001b[0m \u001b[38;5;28mself\u001b[39m\u001b[38;5;241m.\u001b[39m_validate_universe_domain()\n\u001b[1;32m    811\u001b[0m \u001b[38;5;66;03m# Send the request.\u001b[39;00m\n\u001b[0;32m--> 812\u001b[0m response \u001b[38;5;241m=\u001b[39m \u001b[43mrpc\u001b[49m\u001b[43m(\u001b[49m\n\u001b[1;32m    813\u001b[0m \u001b[43m    \u001b[49m\u001b[43mrequest\u001b[49m\u001b[43m,\u001b[49m\n\u001b[1;32m    814\u001b[0m \u001b[43m    \u001b[49m\u001b[43mretry\u001b[49m\u001b[38;5;241;43m=\u001b[39;49m\u001b[43mretry\u001b[49m\u001b[43m,\u001b[49m\n\u001b[1;32m    815\u001b[0m \u001b[43m    \u001b[49m\u001b[43mtimeout\u001b[49m\u001b[38;5;241;43m=\u001b[39;49m\u001b[43mtimeout\u001b[49m\u001b[43m,\u001b[49m\n\u001b[1;32m    816\u001b[0m \u001b[43m    \u001b[49m\u001b[43mmetadata\u001b[49m\u001b[38;5;241;43m=\u001b[39;49m\u001b[43mmetadata\u001b[49m\u001b[43m,\u001b[49m\n\u001b[1;32m    817\u001b[0m \u001b[43m\u001b[49m\u001b[43m)\u001b[49m\n\u001b[1;32m    819\u001b[0m \u001b[38;5;66;03m# Done; return the response.\u001b[39;00m\n\u001b[1;32m    820\u001b[0m \u001b[38;5;28;01mreturn\u001b[39;00m response\n",
      "File \u001b[0;32m~/.cache/pypoetry/virtualenvs/personal-bot-bBSbD0Py-py3.12/lib/python3.12/site-packages/google/api_core/gapic_v1/method.py:131\u001b[0m, in \u001b[0;36m_GapicCallable.__call__\u001b[0;34m(self, timeout, retry, compression, *args, **kwargs)\u001b[0m\n\u001b[1;32m    128\u001b[0m \u001b[38;5;28;01mif\u001b[39;00m \u001b[38;5;28mself\u001b[39m\u001b[38;5;241m.\u001b[39m_compression \u001b[38;5;129;01mis\u001b[39;00m \u001b[38;5;129;01mnot\u001b[39;00m \u001b[38;5;28;01mNone\u001b[39;00m:\n\u001b[1;32m    129\u001b[0m     kwargs[\u001b[38;5;124m\"\u001b[39m\u001b[38;5;124mcompression\u001b[39m\u001b[38;5;124m\"\u001b[39m] \u001b[38;5;241m=\u001b[39m compression\n\u001b[0;32m--> 131\u001b[0m \u001b[38;5;28;01mreturn\u001b[39;00m \u001b[43mwrapped_func\u001b[49m\u001b[43m(\u001b[49m\u001b[38;5;241;43m*\u001b[39;49m\u001b[43margs\u001b[49m\u001b[43m,\u001b[49m\u001b[43m \u001b[49m\u001b[38;5;241;43m*\u001b[39;49m\u001b[38;5;241;43m*\u001b[39;49m\u001b[43mkwargs\u001b[49m\u001b[43m)\u001b[49m\n",
      "File \u001b[0;32m~/.cache/pypoetry/virtualenvs/personal-bot-bBSbD0Py-py3.12/lib/python3.12/site-packages/google/api_core/retry/retry_unary.py:293\u001b[0m, in \u001b[0;36mRetry.__call__.<locals>.retry_wrapped_func\u001b[0;34m(*args, **kwargs)\u001b[0m\n\u001b[1;32m    289\u001b[0m target \u001b[38;5;241m=\u001b[39m functools\u001b[38;5;241m.\u001b[39mpartial(func, \u001b[38;5;241m*\u001b[39margs, \u001b[38;5;241m*\u001b[39m\u001b[38;5;241m*\u001b[39mkwargs)\n\u001b[1;32m    290\u001b[0m sleep_generator \u001b[38;5;241m=\u001b[39m exponential_sleep_generator(\n\u001b[1;32m    291\u001b[0m     \u001b[38;5;28mself\u001b[39m\u001b[38;5;241m.\u001b[39m_initial, \u001b[38;5;28mself\u001b[39m\u001b[38;5;241m.\u001b[39m_maximum, multiplier\u001b[38;5;241m=\u001b[39m\u001b[38;5;28mself\u001b[39m\u001b[38;5;241m.\u001b[39m_multiplier\n\u001b[1;32m    292\u001b[0m )\n\u001b[0;32m--> 293\u001b[0m \u001b[38;5;28;01mreturn\u001b[39;00m \u001b[43mretry_target\u001b[49m\u001b[43m(\u001b[49m\n\u001b[1;32m    294\u001b[0m \u001b[43m    \u001b[49m\u001b[43mtarget\u001b[49m\u001b[43m,\u001b[49m\n\u001b[1;32m    295\u001b[0m \u001b[43m    \u001b[49m\u001b[38;5;28;43mself\u001b[39;49m\u001b[38;5;241;43m.\u001b[39;49m\u001b[43m_predicate\u001b[49m\u001b[43m,\u001b[49m\n\u001b[1;32m    296\u001b[0m \u001b[43m    \u001b[49m\u001b[43msleep_generator\u001b[49m\u001b[43m,\u001b[49m\n\u001b[1;32m    297\u001b[0m \u001b[43m    \u001b[49m\u001b[43mtimeout\u001b[49m\u001b[38;5;241;43m=\u001b[39;49m\u001b[38;5;28;43mself\u001b[39;49m\u001b[38;5;241;43m.\u001b[39;49m\u001b[43m_timeout\u001b[49m\u001b[43m,\u001b[49m\n\u001b[1;32m    298\u001b[0m \u001b[43m    \u001b[49m\u001b[43mon_error\u001b[49m\u001b[38;5;241;43m=\u001b[39;49m\u001b[43mon_error\u001b[49m\u001b[43m,\u001b[49m\n\u001b[1;32m    299\u001b[0m \u001b[43m\u001b[49m\u001b[43m)\u001b[49m\n",
      "File \u001b[0;32m~/.cache/pypoetry/virtualenvs/personal-bot-bBSbD0Py-py3.12/lib/python3.12/site-packages/google/api_core/retry/retry_unary.py:153\u001b[0m, in \u001b[0;36mretry_target\u001b[0;34m(target, predicate, sleep_generator, timeout, on_error, exception_factory, **kwargs)\u001b[0m\n\u001b[1;32m    149\u001b[0m \u001b[38;5;66;03m# pylint: disable=broad-except\u001b[39;00m\n\u001b[1;32m    150\u001b[0m \u001b[38;5;66;03m# This function explicitly must deal with broad exceptions.\u001b[39;00m\n\u001b[1;32m    151\u001b[0m \u001b[38;5;28;01mexcept\u001b[39;00m \u001b[38;5;167;01mException\u001b[39;00m \u001b[38;5;28;01mas\u001b[39;00m exc:\n\u001b[1;32m    152\u001b[0m     \u001b[38;5;66;03m# defer to shared logic for handling errors\u001b[39;00m\n\u001b[0;32m--> 153\u001b[0m     \u001b[43m_retry_error_helper\u001b[49m\u001b[43m(\u001b[49m\n\u001b[1;32m    154\u001b[0m \u001b[43m        \u001b[49m\u001b[43mexc\u001b[49m\u001b[43m,\u001b[49m\n\u001b[1;32m    155\u001b[0m \u001b[43m        \u001b[49m\u001b[43mdeadline\u001b[49m\u001b[43m,\u001b[49m\n\u001b[1;32m    156\u001b[0m \u001b[43m        \u001b[49m\u001b[43msleep\u001b[49m\u001b[43m,\u001b[49m\n\u001b[1;32m    157\u001b[0m \u001b[43m        \u001b[49m\u001b[43merror_list\u001b[49m\u001b[43m,\u001b[49m\n\u001b[1;32m    158\u001b[0m \u001b[43m        \u001b[49m\u001b[43mpredicate\u001b[49m\u001b[43m,\u001b[49m\n\u001b[1;32m    159\u001b[0m \u001b[43m        \u001b[49m\u001b[43mon_error\u001b[49m\u001b[43m,\u001b[49m\n\u001b[1;32m    160\u001b[0m \u001b[43m        \u001b[49m\u001b[43mexception_factory\u001b[49m\u001b[43m,\u001b[49m\n\u001b[1;32m    161\u001b[0m \u001b[43m        \u001b[49m\u001b[43mtimeout\u001b[49m\u001b[43m,\u001b[49m\n\u001b[1;32m    162\u001b[0m \u001b[43m    \u001b[49m\u001b[43m)\u001b[49m\n\u001b[1;32m    163\u001b[0m     \u001b[38;5;66;03m# if exception not raised, sleep before next attempt\u001b[39;00m\n\u001b[1;32m    164\u001b[0m     time\u001b[38;5;241m.\u001b[39msleep(sleep)\n",
      "File \u001b[0;32m~/.cache/pypoetry/virtualenvs/personal-bot-bBSbD0Py-py3.12/lib/python3.12/site-packages/google/api_core/retry/retry_base.py:212\u001b[0m, in \u001b[0;36m_retry_error_helper\u001b[0;34m(exc, deadline, next_sleep, error_list, predicate_fn, on_error_fn, exc_factory_fn, original_timeout)\u001b[0m\n\u001b[1;32m    206\u001b[0m \u001b[38;5;28;01mif\u001b[39;00m \u001b[38;5;129;01mnot\u001b[39;00m predicate_fn(exc):\n\u001b[1;32m    207\u001b[0m     final_exc, source_exc \u001b[38;5;241m=\u001b[39m exc_factory_fn(\n\u001b[1;32m    208\u001b[0m         error_list,\n\u001b[1;32m    209\u001b[0m         RetryFailureReason\u001b[38;5;241m.\u001b[39mNON_RETRYABLE_ERROR,\n\u001b[1;32m    210\u001b[0m         original_timeout,\n\u001b[1;32m    211\u001b[0m     )\n\u001b[0;32m--> 212\u001b[0m     \u001b[38;5;28;01mraise\u001b[39;00m final_exc \u001b[38;5;28;01mfrom\u001b[39;00m \u001b[38;5;21;01msource_exc\u001b[39;00m\n\u001b[1;32m    213\u001b[0m \u001b[38;5;28;01mif\u001b[39;00m on_error_fn \u001b[38;5;129;01mis\u001b[39;00m \u001b[38;5;129;01mnot\u001b[39;00m \u001b[38;5;28;01mNone\u001b[39;00m:\n\u001b[1;32m    214\u001b[0m     on_error_fn(exc)\n",
      "File \u001b[0;32m~/.cache/pypoetry/virtualenvs/personal-bot-bBSbD0Py-py3.12/lib/python3.12/site-packages/google/api_core/retry/retry_unary.py:144\u001b[0m, in \u001b[0;36mretry_target\u001b[0;34m(target, predicate, sleep_generator, timeout, on_error, exception_factory, **kwargs)\u001b[0m\n\u001b[1;32m    142\u001b[0m \u001b[38;5;28;01mfor\u001b[39;00m sleep \u001b[38;5;129;01min\u001b[39;00m sleep_generator:\n\u001b[1;32m    143\u001b[0m     \u001b[38;5;28;01mtry\u001b[39;00m:\n\u001b[0;32m--> 144\u001b[0m         result \u001b[38;5;241m=\u001b[39m \u001b[43mtarget\u001b[49m\u001b[43m(\u001b[49m\u001b[43m)\u001b[49m\n\u001b[1;32m    145\u001b[0m         \u001b[38;5;28;01mif\u001b[39;00m inspect\u001b[38;5;241m.\u001b[39misawaitable(result):\n\u001b[1;32m    146\u001b[0m             warnings\u001b[38;5;241m.\u001b[39mwarn(_ASYNC_RETRY_WARNING)\n",
      "File \u001b[0;32m~/.cache/pypoetry/virtualenvs/personal-bot-bBSbD0Py-py3.12/lib/python3.12/site-packages/google/api_core/timeout.py:120\u001b[0m, in \u001b[0;36mTimeToDeadlineTimeout.__call__.<locals>.func_with_timeout\u001b[0;34m(*args, **kwargs)\u001b[0m\n\u001b[1;32m    117\u001b[0m     \u001b[38;5;66;03m# Avoid setting negative timeout\u001b[39;00m\n\u001b[1;32m    118\u001b[0m     kwargs[\u001b[38;5;124m\"\u001b[39m\u001b[38;5;124mtimeout\u001b[39m\u001b[38;5;124m\"\u001b[39m] \u001b[38;5;241m=\u001b[39m \u001b[38;5;28mmax\u001b[39m(\u001b[38;5;241m0\u001b[39m, \u001b[38;5;28mself\u001b[39m\u001b[38;5;241m.\u001b[39m_timeout \u001b[38;5;241m-\u001b[39m time_since_first_attempt)\n\u001b[0;32m--> 120\u001b[0m \u001b[38;5;28;01mreturn\u001b[39;00m \u001b[43mfunc\u001b[49m\u001b[43m(\u001b[49m\u001b[38;5;241;43m*\u001b[39;49m\u001b[43margs\u001b[49m\u001b[43m,\u001b[49m\u001b[43m \u001b[49m\u001b[38;5;241;43m*\u001b[39;49m\u001b[38;5;241;43m*\u001b[39;49m\u001b[43mkwargs\u001b[49m\u001b[43m)\u001b[49m\n",
      "File \u001b[0;32m~/.cache/pypoetry/virtualenvs/personal-bot-bBSbD0Py-py3.12/lib/python3.12/site-packages/google/api_core/grpc_helpers.py:78\u001b[0m, in \u001b[0;36m_wrap_unary_errors.<locals>.error_remapped_callable\u001b[0;34m(*args, **kwargs)\u001b[0m\n\u001b[1;32m     76\u001b[0m     \u001b[38;5;28;01mreturn\u001b[39;00m callable_(\u001b[38;5;241m*\u001b[39margs, \u001b[38;5;241m*\u001b[39m\u001b[38;5;241m*\u001b[39mkwargs)\n\u001b[1;32m     77\u001b[0m \u001b[38;5;28;01mexcept\u001b[39;00m grpc\u001b[38;5;241m.\u001b[39mRpcError \u001b[38;5;28;01mas\u001b[39;00m exc:\n\u001b[0;32m---> 78\u001b[0m     \u001b[38;5;28;01mraise\u001b[39;00m exceptions\u001b[38;5;241m.\u001b[39mfrom_grpc_error(exc) \u001b[38;5;28;01mfrom\u001b[39;00m \u001b[38;5;21;01mexc\u001b[39;00m\n",
      "\u001b[0;31mResourceExhausted\u001b[0m: 429 Resource has been exhausted (e.g. check quota)."
     ]
    }
   ],
   "source": [
    "response_eval_documents, response_synthetic_eval_dataset = response_evaluator.generate_synthetic_dataset(cfg, documents)"
   ]
  },
  {
   "cell_type": "code",
   "execution_count": null,
   "id": "a3d70f9a-0944-49c0-b8ca-0d6e47be90e8",
   "metadata": {},
   "outputs": [],
   "source": []
  }
 ],
 "metadata": {
  "kernelspec": {
   "display_name": "Python 3 (ipykernel)",
   "language": "python",
   "name": "python3"
  },
  "language_info": {
   "codemirror_mode": {
    "name": "ipython",
    "version": 3
   },
   "file_extension": ".py",
   "mimetype": "text/x-python",
   "name": "python",
   "nbconvert_exporter": "python",
   "pygments_lexer": "ipython3",
   "version": "3.12.4"
  }
 },
 "nbformat": 4,
 "nbformat_minor": 5
}
